{
 "cells": [
  {
   "cell_type": "code",
   "execution_count": 6,
   "metadata": {
    "_cell_guid": "79c7e3d0-c299-4dcb-8224-4455121ee9b0",
    "_uuid": "d629ff2d2480ee46fbb7e2d37f6b5fab8052498a"
   },
   "outputs": [],
   "source": [
    "import pandas as pd\n",
    "import numpy as np\n",
    "import matplotlib.pyplot as plt\n",
    "%matplotlib inline"
   ]
  },
  {
   "cell_type": "code",
   "execution_count": 7,
   "metadata": {},
   "outputs": [],
   "source": [
    "train_data=pd.read_csv('train.csv.zip')"
   ]
  },
  {
   "cell_type": "code",
   "execution_count": 8,
   "metadata": {},
   "outputs": [
    {
     "data": {
      "text/html": [
       "<div>\n",
       "<style scoped>\n",
       "    .dataframe tbody tr th:only-of-type {\n",
       "        vertical-align: middle;\n",
       "    }\n",
       "\n",
       "    .dataframe tbody tr th {\n",
       "        vertical-align: top;\n",
       "    }\n",
       "\n",
       "    .dataframe thead th {\n",
       "        text-align: right;\n",
       "    }\n",
       "</style>\n",
       "<table border=\"1\" class=\"dataframe\">\n",
       "  <thead>\n",
       "    <tr style=\"text-align: right;\">\n",
       "      <th></th>\n",
       "      <th>label</th>\n",
       "      <th>pixel0</th>\n",
       "      <th>pixel1</th>\n",
       "      <th>pixel2</th>\n",
       "      <th>pixel3</th>\n",
       "      <th>pixel4</th>\n",
       "      <th>pixel5</th>\n",
       "      <th>pixel6</th>\n",
       "      <th>pixel7</th>\n",
       "      <th>pixel8</th>\n",
       "      <th>...</th>\n",
       "      <th>pixel774</th>\n",
       "      <th>pixel775</th>\n",
       "      <th>pixel776</th>\n",
       "      <th>pixel777</th>\n",
       "      <th>pixel778</th>\n",
       "      <th>pixel779</th>\n",
       "      <th>pixel780</th>\n",
       "      <th>pixel781</th>\n",
       "      <th>pixel782</th>\n",
       "      <th>pixel783</th>\n",
       "    </tr>\n",
       "  </thead>\n",
       "  <tbody>\n",
       "    <tr>\n",
       "      <td>0</td>\n",
       "      <td>1</td>\n",
       "      <td>0</td>\n",
       "      <td>0</td>\n",
       "      <td>0</td>\n",
       "      <td>0</td>\n",
       "      <td>0</td>\n",
       "      <td>0</td>\n",
       "      <td>0</td>\n",
       "      <td>0</td>\n",
       "      <td>0</td>\n",
       "      <td>...</td>\n",
       "      <td>0</td>\n",
       "      <td>0</td>\n",
       "      <td>0</td>\n",
       "      <td>0</td>\n",
       "      <td>0</td>\n",
       "      <td>0</td>\n",
       "      <td>0</td>\n",
       "      <td>0</td>\n",
       "      <td>0</td>\n",
       "      <td>0</td>\n",
       "    </tr>\n",
       "    <tr>\n",
       "      <td>1</td>\n",
       "      <td>0</td>\n",
       "      <td>0</td>\n",
       "      <td>0</td>\n",
       "      <td>0</td>\n",
       "      <td>0</td>\n",
       "      <td>0</td>\n",
       "      <td>0</td>\n",
       "      <td>0</td>\n",
       "      <td>0</td>\n",
       "      <td>0</td>\n",
       "      <td>...</td>\n",
       "      <td>0</td>\n",
       "      <td>0</td>\n",
       "      <td>0</td>\n",
       "      <td>0</td>\n",
       "      <td>0</td>\n",
       "      <td>0</td>\n",
       "      <td>0</td>\n",
       "      <td>0</td>\n",
       "      <td>0</td>\n",
       "      <td>0</td>\n",
       "    </tr>\n",
       "    <tr>\n",
       "      <td>2</td>\n",
       "      <td>1</td>\n",
       "      <td>0</td>\n",
       "      <td>0</td>\n",
       "      <td>0</td>\n",
       "      <td>0</td>\n",
       "      <td>0</td>\n",
       "      <td>0</td>\n",
       "      <td>0</td>\n",
       "      <td>0</td>\n",
       "      <td>0</td>\n",
       "      <td>...</td>\n",
       "      <td>0</td>\n",
       "      <td>0</td>\n",
       "      <td>0</td>\n",
       "      <td>0</td>\n",
       "      <td>0</td>\n",
       "      <td>0</td>\n",
       "      <td>0</td>\n",
       "      <td>0</td>\n",
       "      <td>0</td>\n",
       "      <td>0</td>\n",
       "    </tr>\n",
       "    <tr>\n",
       "      <td>3</td>\n",
       "      <td>4</td>\n",
       "      <td>0</td>\n",
       "      <td>0</td>\n",
       "      <td>0</td>\n",
       "      <td>0</td>\n",
       "      <td>0</td>\n",
       "      <td>0</td>\n",
       "      <td>0</td>\n",
       "      <td>0</td>\n",
       "      <td>0</td>\n",
       "      <td>...</td>\n",
       "      <td>0</td>\n",
       "      <td>0</td>\n",
       "      <td>0</td>\n",
       "      <td>0</td>\n",
       "      <td>0</td>\n",
       "      <td>0</td>\n",
       "      <td>0</td>\n",
       "      <td>0</td>\n",
       "      <td>0</td>\n",
       "      <td>0</td>\n",
       "    </tr>\n",
       "    <tr>\n",
       "      <td>4</td>\n",
       "      <td>0</td>\n",
       "      <td>0</td>\n",
       "      <td>0</td>\n",
       "      <td>0</td>\n",
       "      <td>0</td>\n",
       "      <td>0</td>\n",
       "      <td>0</td>\n",
       "      <td>0</td>\n",
       "      <td>0</td>\n",
       "      <td>0</td>\n",
       "      <td>...</td>\n",
       "      <td>0</td>\n",
       "      <td>0</td>\n",
       "      <td>0</td>\n",
       "      <td>0</td>\n",
       "      <td>0</td>\n",
       "      <td>0</td>\n",
       "      <td>0</td>\n",
       "      <td>0</td>\n",
       "      <td>0</td>\n",
       "      <td>0</td>\n",
       "    </tr>\n",
       "  </tbody>\n",
       "</table>\n",
       "<p>5 rows × 785 columns</p>\n",
       "</div>"
      ],
      "text/plain": [
       "   label  pixel0  pixel1  pixel2  pixel3  pixel4  pixel5  pixel6  pixel7  \\\n",
       "0      1       0       0       0       0       0       0       0       0   \n",
       "1      0       0       0       0       0       0       0       0       0   \n",
       "2      1       0       0       0       0       0       0       0       0   \n",
       "3      4       0       0       0       0       0       0       0       0   \n",
       "4      0       0       0       0       0       0       0       0       0   \n",
       "\n",
       "   pixel8  ...  pixel774  pixel775  pixel776  pixel777  pixel778  pixel779  \\\n",
       "0       0  ...         0         0         0         0         0         0   \n",
       "1       0  ...         0         0         0         0         0         0   \n",
       "2       0  ...         0         0         0         0         0         0   \n",
       "3       0  ...         0         0         0         0         0         0   \n",
       "4       0  ...         0         0         0         0         0         0   \n",
       "\n",
       "   pixel780  pixel781  pixel782  pixel783  \n",
       "0         0         0         0         0  \n",
       "1         0         0         0         0  \n",
       "2         0         0         0         0  \n",
       "3         0         0         0         0  \n",
       "4         0         0         0         0  \n",
       "\n",
       "[5 rows x 785 columns]"
      ]
     },
     "execution_count": 8,
     "metadata": {},
     "output_type": "execute_result"
    }
   ],
   "source": [
    "train_data.head()"
   ]
  },
  {
   "cell_type": "code",
   "execution_count": 9,
   "metadata": {},
   "outputs": [],
   "source": [
    "test=pd.read_csv('test.csv.zip')"
   ]
  },
  {
   "cell_type": "code",
   "execution_count": 10,
   "metadata": {},
   "outputs": [],
   "source": [
    "test=test.values.reshape(-1,28,28,1)"
   ]
  },
  {
   "cell_type": "code",
   "execution_count": 11,
   "metadata": {},
   "outputs": [],
   "source": [
    "test=test/255"
   ]
  },
  {
   "cell_type": "code",
   "execution_count": 12,
   "metadata": {},
   "outputs": [],
   "source": [
    "y=train_data['label']\n",
    "X=train_data.drop('label',axis=1)"
   ]
  },
  {
   "cell_type": "code",
   "execution_count": 13,
   "metadata": {},
   "outputs": [
    {
     "data": {
      "text/html": [
       "<div>\n",
       "<style scoped>\n",
       "    .dataframe tbody tr th:only-of-type {\n",
       "        vertical-align: middle;\n",
       "    }\n",
       "\n",
       "    .dataframe tbody tr th {\n",
       "        vertical-align: top;\n",
       "    }\n",
       "\n",
       "    .dataframe thead th {\n",
       "        text-align: right;\n",
       "    }\n",
       "</style>\n",
       "<table border=\"1\" class=\"dataframe\">\n",
       "  <thead>\n",
       "    <tr style=\"text-align: right;\">\n",
       "      <th></th>\n",
       "      <th>label</th>\n",
       "      <th>pixel0</th>\n",
       "      <th>pixel1</th>\n",
       "      <th>pixel2</th>\n",
       "      <th>pixel3</th>\n",
       "      <th>pixel4</th>\n",
       "      <th>pixel5</th>\n",
       "      <th>pixel6</th>\n",
       "      <th>pixel7</th>\n",
       "      <th>pixel8</th>\n",
       "      <th>...</th>\n",
       "      <th>pixel774</th>\n",
       "      <th>pixel775</th>\n",
       "      <th>pixel776</th>\n",
       "      <th>pixel777</th>\n",
       "      <th>pixel778</th>\n",
       "      <th>pixel779</th>\n",
       "      <th>pixel780</th>\n",
       "      <th>pixel781</th>\n",
       "      <th>pixel782</th>\n",
       "      <th>pixel783</th>\n",
       "    </tr>\n",
       "  </thead>\n",
       "  <tbody>\n",
       "    <tr>\n",
       "      <td>0</td>\n",
       "      <td>1</td>\n",
       "      <td>0</td>\n",
       "      <td>0</td>\n",
       "      <td>0</td>\n",
       "      <td>0</td>\n",
       "      <td>0</td>\n",
       "      <td>0</td>\n",
       "      <td>0</td>\n",
       "      <td>0</td>\n",
       "      <td>0</td>\n",
       "      <td>...</td>\n",
       "      <td>0</td>\n",
       "      <td>0</td>\n",
       "      <td>0</td>\n",
       "      <td>0</td>\n",
       "      <td>0</td>\n",
       "      <td>0</td>\n",
       "      <td>0</td>\n",
       "      <td>0</td>\n",
       "      <td>0</td>\n",
       "      <td>0</td>\n",
       "    </tr>\n",
       "    <tr>\n",
       "      <td>1</td>\n",
       "      <td>0</td>\n",
       "      <td>0</td>\n",
       "      <td>0</td>\n",
       "      <td>0</td>\n",
       "      <td>0</td>\n",
       "      <td>0</td>\n",
       "      <td>0</td>\n",
       "      <td>0</td>\n",
       "      <td>0</td>\n",
       "      <td>0</td>\n",
       "      <td>...</td>\n",
       "      <td>0</td>\n",
       "      <td>0</td>\n",
       "      <td>0</td>\n",
       "      <td>0</td>\n",
       "      <td>0</td>\n",
       "      <td>0</td>\n",
       "      <td>0</td>\n",
       "      <td>0</td>\n",
       "      <td>0</td>\n",
       "      <td>0</td>\n",
       "    </tr>\n",
       "    <tr>\n",
       "      <td>2</td>\n",
       "      <td>1</td>\n",
       "      <td>0</td>\n",
       "      <td>0</td>\n",
       "      <td>0</td>\n",
       "      <td>0</td>\n",
       "      <td>0</td>\n",
       "      <td>0</td>\n",
       "      <td>0</td>\n",
       "      <td>0</td>\n",
       "      <td>0</td>\n",
       "      <td>...</td>\n",
       "      <td>0</td>\n",
       "      <td>0</td>\n",
       "      <td>0</td>\n",
       "      <td>0</td>\n",
       "      <td>0</td>\n",
       "      <td>0</td>\n",
       "      <td>0</td>\n",
       "      <td>0</td>\n",
       "      <td>0</td>\n",
       "      <td>0</td>\n",
       "    </tr>\n",
       "    <tr>\n",
       "      <td>3</td>\n",
       "      <td>4</td>\n",
       "      <td>0</td>\n",
       "      <td>0</td>\n",
       "      <td>0</td>\n",
       "      <td>0</td>\n",
       "      <td>0</td>\n",
       "      <td>0</td>\n",
       "      <td>0</td>\n",
       "      <td>0</td>\n",
       "      <td>0</td>\n",
       "      <td>...</td>\n",
       "      <td>0</td>\n",
       "      <td>0</td>\n",
       "      <td>0</td>\n",
       "      <td>0</td>\n",
       "      <td>0</td>\n",
       "      <td>0</td>\n",
       "      <td>0</td>\n",
       "      <td>0</td>\n",
       "      <td>0</td>\n",
       "      <td>0</td>\n",
       "    </tr>\n",
       "    <tr>\n",
       "      <td>4</td>\n",
       "      <td>0</td>\n",
       "      <td>0</td>\n",
       "      <td>0</td>\n",
       "      <td>0</td>\n",
       "      <td>0</td>\n",
       "      <td>0</td>\n",
       "      <td>0</td>\n",
       "      <td>0</td>\n",
       "      <td>0</td>\n",
       "      <td>0</td>\n",
       "      <td>...</td>\n",
       "      <td>0</td>\n",
       "      <td>0</td>\n",
       "      <td>0</td>\n",
       "      <td>0</td>\n",
       "      <td>0</td>\n",
       "      <td>0</td>\n",
       "      <td>0</td>\n",
       "      <td>0</td>\n",
       "      <td>0</td>\n",
       "      <td>0</td>\n",
       "    </tr>\n",
       "  </tbody>\n",
       "</table>\n",
       "<p>5 rows × 785 columns</p>\n",
       "</div>"
      ],
      "text/plain": [
       "   label  pixel0  pixel1  pixel2  pixel3  pixel4  pixel5  pixel6  pixel7  \\\n",
       "0      1       0       0       0       0       0       0       0       0   \n",
       "1      0       0       0       0       0       0       0       0       0   \n",
       "2      1       0       0       0       0       0       0       0       0   \n",
       "3      4       0       0       0       0       0       0       0       0   \n",
       "4      0       0       0       0       0       0       0       0       0   \n",
       "\n",
       "   pixel8  ...  pixel774  pixel775  pixel776  pixel777  pixel778  pixel779  \\\n",
       "0       0  ...         0         0         0         0         0         0   \n",
       "1       0  ...         0         0         0         0         0         0   \n",
       "2       0  ...         0         0         0         0         0         0   \n",
       "3       0  ...         0         0         0         0         0         0   \n",
       "4       0  ...         0         0         0         0         0         0   \n",
       "\n",
       "   pixel780  pixel781  pixel782  pixel783  \n",
       "0         0         0         0         0  \n",
       "1         0         0         0         0  \n",
       "2         0         0         0         0  \n",
       "3         0         0         0         0  \n",
       "4         0         0         0         0  \n",
       "\n",
       "[5 rows x 785 columns]"
      ]
     },
     "execution_count": 13,
     "metadata": {},
     "output_type": "execute_result"
    }
   ],
   "source": [
    "train_data.head()"
   ]
  },
  {
   "cell_type": "code",
   "execution_count": 14,
   "metadata": {},
   "outputs": [],
   "source": [
    "X=X.values.reshape(-1,28,28,1)"
   ]
  },
  {
   "cell_type": "code",
   "execution_count": 15,
   "metadata": {},
   "outputs": [],
   "source": [
    "# pd.isnull(X[0])"
   ]
  },
  {
   "cell_type": "code",
   "execution_count": 16,
   "metadata": {},
   "outputs": [
    {
     "data": {
      "text/plain": [
       "255"
      ]
     },
     "execution_count": 16,
     "metadata": {},
     "output_type": "execute_result"
    }
   ],
   "source": [
    "X.max()"
   ]
  },
  {
   "cell_type": "code",
   "execution_count": 17,
   "metadata": {},
   "outputs": [],
   "source": [
    "single_image=X[4]"
   ]
  },
  {
   "cell_type": "code",
   "execution_count": 18,
   "metadata": {},
   "outputs": [],
   "source": [
    "single_image=single_image/255"
   ]
  },
  {
   "cell_type": "code",
   "execution_count": 19,
   "metadata": {},
   "outputs": [],
   "source": [
    "# single_image"
   ]
  },
  {
   "cell_type": "code",
   "execution_count": 20,
   "metadata": {},
   "outputs": [
    {
     "data": {
      "text/plain": [
       "<matplotlib.image.AxesImage at 0x11ce78cd0>"
      ]
     },
     "execution_count": 20,
     "metadata": {},
     "output_type": "execute_result"
    },
    {
     "data": {
      "image/png": "[encoded data removed]",
      "text/plain": [
       "<Figure size 432x288 with 1 Axes>"
      ]
     },
     "metadata": {
      "needs_background": "light"
     },
     "output_type": "display_data"
    }
   ],
   "source": [
    "plt.imshow(single_image[:,:,0],cmap='gray')"
   ]
  },
  {
   "cell_type": "code",
   "execution_count": null,
   "metadata": {},
   "outputs": [],
   "source": []
  },
  {
   "cell_type": "code",
   "execution_count": 21,
   "metadata": {},
   "outputs": [],
   "source": [
    "X=X/255"
   ]
  },
  {
   "cell_type": "code",
   "execution_count": 22,
   "metadata": {},
   "outputs": [],
   "source": [
    "# X"
   ]
  },
  {
   "cell_type": "code",
   "execution_count": 23,
   "metadata": {},
   "outputs": [
    {
     "name": "stderr",
     "output_type": "stream",
     "text": [
      "Using Theano backend.\n",
      "/opt/anaconda3/lib/python3.7/site-packages/tensorflow/python/framework/dtypes.py:526: FutureWarning: Passing (type, 1) or '1type' as a synonym of type is deprecated; in a future version of numpy, it will be understood as (type, (1,)) / '(1,)type'.\n",
      "  _np_qint8 = np.dtype([(\"qint8\", np.int8, 1)])\n",
      "/opt/anaconda3/lib/python3.7/site-packages/tensorflow/python/framework/dtypes.py:527: FutureWarning: Passing (type, 1) or '1type' as a synonym of type is deprecated; in a future version of numpy, it will be understood as (type, (1,)) / '(1,)type'.\n",
      "  _np_quint8 = np.dtype([(\"quint8\", np.uint8, 1)])\n",
      "/opt/anaconda3/lib/python3.7/site-packages/tensorflow/python/framework/dtypes.py:528: FutureWarning: Passing (type, 1) or '1type' as a synonym of type is deprecated; in a future version of numpy, it will be understood as (type, (1,)) / '(1,)type'.\n",
      "  _np_qint16 = np.dtype([(\"qint16\", np.int16, 1)])\n",
      "/opt/anaconda3/lib/python3.7/site-packages/tensorflow/python/framework/dtypes.py:529: FutureWarning: Passing (type, 1) or '1type' as a synonym of type is deprecated; in a future version of numpy, it will be understood as (type, (1,)) / '(1,)type'.\n",
      "  _np_quint16 = np.dtype([(\"quint16\", np.uint16, 1)])\n",
      "/opt/anaconda3/lib/python3.7/site-packages/tensorflow/python/framework/dtypes.py:530: FutureWarning: Passing (type, 1) or '1type' as a synonym of type is deprecated; in a future version of numpy, it will be understood as (type, (1,)) / '(1,)type'.\n",
      "  _np_qint32 = np.dtype([(\"qint32\", np.int32, 1)])\n",
      "/opt/anaconda3/lib/python3.7/site-packages/tensorflow/python/framework/dtypes.py:535: FutureWarning: Passing (type, 1) or '1type' as a synonym of type is deprecated; in a future version of numpy, it will be understood as (type, (1,)) / '(1,)type'.\n",
      "  np_resource = np.dtype([(\"resource\", np.ubyte, 1)])\n"
     ]
    }
   ],
   "source": [
    "from keras.utils import to_categorical"
   ]
  },
  {
   "cell_type": "code",
   "execution_count": 24,
   "metadata": {},
   "outputs": [],
   "source": [
    "# y_cat=to_categorical(y,10)"
   ]
  },
  {
   "cell_type": "code",
   "execution_count": 25,
   "metadata": {},
   "outputs": [],
   "source": [
    "from sklearn.model_selection import train_test_split"
   ]
  },
  {
   "cell_type": "code",
   "execution_count": 26,
   "metadata": {},
   "outputs": [],
   "source": [
    "X_train,X_test,y_train,y_test=train_test_split(X,y,test_size=0.1,random_state=0)"
   ]
  },
  {
   "cell_type": "code",
   "execution_count": 27,
   "metadata": {},
   "outputs": [],
   "source": [
    "y_cat_test=to_categorical(y_test)\n",
    "y_cat_train=to_categorical(y_train)"
   ]
  },
  {
   "cell_type": "code",
   "execution_count": 28,
   "metadata": {},
   "outputs": [],
   "source": [
    "# import matplotlib.pyplot as plt"
   ]
  },
  {
   "cell_type": "code",
   "execution_count": 29,
   "metadata": {},
   "outputs": [
    {
     "data": {
      "image/png": "[encoded data removed]",
      "text/plain": [
       "<Figure size 432x288 with 1 Axes>"
      ]
     },
     "metadata": {
      "needs_background": "light"
     },
     "output_type": "display_data"
    }
   ],
   "source": [
    "g = plt.imshow(X_train[0][:,:,0],cmap='gray_r')"
   ]
  },
  {
   "cell_type": "code",
   "execution_count": 30,
   "metadata": {},
   "outputs": [],
   "source": [
    "from keras.models import Sequential\n",
    "from keras.layers import Dense,Dropout,Conv2D,Flatten,MaxPooling2D"
   ]
  },
  {
   "cell_type": "code",
   "execution_count": 31,
   "metadata": {},
   "outputs": [
    {
     "name": "stderr",
     "output_type": "stream",
     "text": [
      "WARNING (theano.gof.compilelock): Overriding existing lock by dead process '4713' (I am process '4235')\n",
      "ERROR (theano.gof.opt): Optimization failure due to: constant_folding\n",
      "ERROR (theano.gof.opt): node: Elemwise{Cast{float32}}(TensorConstant{(1, 1, 1, ..8654224418})\n",
      "ERROR (theano.gof.opt): TRACEBACK:\n",
      "ERROR (theano.gof.opt): Traceback (most recent call last):\n",
      "  File \"/opt/anaconda3/lib/python3.7/site-packages/theano/gof/opt.py\", line 2034, in process_node\n",
      "    replacements = lopt.transform(node)\n",
      "  File \"/opt/anaconda3/lib/python3.7/site-packages/theano/tensor/opt.py\", line 6516, in constant_folding\n",
      "    no_recycling=[], impl=impl)\n",
      "  File \"/opt/anaconda3/lib/python3.7/site-packages/theano/gof/op.py\", line 955, in make_thunk\n",
      "    no_recycling)\n",
      "  File \"/opt/anaconda3/lib/python3.7/site-packages/theano/gof/op.py\", line 858, in make_c_thunk\n",
      "    output_storage=node_output_storage)\n",
      "  File \"/opt/anaconda3/lib/python3.7/site-packages/theano/gof/cc.py\", line 1217, in make_thunk\n",
      "    keep_lock=keep_lock)\n",
      "  File \"/opt/anaconda3/lib/python3.7/site-packages/theano/gof/cc.py\", line 1157, in __compile__\n",
      "    keep_lock=keep_lock)\n",
      "  File \"/opt/anaconda3/lib/python3.7/site-packages/theano/gof/cc.py\", line 1624, in cthunk_factory\n",
      "    key=key, lnk=self, keep_lock=keep_lock)\n",
      "  File \"/opt/anaconda3/lib/python3.7/site-packages/theano/gof/cmodule.py\", line 1189, in module_from_key\n",
      "    module = lnk.compile_cmodule(location)\n",
      "  File \"/opt/anaconda3/lib/python3.7/site-packages/theano/gof/cc.py\", line 1527, in compile_cmodule\n",
      "    preargs=preargs)\n",
      "  File \"/opt/anaconda3/lib/python3.7/site-packages/theano/gof/cmodule.py\", line 2396, in compile_str\n",
      "    (status, compile_stderr.replace('\\n', '. ')))\n",
      "Exception: (\"Compilation failed (return status=1): /Users/ayan/.theano/compiledir_Darwin-19.4.0-x86_64-i386-64bit-i386-3.7.4-64/tmpi_md_1h8/mod.cpp:396:27: error: non-constant-expression cannot be narrowed from type 'npy_intp' (aka 'long') to 'int' in initializer list [-Wc++11-narrowing].     int init_totals[4] = {V1_n0, V1_n1, V1_n2, V1_n3};.                           ^~~~~. /Users/ayan/.theano/compiledir_Darwin-19.4.0-x86_64-i386-64bit-i386-3.7.4-64/tmpi_md_1h8/mod.cpp:396:27: note: insert an explicit cast to silence this issue.     int init_totals[4] = {V1_n0, V1_n1, V1_n2, V1_n3};.                           ^~~~~.                           static_cast<int>( ). /Users/ayan/.theano/compiledir_Darwin-19.4.0-x86_64-i386-64bit-i386-3.7.4-64/tmpi_md_1h8/mod.cpp:396:34: error: non-constant-expression cannot be narrowed from type 'npy_intp' (aka 'long') to 'int' in initializer list [-Wc++11-narrowing].     int init_totals[4] = {V1_n0, V1_n1, V1_n2, V1_n3};.                                  ^~~~~. /Users/ayan/.theano/compiledir_Darwin-19.4.0-x86_64-i386-64bit-i386-3.7.4-64/tmpi_md_1h8/mod.cpp:396:34: note: insert an explicit cast to silence this issue.     int init_totals[4] = {V1_n0, V1_n1, V1_n2, V1_n3};.                                  ^~~~~.                                  static_cast<int>( ). /Users/ayan/.theano/compiledir_Darwin-19.4.0-x86_64-i386-64bit-i386-3.7.4-64/tmpi_md_1h8/mod.cpp:396:41: error: non-constant-expression cannot be narrowed from type 'npy_intp' (aka 'long') to 'int' in initializer list [-Wc++11-narrowing].     int init_totals[4] = {V1_n0, V1_n1, V1_n2, V1_n3};.                                         ^~~~~. /Users/ayan/.theano/compiledir_Darwin-19.4.0-x86_64-i386-64bit-i386-3.7.4-64/tmpi_md_1h8/mod.cpp:396:41: note: insert an explicit cast to silence this issue.     int init_totals[4] = {V1_n0, V1_n1, V1_n2, V1_n3};.                                         ^~~~~.                                         static_cast<int>( ). /Users/ayan/.theano/compiledir_Darwin-19.4.0-x86_64-i386-64bit-i386-3.7.4-64/tmpi_md_1h8/mod.cpp:396:48: error: non-constant-expression cannot be narrowed from type 'npy_intp' (aka 'long') to 'int' in initializer list [-Wc++11-narrowing].     int init_totals[4] = {V1_n0, V1_n1, V1_n2, V1_n3};.                                                ^~~~~. /Users/ayan/.theano/compiledir_Darwin-19.4.0-x86_64-i386-64bit-i386-3.7.4-64/tmpi_md_1h8/mod.cpp:396:48: note: insert an explicit cast to silence this issue.     int init_totals[4] = {V1_n0, V1_n1, V1_n2, V1_n3};.                                                ^~~~~.                                                static_cast<int>( ). /Users/ayan/.theano/compiledir_Darwin-19.4.0-x86_64-i386-64bit-i386-3.7.4-64/tmpi_md_1h8/mod.cpp:415:1: error: non-constant-expression cannot be narrowed from type 'ssize_t' (aka 'long') to 'int' in initializer list [-Wc++11-narrowing]. V1_stride0, V1_stride1, V1_stride2, V1_stride3. ^~~~~~~~~~. /Users/ayan/.theano/compiledir_Darwin-19.4.0-x86_64-i386-64bit-i386-3.7.4-64/tmpi_md_1h8/mod.cpp:415:1: note: insert an explicit cast to silence this issue. V1_stride0, V1_stride1, V1_stride2, V1_stride3. ^~~~~~~~~~. static_cast<int>( ). /Users/ayan/.theano/compiledir_Darwin-19.4.0-x86_64-i386-64bit-i386-3.7.4-64/tmpi_md_1h8/mod.cpp:415:13: error: non-constant-expression cannot be narrowed from type 'ssize_t' (aka 'long') to 'int' in initializer list [-Wc++11-narrowing]. V1_stride0, V1_stride1, V1_stride2, V1_stride3.             ^~~~~~~~~~. /Users/ayan/.theano/compiledir_Darwin-19.4.0-x86_64-i386-64bit-i386-3.7.4-64/tmpi_md_1h8/mod.cpp:415:13: note: insert an explicit cast to silence this issue. V1_stride0, V1_stride1, V1_stride2, V1_stride3.             ^~~~~~~~~~.             static_cast<int>( ). /Users/ayan/.theano/compiledir_Darwin-19.4.0-x86_64-i386-64bit-i386-3.7.4-64/tmpi_md_1h8/mod.cpp:415:25: error: non-constant-expression cannot be narrowed from type 'ssize_t' (aka 'long') to 'int' in initializer list [-Wc++11-narrowing]. V1_stride0, V1_stride1, V1_stride2, V1_stride3.                         ^~~~~~~~~~. /Users/ayan/.theano/compiledir_Darwin-19.4.0-x86_64-i386-64bit-i386-3.7.4-64/tmpi_md_1h8/mod.cpp:415:25: note: insert an explicit cast to silence this issue. V1_stride0, V1_stride1, V1_stride2, V1_stride3.                         ^~~~~~~~~~.                         static_cast<int>( ). /Users/ayan/.theano/compiledir_Darwin-19.4.0-x86_64-i386-64bit-i386-3.7.4-64/tmpi_md_1h8/mod.cpp:415:37: error: non-constant-expression cannot be narrowed from type 'ssize_t' (aka 'long') to 'int' in initializer list [-Wc++11-narrowing]. V1_stride0, V1_stride1, V1_stride2, V1_stride3.                                     ^~~~~~~~~~. /Users/ayan/.theano/compiledir_Darwin-19.4.0-x86_64-i386-64bit-i386-3.7.4-64/tmpi_md_1h8/mod.cpp:415:37: note: insert an explicit cast to silence this issue. V1_stride0, V1_stride1, V1_stride2, V1_stride3.                                     ^~~~~~~~~~.                                     static_cast<int>( ). 8 errors generated.. \", '[Elemwise{Cast{float32}}(TensorConstant{(1, 1, 1, ..8654224418})]')\n",
      "\n"
     ]
    },
    {
     "name": "stdout",
     "output_type": "stream",
     "text": [
      "\n",
      "You can find the C code in this temporary file: /var/folders/s1/00r3hqxd29xgn06sktysppgw0000gn/T/theano_compilation_error_y0ltenr3\n"
     ]
    },
    {
     "name": "stderr",
     "output_type": "stream",
     "text": [
      "ERROR (theano.gof.opt): Optimization failure due to: constant_folding\n",
      "ERROR (theano.gof.opt): node: Elemwise{Cast{float32}}(TensorConstant{(1, 1, 1, ..8654224418})\n",
      "ERROR (theano.gof.opt): TRACEBACK:\n",
      "ERROR (theano.gof.opt): Traceback (most recent call last):\n",
      "  File \"/opt/anaconda3/lib/python3.7/site-packages/theano/gof/opt.py\", line 2034, in process_node\n",
      "    replacements = lopt.transform(node)\n",
      "  File \"/opt/anaconda3/lib/python3.7/site-packages/theano/tensor/opt.py\", line 6516, in constant_folding\n",
      "    no_recycling=[], impl=impl)\n",
      "  File \"/opt/anaconda3/lib/python3.7/site-packages/theano/gof/op.py\", line 955, in make_thunk\n",
      "    no_recycling)\n",
      "  File \"/opt/anaconda3/lib/python3.7/site-packages/theano/gof/op.py\", line 858, in make_c_thunk\n",
      "    output_storage=node_output_storage)\n",
      "  File \"/opt/anaconda3/lib/python3.7/site-packages/theano/gof/cc.py\", line 1217, in make_thunk\n",
      "    keep_lock=keep_lock)\n",
      "  File \"/opt/anaconda3/lib/python3.7/site-packages/theano/gof/cc.py\", line 1157, in __compile__\n",
      "    keep_lock=keep_lock)\n",
      "  File \"/opt/anaconda3/lib/python3.7/site-packages/theano/gof/cc.py\", line 1624, in cthunk_factory\n",
      "    key=key, lnk=self, keep_lock=keep_lock)\n",
      "  File \"/opt/anaconda3/lib/python3.7/site-packages/theano/gof/cmodule.py\", line 1189, in module_from_key\n",
      "    module = lnk.compile_cmodule(location)\n",
      "  File \"/opt/anaconda3/lib/python3.7/site-packages/theano/gof/cc.py\", line 1527, in compile_cmodule\n",
      "    preargs=preargs)\n",
      "  File \"/opt/anaconda3/lib/python3.7/site-packages/theano/gof/cmodule.py\", line 2396, in compile_str\n",
      "    (status, compile_stderr.replace('\\n', '. ')))\n",
      "Exception: (\"Compilation failed (return status=1): /Users/ayan/.theano/compiledir_Darwin-19.4.0-x86_64-i386-64bit-i386-3.7.4-64/tmpdu2idmkj/mod.cpp:396:27: error: non-constant-expression cannot be narrowed from type 'npy_intp' (aka 'long') to 'int' in initializer list [-Wc++11-narrowing].     int init_totals[4] = {V1_n0, V1_n1, V1_n2, V1_n3};.                           ^~~~~. /Users/ayan/.theano/compiledir_Darwin-19.4.0-x86_64-i386-64bit-i386-3.7.4-64/tmpdu2idmkj/mod.cpp:396:27: note: insert an explicit cast to silence this issue.     int init_totals[4] = {V1_n0, V1_n1, V1_n2, V1_n3};.                           ^~~~~.                           static_cast<int>( ). /Users/ayan/.theano/compiledir_Darwin-19.4.0-x86_64-i386-64bit-i386-3.7.4-64/tmpdu2idmkj/mod.cpp:396:34: error: non-constant-expression cannot be narrowed from type 'npy_intp' (aka 'long') to 'int' in initializer list [-Wc++11-narrowing].     int init_totals[4] = {V1_n0, V1_n1, V1_n2, V1_n3};.                                  ^~~~~. /Users/ayan/.theano/compiledir_Darwin-19.4.0-x86_64-i386-64bit-i386-3.7.4-64/tmpdu2idmkj/mod.cpp:396:34: note: insert an explicit cast to silence this issue.     int init_totals[4] = {V1_n0, V1_n1, V1_n2, V1_n3};.                                  ^~~~~.                                  static_cast<int>( ). /Users/ayan/.theano/compiledir_Darwin-19.4.0-x86_64-i386-64bit-i386-3.7.4-64/tmpdu2idmkj/mod.cpp:396:41: error: non-constant-expression cannot be narrowed from type 'npy_intp' (aka 'long') to 'int' in initializer list [-Wc++11-narrowing].     int init_totals[4] = {V1_n0, V1_n1, V1_n2, V1_n3};.                                         ^~~~~. /Users/ayan/.theano/compiledir_Darwin-19.4.0-x86_64-i386-64bit-i386-3.7.4-64/tmpdu2idmkj/mod.cpp:396:41: note: insert an explicit cast to silence this issue.     int init_totals[4] = {V1_n0, V1_n1, V1_n2, V1_n3};.                                         ^~~~~.                                         static_cast<int>( ). /Users/ayan/.theano/compiledir_Darwin-19.4.0-x86_64-i386-64bit-i386-3.7.4-64/tmpdu2idmkj/mod.cpp:396:48: error: non-constant-expression cannot be narrowed from type 'npy_intp' (aka 'long') to 'int' in initializer list [-Wc++11-narrowing].     int init_totals[4] = {V1_n0, V1_n1, V1_n2, V1_n3};.                                                ^~~~~. /Users/ayan/.theano/compiledir_Darwin-19.4.0-x86_64-i386-64bit-i386-3.7.4-64/tmpdu2idmkj/mod.cpp:396:48: note: insert an explicit cast to silence this issue.     int init_totals[4] = {V1_n0, V1_n1, V1_n2, V1_n3};.                                                ^~~~~.                                                static_cast<int>( ). /Users/ayan/.theano/compiledir_Darwin-19.4.0-x86_64-i386-64bit-i386-3.7.4-64/tmpdu2idmkj/mod.cpp:415:1: error: non-constant-expression cannot be narrowed from type 'ssize_t' (aka 'long') to 'int' in initializer list [-Wc++11-narrowing]. V1_stride0, V1_stride1, V1_stride2, V1_stride3. ^~~~~~~~~~. /Users/ayan/.theano/compiledir_Darwin-19.4.0-x86_64-i386-64bit-i386-3.7.4-64/tmpdu2idmkj/mod.cpp:415:1: note: insert an explicit cast to silence this issue. V1_stride0, V1_stride1, V1_stride2, V1_stride3. ^~~~~~~~~~. static_cast<int>( ). /Users/ayan/.theano/compiledir_Darwin-19.4.0-x86_64-i386-64bit-i386-3.7.4-64/tmpdu2idmkj/mod.cpp:415:13: error: non-constant-expression cannot be narrowed from type 'ssize_t' (aka 'long') to 'int' in initializer list [-Wc++11-narrowing]. V1_stride0, V1_stride1, V1_stride2, V1_stride3.             ^~~~~~~~~~. /Users/ayan/.theano/compiledir_Darwin-19.4.0-x86_64-i386-64bit-i386-3.7.4-64/tmpdu2idmkj/mod.cpp:415:13: note: insert an explicit cast to silence this issue. V1_stride0, V1_stride1, V1_stride2, V1_stride3.             ^~~~~~~~~~.             static_cast<int>( ). /Users/ayan/.theano/compiledir_Darwin-19.4.0-x86_64-i386-64bit-i386-3.7.4-64/tmpdu2idmkj/mod.cpp:415:25: error: non-constant-expression cannot be narrowed from type 'ssize_t' (aka 'long') to 'int' in initializer list [-Wc++11-narrowing]. V1_stride0, V1_stride1, V1_stride2, V1_stride3.                         ^~~~~~~~~~. /Users/ayan/.theano/compiledir_Darwin-19.4.0-x86_64-i386-64bit-i386-3.7.4-64/tmpdu2idmkj/mod.cpp:415:25: note: insert an explicit cast to silence this issue. V1_stride0, V1_stride1, V1_stride2, V1_stride3.                         ^~~~~~~~~~.                         static_cast<int>( ). /Users/ayan/.theano/compiledir_Darwin-19.4.0-x86_64-i386-64bit-i386-3.7.4-64/tmpdu2idmkj/mod.cpp:415:37: error: non-constant-expression cannot be narrowed from type 'ssize_t' (aka 'long') to 'int' in initializer list [-Wc++11-narrowing]. V1_stride0, V1_stride1, V1_stride2, V1_stride3.                                     ^~~~~~~~~~. /Users/ayan/.theano/compiledir_Darwin-19.4.0-x86_64-i386-64bit-i386-3.7.4-64/tmpdu2idmkj/mod.cpp:415:37: note: insert an explicit cast to silence this issue. V1_stride0, V1_stride1, V1_stride2, V1_stride3.                                     ^~~~~~~~~~.                                     static_cast<int>( ). 8 errors generated.. \", '[Elemwise{Cast{float32}}(TensorConstant{(1, 1, 1, ..8654224418})]')\n",
      "\n"
     ]
    },
    {
     "name": "stdout",
     "output_type": "stream",
     "text": [
      "\n",
      "You can find the C code in this temporary file: /var/folders/s1/00r3hqxd29xgn06sktysppgw0000gn/T/theano_compilation_error_ot8uanrd\n"
     ]
    },
    {
     "name": "stderr",
     "output_type": "stream",
     "text": [
      "ERROR (theano.gof.opt): Optimization failure due to: constant_folding\n",
      "ERROR (theano.gof.opt): node: Elemwise{Cast{float32}}(TensorConstant{(1, 1, 1, ..8654224418})\n",
      "ERROR (theano.gof.opt): TRACEBACK:\n",
      "ERROR (theano.gof.opt): Traceback (most recent call last):\n",
      "  File \"/opt/anaconda3/lib/python3.7/site-packages/theano/gof/opt.py\", line 2034, in process_node\n",
      "    replacements = lopt.transform(node)\n",
      "  File \"/opt/anaconda3/lib/python3.7/site-packages/theano/tensor/opt.py\", line 6516, in constant_folding\n",
      "    no_recycling=[], impl=impl)\n",
      "  File \"/opt/anaconda3/lib/python3.7/site-packages/theano/gof/op.py\", line 955, in make_thunk\n",
      "    no_recycling)\n",
      "  File \"/opt/anaconda3/lib/python3.7/site-packages/theano/gof/op.py\", line 858, in make_c_thunk\n",
      "    output_storage=node_output_storage)\n",
      "  File \"/opt/anaconda3/lib/python3.7/site-packages/theano/gof/cc.py\", line 1217, in make_thunk\n",
      "    keep_lock=keep_lock)\n",
      "  File \"/opt/anaconda3/lib/python3.7/site-packages/theano/gof/cc.py\", line 1157, in __compile__\n",
      "    keep_lock=keep_lock)\n",
      "  File \"/opt/anaconda3/lib/python3.7/site-packages/theano/gof/cc.py\", line 1624, in cthunk_factory\n",
      "    key=key, lnk=self, keep_lock=keep_lock)\n",
      "  File \"/opt/anaconda3/lib/python3.7/site-packages/theano/gof/cmodule.py\", line 1189, in module_from_key\n",
      "    module = lnk.compile_cmodule(location)\n",
      "  File \"/opt/anaconda3/lib/python3.7/site-packages/theano/gof/cc.py\", line 1527, in compile_cmodule\n",
      "    preargs=preargs)\n",
      "  File \"/opt/anaconda3/lib/python3.7/site-packages/theano/gof/cmodule.py\", line 2396, in compile_str\n",
      "    (status, compile_stderr.replace('\\n', '. ')))\n",
      "Exception: (\"Compilation failed (return status=1): /Users/ayan/.theano/compiledir_Darwin-19.4.0-x86_64-i386-64bit-i386-3.7.4-64/tmpa5ofx_g1/mod.cpp:396:27: error: non-constant-expression cannot be narrowed from type 'npy_intp' (aka 'long') to 'int' in initializer list [-Wc++11-narrowing].     int init_totals[4] = {V1_n0, V1_n1, V1_n2, V1_n3};.                           ^~~~~. /Users/ayan/.theano/compiledir_Darwin-19.4.0-x86_64-i386-64bit-i386-3.7.4-64/tmpa5ofx_g1/mod.cpp:396:27: note: insert an explicit cast to silence this issue.     int init_totals[4] = {V1_n0, V1_n1, V1_n2, V1_n3};.                           ^~~~~.                           static_cast<int>( ). /Users/ayan/.theano/compiledir_Darwin-19.4.0-x86_64-i386-64bit-i386-3.7.4-64/tmpa5ofx_g1/mod.cpp:396:34: error: non-constant-expression cannot be narrowed from type 'npy_intp' (aka 'long') to 'int' in initializer list [-Wc++11-narrowing].     int init_totals[4] = {V1_n0, V1_n1, V1_n2, V1_n3};.                                  ^~~~~. /Users/ayan/.theano/compiledir_Darwin-19.4.0-x86_64-i386-64bit-i386-3.7.4-64/tmpa5ofx_g1/mod.cpp:396:34: note: insert an explicit cast to silence this issue.     int init_totals[4] = {V1_n0, V1_n1, V1_n2, V1_n3};.                                  ^~~~~.                                  static_cast<int>( ). /Users/ayan/.theano/compiledir_Darwin-19.4.0-x86_64-i386-64bit-i386-3.7.4-64/tmpa5ofx_g1/mod.cpp:396:41: error: non-constant-expression cannot be narrowed from type 'npy_intp' (aka 'long') to 'int' in initializer list [-Wc++11-narrowing].     int init_totals[4] = {V1_n0, V1_n1, V1_n2, V1_n3};.                                         ^~~~~. /Users/ayan/.theano/compiledir_Darwin-19.4.0-x86_64-i386-64bit-i386-3.7.4-64/tmpa5ofx_g1/mod.cpp:396:41: note: insert an explicit cast to silence this issue.     int init_totals[4] = {V1_n0, V1_n1, V1_n2, V1_n3};.                                         ^~~~~.                                         static_cast<int>( ). /Users/ayan/.theano/compiledir_Darwin-19.4.0-x86_64-i386-64bit-i386-3.7.4-64/tmpa5ofx_g1/mod.cpp:396:48: error: non-constant-expression cannot be narrowed from type 'npy_intp' (aka 'long') to 'int' in initializer list [-Wc++11-narrowing].     int init_totals[4] = {V1_n0, V1_n1, V1_n2, V1_n3};.                                                ^~~~~. /Users/ayan/.theano/compiledir_Darwin-19.4.0-x86_64-i386-64bit-i386-3.7.4-64/tmpa5ofx_g1/mod.cpp:396:48: note: insert an explicit cast to silence this issue.     int init_totals[4] = {V1_n0, V1_n1, V1_n2, V1_n3};.                                                ^~~~~.                                                static_cast<int>( ). /Users/ayan/.theano/compiledir_Darwin-19.4.0-x86_64-i386-64bit-i386-3.7.4-64/tmpa5ofx_g1/mod.cpp:415:1: error: non-constant-expression cannot be narrowed from type 'ssize_t' (aka 'long') to 'int' in initializer list [-Wc++11-narrowing]. V1_stride0, V1_stride1, V1_stride2, V1_stride3. ^~~~~~~~~~. /Users/ayan/.theano/compiledir_Darwin-19.4.0-x86_64-i386-64bit-i386-3.7.4-64/tmpa5ofx_g1/mod.cpp:415:1: note: insert an explicit cast to silence this issue. V1_stride0, V1_stride1, V1_stride2, V1_stride3. ^~~~~~~~~~. static_cast<int>( ). /Users/ayan/.theano/compiledir_Darwin-19.4.0-x86_64-i386-64bit-i386-3.7.4-64/tmpa5ofx_g1/mod.cpp:415:13: error: non-constant-expression cannot be narrowed from type 'ssize_t' (aka 'long') to 'int' in initializer list [-Wc++11-narrowing]. V1_stride0, V1_stride1, V1_stride2, V1_stride3.             ^~~~~~~~~~. /Users/ayan/.theano/compiledir_Darwin-19.4.0-x86_64-i386-64bit-i386-3.7.4-64/tmpa5ofx_g1/mod.cpp:415:13: note: insert an explicit cast to silence this issue. V1_stride0, V1_stride1, V1_stride2, V1_stride3.             ^~~~~~~~~~.             static_cast<int>( ). /Users/ayan/.theano/compiledir_Darwin-19.4.0-x86_64-i386-64bit-i386-3.7.4-64/tmpa5ofx_g1/mod.cpp:415:25: error: non-constant-expression cannot be narrowed from type 'ssize_t' (aka 'long') to 'int' in initializer list [-Wc++11-narrowing]. V1_stride0, V1_stride1, V1_stride2, V1_stride3.                         ^~~~~~~~~~. /Users/ayan/.theano/compiledir_Darwin-19.4.0-x86_64-i386-64bit-i386-3.7.4-64/tmpa5ofx_g1/mod.cpp:415:25: note: insert an explicit cast to silence this issue. V1_stride0, V1_stride1, V1_stride2, V1_stride3.                         ^~~~~~~~~~.                         static_cast<int>( ). /Users/ayan/.theano/compiledir_Darwin-19.4.0-x86_64-i386-64bit-i386-3.7.4-64/tmpa5ofx_g1/mod.cpp:415:37: error: non-constant-expression cannot be narrowed from type 'ssize_t' (aka 'long') to 'int' in initializer list [-Wc++11-narrowing]. V1_stride0, V1_stride1, V1_stride2, V1_stride3.                                     ^~~~~~~~~~. /Users/ayan/.theano/compiledir_Darwin-19.4.0-x86_64-i386-64bit-i386-3.7.4-64/tmpa5ofx_g1/mod.cpp:415:37: note: insert an explicit cast to silence this issue. V1_stride0, V1_stride1, V1_stride2, V1_stride3.                                     ^~~~~~~~~~.                                     static_cast<int>( ). 8 errors generated.. \", '[Elemwise{Cast{float32}}(TensorConstant{(1, 1, 1, ..8654224418})]')\n",
      "\n"
     ]
    },
    {
     "name": "stdout",
     "output_type": "stream",
     "text": [
      "\n",
      "You can find the C code in this temporary file: /var/folders/s1/00r3hqxd29xgn06sktysppgw0000gn/T/theano_compilation_error_l7r25gfa\n"
     ]
    },
    {
     "name": "stderr",
     "output_type": "stream",
     "text": [
      "ERROR (theano.gof.opt): Optimization failure due to: constant_folding\n",
      "ERROR (theano.gof.opt): node: Elemwise{Cast{float32}}(TensorConstant{(1, 1, 1, ..8654224418})\n",
      "ERROR (theano.gof.opt): TRACEBACK:\n",
      "ERROR (theano.gof.opt): Traceback (most recent call last):\n",
      "  File \"/opt/anaconda3/lib/python3.7/site-packages/theano/gof/opt.py\", line 2034, in process_node\n",
      "    replacements = lopt.transform(node)\n",
      "  File \"/opt/anaconda3/lib/python3.7/site-packages/theano/tensor/opt.py\", line 6516, in constant_folding\n",
      "    no_recycling=[], impl=impl)\n",
      "  File \"/opt/anaconda3/lib/python3.7/site-packages/theano/gof/op.py\", line 955, in make_thunk\n",
      "    no_recycling)\n",
      "  File \"/opt/anaconda3/lib/python3.7/site-packages/theano/gof/op.py\", line 858, in make_c_thunk\n",
      "    output_storage=node_output_storage)\n",
      "  File \"/opt/anaconda3/lib/python3.7/site-packages/theano/gof/cc.py\", line 1217, in make_thunk\n",
      "    keep_lock=keep_lock)\n",
      "  File \"/opt/anaconda3/lib/python3.7/site-packages/theano/gof/cc.py\", line 1157, in __compile__\n",
      "    keep_lock=keep_lock)\n",
      "  File \"/opt/anaconda3/lib/python3.7/site-packages/theano/gof/cc.py\", line 1624, in cthunk_factory\n",
      "    key=key, lnk=self, keep_lock=keep_lock)\n",
      "  File \"/opt/anaconda3/lib/python3.7/site-packages/theano/gof/cmodule.py\", line 1189, in module_from_key\n",
      "    module = lnk.compile_cmodule(location)\n",
      "  File \"/opt/anaconda3/lib/python3.7/site-packages/theano/gof/cc.py\", line 1527, in compile_cmodule\n",
      "    preargs=preargs)\n",
      "  File \"/opt/anaconda3/lib/python3.7/site-packages/theano/gof/cmodule.py\", line 2396, in compile_str\n",
      "    (status, compile_stderr.replace('\\n', '. ')))\n",
      "Exception: (\"Compilation failed (return status=1): /Users/ayan/.theano/compiledir_Darwin-19.4.0-x86_64-i386-64bit-i386-3.7.4-64/tmpm71tnhai/mod.cpp:396:27: error: non-constant-expression cannot be narrowed from type 'npy_intp' (aka 'long') to 'int' in initializer list [-Wc++11-narrowing].     int init_totals[4] = {V1_n0, V1_n1, V1_n2, V1_n3};.                           ^~~~~. /Users/ayan/.theano/compiledir_Darwin-19.4.0-x86_64-i386-64bit-i386-3.7.4-64/tmpm71tnhai/mod.cpp:396:27: note: insert an explicit cast to silence this issue.     int init_totals[4] = {V1_n0, V1_n1, V1_n2, V1_n3};.                           ^~~~~.                           static_cast<int>( ). /Users/ayan/.theano/compiledir_Darwin-19.4.0-x86_64-i386-64bit-i386-3.7.4-64/tmpm71tnhai/mod.cpp:396:34: error: non-constant-expression cannot be narrowed from type 'npy_intp' (aka 'long') to 'int' in initializer list [-Wc++11-narrowing].     int init_totals[4] = {V1_n0, V1_n1, V1_n2, V1_n3};.                                  ^~~~~. /Users/ayan/.theano/compiledir_Darwin-19.4.0-x86_64-i386-64bit-i386-3.7.4-64/tmpm71tnhai/mod.cpp:396:34: note: insert an explicit cast to silence this issue.     int init_totals[4] = {V1_n0, V1_n1, V1_n2, V1_n3};.                                  ^~~~~.                                  static_cast<int>( ). /Users/ayan/.theano/compiledir_Darwin-19.4.0-x86_64-i386-64bit-i386-3.7.4-64/tmpm71tnhai/mod.cpp:396:41: error: non-constant-expression cannot be narrowed from type 'npy_intp' (aka 'long') to 'int' in initializer list [-Wc++11-narrowing].     int init_totals[4] = {V1_n0, V1_n1, V1_n2, V1_n3};.                                         ^~~~~. /Users/ayan/.theano/compiledir_Darwin-19.4.0-x86_64-i386-64bit-i386-3.7.4-64/tmpm71tnhai/mod.cpp:396:41: note: insert an explicit cast to silence this issue.     int init_totals[4] = {V1_n0, V1_n1, V1_n2, V1_n3};.                                         ^~~~~.                                         static_cast<int>( ). /Users/ayan/.theano/compiledir_Darwin-19.4.0-x86_64-i386-64bit-i386-3.7.4-64/tmpm71tnhai/mod.cpp:396:48: error: non-constant-expression cannot be narrowed from type 'npy_intp' (aka 'long') to 'int' in initializer list [-Wc++11-narrowing].     int init_totals[4] = {V1_n0, V1_n1, V1_n2, V1_n3};.                                                ^~~~~. /Users/ayan/.theano/compiledir_Darwin-19.4.0-x86_64-i386-64bit-i386-3.7.4-64/tmpm71tnhai/mod.cpp:396:48: note: insert an explicit cast to silence this issue.     int init_totals[4] = {V1_n0, V1_n1, V1_n2, V1_n3};.                                                ^~~~~.                                                static_cast<int>( ). /Users/ayan/.theano/compiledir_Darwin-19.4.0-x86_64-i386-64bit-i386-3.7.4-64/tmpm71tnhai/mod.cpp:415:1: error: non-constant-expression cannot be narrowed from type 'ssize_t' (aka 'long') to 'int' in initializer list [-Wc++11-narrowing]. V1_stride0, V1_stride1, V1_stride2, V1_stride3. ^~~~~~~~~~. /Users/ayan/.theano/compiledir_Darwin-19.4.0-x86_64-i386-64bit-i386-3.7.4-64/tmpm71tnhai/mod.cpp:415:1: note: insert an explicit cast to silence this issue. V1_stride0, V1_stride1, V1_stride2, V1_stride3. ^~~~~~~~~~. static_cast<int>( ). /Users/ayan/.theano/compiledir_Darwin-19.4.0-x86_64-i386-64bit-i386-3.7.4-64/tmpm71tnhai/mod.cpp:415:13: error: non-constant-expression cannot be narrowed from type 'ssize_t' (aka 'long') to 'int' in initializer list [-Wc++11-narrowing]. V1_stride0, V1_stride1, V1_stride2, V1_stride3.             ^~~~~~~~~~. /Users/ayan/.theano/compiledir_Darwin-19.4.0-x86_64-i386-64bit-i386-3.7.4-64/tmpm71tnhai/mod.cpp:415:13: note: insert an explicit cast to silence this issue. V1_stride0, V1_stride1, V1_stride2, V1_stride3.             ^~~~~~~~~~.             static_cast<int>( ). /Users/ayan/.theano/compiledir_Darwin-19.4.0-x86_64-i386-64bit-i386-3.7.4-64/tmpm71tnhai/mod.cpp:415:25: error: non-constant-expression cannot be narrowed from type 'ssize_t' (aka 'long') to 'int' in initializer list [-Wc++11-narrowing]. V1_stride0, V1_stride1, V1_stride2, V1_stride3.                         ^~~~~~~~~~. /Users/ayan/.theano/compiledir_Darwin-19.4.0-x86_64-i386-64bit-i386-3.7.4-64/tmpm71tnhai/mod.cpp:415:25: note: insert an explicit cast to silence this issue. V1_stride0, V1_stride1, V1_stride2, V1_stride3.                         ^~~~~~~~~~.                         static_cast<int>( ). /Users/ayan/.theano/compiledir_Darwin-19.4.0-x86_64-i386-64bit-i386-3.7.4-64/tmpm71tnhai/mod.cpp:415:37: error: non-constant-expression cannot be narrowed from type 'ssize_t' (aka 'long') to 'int' in initializer list [-Wc++11-narrowing]. V1_stride0, V1_stride1, V1_stride2, V1_stride3.                                     ^~~~~~~~~~. /Users/ayan/.theano/compiledir_Darwin-19.4.0-x86_64-i386-64bit-i386-3.7.4-64/tmpm71tnhai/mod.cpp:415:37: note: insert an explicit cast to silence this issue. V1_stride0, V1_stride1, V1_stride2, V1_stride3.                                     ^~~~~~~~~~.                                     static_cast<int>( ). 8 errors generated.. \", '[Elemwise{Cast{float32}}(TensorConstant{(1, 1, 1, ..8654224418})]')\n",
      "\n"
     ]
    },
    {
     "name": "stdout",
     "output_type": "stream",
     "text": [
      "\n",
      "You can find the C code in this temporary file: /var/folders/s1/00r3hqxd29xgn06sktysppgw0000gn/T/theano_compilation_error_geo6l3o_\n"
     ]
    },
    {
     "name": "stderr",
     "output_type": "stream",
     "text": [
      "ERROR (theano.gof.opt): Optimization failure due to: constant_folding\n",
      "ERROR (theano.gof.opt): node: Elemwise{Cast{float32}}(TensorConstant{(1, 1, 1, ..8654224418})\n",
      "ERROR (theano.gof.opt): TRACEBACK:\n",
      "ERROR (theano.gof.opt): Traceback (most recent call last):\n",
      "  File \"/opt/anaconda3/lib/python3.7/site-packages/theano/gof/opt.py\", line 2034, in process_node\n",
      "    replacements = lopt.transform(node)\n",
      "  File \"/opt/anaconda3/lib/python3.7/site-packages/theano/tensor/opt.py\", line 6516, in constant_folding\n",
      "    no_recycling=[], impl=impl)\n",
      "  File \"/opt/anaconda3/lib/python3.7/site-packages/theano/gof/op.py\", line 955, in make_thunk\n",
      "    no_recycling)\n",
      "  File \"/opt/anaconda3/lib/python3.7/site-packages/theano/gof/op.py\", line 858, in make_c_thunk\n",
      "    output_storage=node_output_storage)\n",
      "  File \"/opt/anaconda3/lib/python3.7/site-packages/theano/gof/cc.py\", line 1217, in make_thunk\n",
      "    keep_lock=keep_lock)\n",
      "  File \"/opt/anaconda3/lib/python3.7/site-packages/theano/gof/cc.py\", line 1157, in __compile__\n",
      "    keep_lock=keep_lock)\n",
      "  File \"/opt/anaconda3/lib/python3.7/site-packages/theano/gof/cc.py\", line 1624, in cthunk_factory\n",
      "    key=key, lnk=self, keep_lock=keep_lock)\n",
      "  File \"/opt/anaconda3/lib/python3.7/site-packages/theano/gof/cmodule.py\", line 1189, in module_from_key\n",
      "    module = lnk.compile_cmodule(location)\n",
      "  File \"/opt/anaconda3/lib/python3.7/site-packages/theano/gof/cc.py\", line 1527, in compile_cmodule\n",
      "    preargs=preargs)\n",
      "  File \"/opt/anaconda3/lib/python3.7/site-packages/theano/gof/cmodule.py\", line 2396, in compile_str\n",
      "    (status, compile_stderr.replace('\\n', '. ')))\n",
      "Exception: (\"Compilation failed (return status=1): /Users/ayan/.theano/compiledir_Darwin-19.4.0-x86_64-i386-64bit-i386-3.7.4-64/tmpkc0dm7n7/mod.cpp:396:27: error: non-constant-expression cannot be narrowed from type 'npy_intp' (aka 'long') to 'int' in initializer list [-Wc++11-narrowing].     int init_totals[4] = {V1_n0, V1_n1, V1_n2, V1_n3};.                           ^~~~~. /Users/ayan/.theano/compiledir_Darwin-19.4.0-x86_64-i386-64bit-i386-3.7.4-64/tmpkc0dm7n7/mod.cpp:396:27: note: insert an explicit cast to silence this issue.     int init_totals[4] = {V1_n0, V1_n1, V1_n2, V1_n3};.                           ^~~~~.                           static_cast<int>( ). /Users/ayan/.theano/compiledir_Darwin-19.4.0-x86_64-i386-64bit-i386-3.7.4-64/tmpkc0dm7n7/mod.cpp:396:34: error: non-constant-expression cannot be narrowed from type 'npy_intp' (aka 'long') to 'int' in initializer list [-Wc++11-narrowing].     int init_totals[4] = {V1_n0, V1_n1, V1_n2, V1_n3};.                                  ^~~~~. /Users/ayan/.theano/compiledir_Darwin-19.4.0-x86_64-i386-64bit-i386-3.7.4-64/tmpkc0dm7n7/mod.cpp:396:34: note: insert an explicit cast to silence this issue.     int init_totals[4] = {V1_n0, V1_n1, V1_n2, V1_n3};.                                  ^~~~~.                                  static_cast<int>( ). /Users/ayan/.theano/compiledir_Darwin-19.4.0-x86_64-i386-64bit-i386-3.7.4-64/tmpkc0dm7n7/mod.cpp:396:41: error: non-constant-expression cannot be narrowed from type 'npy_intp' (aka 'long') to 'int' in initializer list [-Wc++11-narrowing].     int init_totals[4] = {V1_n0, V1_n1, V1_n2, V1_n3};.                                         ^~~~~. /Users/ayan/.theano/compiledir_Darwin-19.4.0-x86_64-i386-64bit-i386-3.7.4-64/tmpkc0dm7n7/mod.cpp:396:41: note: insert an explicit cast to silence this issue.     int init_totals[4] = {V1_n0, V1_n1, V1_n2, V1_n3};.                                         ^~~~~.                                         static_cast<int>( ). /Users/ayan/.theano/compiledir_Darwin-19.4.0-x86_64-i386-64bit-i386-3.7.4-64/tmpkc0dm7n7/mod.cpp:396:48: error: non-constant-expression cannot be narrowed from type 'npy_intp' (aka 'long') to 'int' in initializer list [-Wc++11-narrowing].     int init_totals[4] = {V1_n0, V1_n1, V1_n2, V1_n3};.                                                ^~~~~. /Users/ayan/.theano/compiledir_Darwin-19.4.0-x86_64-i386-64bit-i386-3.7.4-64/tmpkc0dm7n7/mod.cpp:396:48: note: insert an explicit cast to silence this issue.     int init_totals[4] = {V1_n0, V1_n1, V1_n2, V1_n3};.                                                ^~~~~.                                                static_cast<int>( ). /Users/ayan/.theano/compiledir_Darwin-19.4.0-x86_64-i386-64bit-i386-3.7.4-64/tmpkc0dm7n7/mod.cpp:415:1: error: non-constant-expression cannot be narrowed from type 'ssize_t' (aka 'long') to 'int' in initializer list [-Wc++11-narrowing]. V1_stride0, V1_stride1, V1_stride2, V1_stride3. ^~~~~~~~~~. /Users/ayan/.theano/compiledir_Darwin-19.4.0-x86_64-i386-64bit-i386-3.7.4-64/tmpkc0dm7n7/mod.cpp:415:1: note: insert an explicit cast to silence this issue. V1_stride0, V1_stride1, V1_stride2, V1_stride3. ^~~~~~~~~~. static_cast<int>( ). /Users/ayan/.theano/compiledir_Darwin-19.4.0-x86_64-i386-64bit-i386-3.7.4-64/tmpkc0dm7n7/mod.cpp:415:13: error: non-constant-expression cannot be narrowed from type 'ssize_t' (aka 'long') to 'int' in initializer list [-Wc++11-narrowing]. V1_stride0, V1_stride1, V1_stride2, V1_stride3.             ^~~~~~~~~~. /Users/ayan/.theano/compiledir_Darwin-19.4.0-x86_64-i386-64bit-i386-3.7.4-64/tmpkc0dm7n7/mod.cpp:415:13: note: insert an explicit cast to silence this issue. V1_stride0, V1_stride1, V1_stride2, V1_stride3.             ^~~~~~~~~~.             static_cast<int>( ). /Users/ayan/.theano/compiledir_Darwin-19.4.0-x86_64-i386-64bit-i386-3.7.4-64/tmpkc0dm7n7/mod.cpp:415:25: error: non-constant-expression cannot be narrowed from type 'ssize_t' (aka 'long') to 'int' in initializer list [-Wc++11-narrowing]. V1_stride0, V1_stride1, V1_stride2, V1_stride3.                         ^~~~~~~~~~. /Users/ayan/.theano/compiledir_Darwin-19.4.0-x86_64-i386-64bit-i386-3.7.4-64/tmpkc0dm7n7/mod.cpp:415:25: note: insert an explicit cast to silence this issue. V1_stride0, V1_stride1, V1_stride2, V1_stride3.                         ^~~~~~~~~~.                         static_cast<int>( ). /Users/ayan/.theano/compiledir_Darwin-19.4.0-x86_64-i386-64bit-i386-3.7.4-64/tmpkc0dm7n7/mod.cpp:415:37: error: non-constant-expression cannot be narrowed from type 'ssize_t' (aka 'long') to 'int' in initializer list [-Wc++11-narrowing]. V1_stride0, V1_stride1, V1_stride2, V1_stride3.                                     ^~~~~~~~~~. /Users/ayan/.theano/compiledir_Darwin-19.4.0-x86_64-i386-64bit-i386-3.7.4-64/tmpkc0dm7n7/mod.cpp:415:37: note: insert an explicit cast to silence this issue. V1_stride0, V1_stride1, V1_stride2, V1_stride3.                                     ^~~~~~~~~~.                                     static_cast<int>( ). 8 errors generated.. \", '[Elemwise{Cast{float32}}(TensorConstant{(1, 1, 1, ..8654224418})]')\n",
      "\n"
     ]
    },
    {
     "name": "stdout",
     "output_type": "stream",
     "text": [
      "\n",
      "You can find the C code in this temporary file: /var/folders/s1/00r3hqxd29xgn06sktysppgw0000gn/T/theano_compilation_error_jaqn0o8x\n"
     ]
    },
    {
     "name": "stderr",
     "output_type": "stream",
     "text": [
      "ERROR (theano.gof.opt): Optimization failure due to: constant_folding\n",
      "ERROR (theano.gof.opt): node: Elemwise{Cast{float32}}(TensorConstant{(1, 1, 1, ..8654224418})\n",
      "ERROR (theano.gof.opt): TRACEBACK:\n",
      "ERROR (theano.gof.opt): Traceback (most recent call last):\n",
      "  File \"/opt/anaconda3/lib/python3.7/site-packages/theano/gof/opt.py\", line 2034, in process_node\n",
      "    replacements = lopt.transform(node)\n",
      "  File \"/opt/anaconda3/lib/python3.7/site-packages/theano/tensor/opt.py\", line 6516, in constant_folding\n",
      "    no_recycling=[], impl=impl)\n",
      "  File \"/opt/anaconda3/lib/python3.7/site-packages/theano/gof/op.py\", line 955, in make_thunk\n",
      "    no_recycling)\n",
      "  File \"/opt/anaconda3/lib/python3.7/site-packages/theano/gof/op.py\", line 858, in make_c_thunk\n",
      "    output_storage=node_output_storage)\n",
      "  File \"/opt/anaconda3/lib/python3.7/site-packages/theano/gof/cc.py\", line 1217, in make_thunk\n",
      "    keep_lock=keep_lock)\n",
      "  File \"/opt/anaconda3/lib/python3.7/site-packages/theano/gof/cc.py\", line 1157, in __compile__\n",
      "    keep_lock=keep_lock)\n",
      "  File \"/opt/anaconda3/lib/python3.7/site-packages/theano/gof/cc.py\", line 1624, in cthunk_factory\n",
      "    key=key, lnk=self, keep_lock=keep_lock)\n",
      "  File \"/opt/anaconda3/lib/python3.7/site-packages/theano/gof/cmodule.py\", line 1189, in module_from_key\n",
      "    module = lnk.compile_cmodule(location)\n",
      "  File \"/opt/anaconda3/lib/python3.7/site-packages/theano/gof/cc.py\", line 1527, in compile_cmodule\n",
      "    preargs=preargs)\n",
      "  File \"/opt/anaconda3/lib/python3.7/site-packages/theano/gof/cmodule.py\", line 2396, in compile_str\n",
      "    (status, compile_stderr.replace('\\n', '. ')))\n",
      "Exception: (\"Compilation failed (return status=1): /Users/ayan/.theano/compiledir_Darwin-19.4.0-x86_64-i386-64bit-i386-3.7.4-64/tmp6vq0fxsj/mod.cpp:396:27: error: non-constant-expression cannot be narrowed from type 'npy_intp' (aka 'long') to 'int' in initializer list [-Wc++11-narrowing].     int init_totals[4] = {V1_n0, V1_n1, V1_n2, V1_n3};.                           ^~~~~. /Users/ayan/.theano/compiledir_Darwin-19.4.0-x86_64-i386-64bit-i386-3.7.4-64/tmp6vq0fxsj/mod.cpp:396:27: note: insert an explicit cast to silence this issue.     int init_totals[4] = {V1_n0, V1_n1, V1_n2, V1_n3};.                           ^~~~~.                           static_cast<int>( ). /Users/ayan/.theano/compiledir_Darwin-19.4.0-x86_64-i386-64bit-i386-3.7.4-64/tmp6vq0fxsj/mod.cpp:396:34: error: non-constant-expression cannot be narrowed from type 'npy_intp' (aka 'long') to 'int' in initializer list [-Wc++11-narrowing].     int init_totals[4] = {V1_n0, V1_n1, V1_n2, V1_n3};.                                  ^~~~~. /Users/ayan/.theano/compiledir_Darwin-19.4.0-x86_64-i386-64bit-i386-3.7.4-64/tmp6vq0fxsj/mod.cpp:396:34: note: insert an explicit cast to silence this issue.     int init_totals[4] = {V1_n0, V1_n1, V1_n2, V1_n3};.                                  ^~~~~.                                  static_cast<int>( ). /Users/ayan/.theano/compiledir_Darwin-19.4.0-x86_64-i386-64bit-i386-3.7.4-64/tmp6vq0fxsj/mod.cpp:396:41: error: non-constant-expression cannot be narrowed from type 'npy_intp' (aka 'long') to 'int' in initializer list [-Wc++11-narrowing].     int init_totals[4] = {V1_n0, V1_n1, V1_n2, V1_n3};.                                         ^~~~~. /Users/ayan/.theano/compiledir_Darwin-19.4.0-x86_64-i386-64bit-i386-3.7.4-64/tmp6vq0fxsj/mod.cpp:396:41: note: insert an explicit cast to silence this issue.     int init_totals[4] = {V1_n0, V1_n1, V1_n2, V1_n3};.                                         ^~~~~.                                         static_cast<int>( ). /Users/ayan/.theano/compiledir_Darwin-19.4.0-x86_64-i386-64bit-i386-3.7.4-64/tmp6vq0fxsj/mod.cpp:396:48: error: non-constant-expression cannot be narrowed from type 'npy_intp' (aka 'long') to 'int' in initializer list [-Wc++11-narrowing].     int init_totals[4] = {V1_n0, V1_n1, V1_n2, V1_n3};.                                                ^~~~~. /Users/ayan/.theano/compiledir_Darwin-19.4.0-x86_64-i386-64bit-i386-3.7.4-64/tmp6vq0fxsj/mod.cpp:396:48: note: insert an explicit cast to silence this issue.     int init_totals[4] = {V1_n0, V1_n1, V1_n2, V1_n3};.                                                ^~~~~.                                                static_cast<int>( ). /Users/ayan/.theano/compiledir_Darwin-19.4.0-x86_64-i386-64bit-i386-3.7.4-64/tmp6vq0fxsj/mod.cpp:415:1: error: non-constant-expression cannot be narrowed from type 'ssize_t' (aka 'long') to 'int' in initializer list [-Wc++11-narrowing]. V1_stride0, V1_stride1, V1_stride2, V1_stride3. ^~~~~~~~~~. /Users/ayan/.theano/compiledir_Darwin-19.4.0-x86_64-i386-64bit-i386-3.7.4-64/tmp6vq0fxsj/mod.cpp:415:1: note: insert an explicit cast to silence this issue. V1_stride0, V1_stride1, V1_stride2, V1_stride3. ^~~~~~~~~~. static_cast<int>( ). /Users/ayan/.theano/compiledir_Darwin-19.4.0-x86_64-i386-64bit-i386-3.7.4-64/tmp6vq0fxsj/mod.cpp:415:13: error: non-constant-expression cannot be narrowed from type 'ssize_t' (aka 'long') to 'int' in initializer list [-Wc++11-narrowing]. V1_stride0, V1_stride1, V1_stride2, V1_stride3.             ^~~~~~~~~~. /Users/ayan/.theano/compiledir_Darwin-19.4.0-x86_64-i386-64bit-i386-3.7.4-64/tmp6vq0fxsj/mod.cpp:415:13: note: insert an explicit cast to silence this issue. V1_stride0, V1_stride1, V1_stride2, V1_stride3.             ^~~~~~~~~~.             static_cast<int>( ). /Users/ayan/.theano/compiledir_Darwin-19.4.0-x86_64-i386-64bit-i386-3.7.4-64/tmp6vq0fxsj/mod.cpp:415:25: error: non-constant-expression cannot be narrowed from type 'ssize_t' (aka 'long') to 'int' in initializer list [-Wc++11-narrowing]. V1_stride0, V1_stride1, V1_stride2, V1_stride3.                         ^~~~~~~~~~. /Users/ayan/.theano/compiledir_Darwin-19.4.0-x86_64-i386-64bit-i386-3.7.4-64/tmp6vq0fxsj/mod.cpp:415:25: note: insert an explicit cast to silence this issue. V1_stride0, V1_stride1, V1_stride2, V1_stride3.                         ^~~~~~~~~~.                         static_cast<int>( ). /Users/ayan/.theano/compiledir_Darwin-19.4.0-x86_64-i386-64bit-i386-3.7.4-64/tmp6vq0fxsj/mod.cpp:415:37: error: non-constant-expression cannot be narrowed from type 'ssize_t' (aka 'long') to 'int' in initializer list [-Wc++11-narrowing]. V1_stride0, V1_stride1, V1_stride2, V1_stride3.                                     ^~~~~~~~~~. /Users/ayan/.theano/compiledir_Darwin-19.4.0-x86_64-i386-64bit-i386-3.7.4-64/tmp6vq0fxsj/mod.cpp:415:37: note: insert an explicit cast to silence this issue. V1_stride0, V1_stride1, V1_stride2, V1_stride3.                                     ^~~~~~~~~~.                                     static_cast<int>( ). 8 errors generated.. \", '[Elemwise{Cast{float32}}(TensorConstant{(1, 1, 1, ..8654224418})]')\n",
      "\n"
     ]
    },
    {
     "name": "stdout",
     "output_type": "stream",
     "text": [
      "\n",
      "You can find the C code in this temporary file: /var/folders/s1/00r3hqxd29xgn06sktysppgw0000gn/T/theano_compilation_error_js2y1npw\n"
     ]
    },
    {
     "name": "stderr",
     "output_type": "stream",
     "text": [
      "ERROR (theano.gof.opt): Optimization failure due to: constant_folding\n",
      "ERROR (theano.gof.opt): node: Elemwise{Cast{float32}}(TensorConstant{(1, 1, 1, ..8654224418})\n",
      "ERROR (theano.gof.opt): TRACEBACK:\n",
      "ERROR (theano.gof.opt): Traceback (most recent call last):\n",
      "  File \"/opt/anaconda3/lib/python3.7/site-packages/theano/gof/opt.py\", line 2034, in process_node\n",
      "    replacements = lopt.transform(node)\n",
      "  File \"/opt/anaconda3/lib/python3.7/site-packages/theano/tensor/opt.py\", line 6516, in constant_folding\n",
      "    no_recycling=[], impl=impl)\n",
      "  File \"/opt/anaconda3/lib/python3.7/site-packages/theano/gof/op.py\", line 955, in make_thunk\n",
      "    no_recycling)\n",
      "  File \"/opt/anaconda3/lib/python3.7/site-packages/theano/gof/op.py\", line 858, in make_c_thunk\n",
      "    output_storage=node_output_storage)\n",
      "  File \"/opt/anaconda3/lib/python3.7/site-packages/theano/gof/cc.py\", line 1217, in make_thunk\n",
      "    keep_lock=keep_lock)\n",
      "  File \"/opt/anaconda3/lib/python3.7/site-packages/theano/gof/cc.py\", line 1157, in __compile__\n",
      "    keep_lock=keep_lock)\n",
      "  File \"/opt/anaconda3/lib/python3.7/site-packages/theano/gof/cc.py\", line 1624, in cthunk_factory\n",
      "    key=key, lnk=self, keep_lock=keep_lock)\n",
      "  File \"/opt/anaconda3/lib/python3.7/site-packages/theano/gof/cmodule.py\", line 1189, in module_from_key\n",
      "    module = lnk.compile_cmodule(location)\n",
      "  File \"/opt/anaconda3/lib/python3.7/site-packages/theano/gof/cc.py\", line 1527, in compile_cmodule\n",
      "    preargs=preargs)\n",
      "  File \"/opt/anaconda3/lib/python3.7/site-packages/theano/gof/cmodule.py\", line 2396, in compile_str\n",
      "    (status, compile_stderr.replace('\\n', '. ')))\n",
      "Exception: (\"Compilation failed (return status=1): /Users/ayan/.theano/compiledir_Darwin-19.4.0-x86_64-i386-64bit-i386-3.7.4-64/tmp68jpm5x3/mod.cpp:396:27: error: non-constant-expression cannot be narrowed from type 'npy_intp' (aka 'long') to 'int' in initializer list [-Wc++11-narrowing].     int init_totals[4] = {V1_n0, V1_n1, V1_n2, V1_n3};.                           ^~~~~. /Users/ayan/.theano/compiledir_Darwin-19.4.0-x86_64-i386-64bit-i386-3.7.4-64/tmp68jpm5x3/mod.cpp:396:27: note: insert an explicit cast to silence this issue.     int init_totals[4] = {V1_n0, V1_n1, V1_n2, V1_n3};.                           ^~~~~.                           static_cast<int>( ). /Users/ayan/.theano/compiledir_Darwin-19.4.0-x86_64-i386-64bit-i386-3.7.4-64/tmp68jpm5x3/mod.cpp:396:34: error: non-constant-expression cannot be narrowed from type 'npy_intp' (aka 'long') to 'int' in initializer list [-Wc++11-narrowing].     int init_totals[4] = {V1_n0, V1_n1, V1_n2, V1_n3};.                                  ^~~~~. /Users/ayan/.theano/compiledir_Darwin-19.4.0-x86_64-i386-64bit-i386-3.7.4-64/tmp68jpm5x3/mod.cpp:396:34: note: insert an explicit cast to silence this issue.     int init_totals[4] = {V1_n0, V1_n1, V1_n2, V1_n3};.                                  ^~~~~.                                  static_cast<int>( ). /Users/ayan/.theano/compiledir_Darwin-19.4.0-x86_64-i386-64bit-i386-3.7.4-64/tmp68jpm5x3/mod.cpp:396:41: error: non-constant-expression cannot be narrowed from type 'npy_intp' (aka 'long') to 'int' in initializer list [-Wc++11-narrowing].     int init_totals[4] = {V1_n0, V1_n1, V1_n2, V1_n3};.                                         ^~~~~. /Users/ayan/.theano/compiledir_Darwin-19.4.0-x86_64-i386-64bit-i386-3.7.4-64/tmp68jpm5x3/mod.cpp:396:41: note: insert an explicit cast to silence this issue.     int init_totals[4] = {V1_n0, V1_n1, V1_n2, V1_n3};.                                         ^~~~~.                                         static_cast<int>( ). /Users/ayan/.theano/compiledir_Darwin-19.4.0-x86_64-i386-64bit-i386-3.7.4-64/tmp68jpm5x3/mod.cpp:396:48: error: non-constant-expression cannot be narrowed from type 'npy_intp' (aka 'long') to 'int' in initializer list [-Wc++11-narrowing].     int init_totals[4] = {V1_n0, V1_n1, V1_n2, V1_n3};.                                                ^~~~~. /Users/ayan/.theano/compiledir_Darwin-19.4.0-x86_64-i386-64bit-i386-3.7.4-64/tmp68jpm5x3/mod.cpp:396:48: note: insert an explicit cast to silence this issue.     int init_totals[4] = {V1_n0, V1_n1, V1_n2, V1_n3};.                                                ^~~~~.                                                static_cast<int>( ). /Users/ayan/.theano/compiledir_Darwin-19.4.0-x86_64-i386-64bit-i386-3.7.4-64/tmp68jpm5x3/mod.cpp:415:1: error: non-constant-expression cannot be narrowed from type 'ssize_t' (aka 'long') to 'int' in initializer list [-Wc++11-narrowing]. V1_stride0, V1_stride1, V1_stride2, V1_stride3. ^~~~~~~~~~. /Users/ayan/.theano/compiledir_Darwin-19.4.0-x86_64-i386-64bit-i386-3.7.4-64/tmp68jpm5x3/mod.cpp:415:1: note: insert an explicit cast to silence this issue. V1_stride0, V1_stride1, V1_stride2, V1_stride3. ^~~~~~~~~~. static_cast<int>( ). /Users/ayan/.theano/compiledir_Darwin-19.4.0-x86_64-i386-64bit-i386-3.7.4-64/tmp68jpm5x3/mod.cpp:415:13: error: non-constant-expression cannot be narrowed from type 'ssize_t' (aka 'long') to 'int' in initializer list [-Wc++11-narrowing]. V1_stride0, V1_stride1, V1_stride2, V1_stride3.             ^~~~~~~~~~. /Users/ayan/.theano/compiledir_Darwin-19.4.0-x86_64-i386-64bit-i386-3.7.4-64/tmp68jpm5x3/mod.cpp:415:13: note: insert an explicit cast to silence this issue. V1_stride0, V1_stride1, V1_stride2, V1_stride3.             ^~~~~~~~~~.             static_cast<int>( ). /Users/ayan/.theano/compiledir_Darwin-19.4.0-x86_64-i386-64bit-i386-3.7.4-64/tmp68jpm5x3/mod.cpp:415:25: error: non-constant-expression cannot be narrowed from type 'ssize_t' (aka 'long') to 'int' in initializer list [-Wc++11-narrowing]. V1_stride0, V1_stride1, V1_stride2, V1_stride3.                         ^~~~~~~~~~. /Users/ayan/.theano/compiledir_Darwin-19.4.0-x86_64-i386-64bit-i386-3.7.4-64/tmp68jpm5x3/mod.cpp:415:25: note: insert an explicit cast to silence this issue. V1_stride0, V1_stride1, V1_stride2, V1_stride3.                         ^~~~~~~~~~.                         static_cast<int>( ). /Users/ayan/.theano/compiledir_Darwin-19.4.0-x86_64-i386-64bit-i386-3.7.4-64/tmp68jpm5x3/mod.cpp:415:37: error: non-constant-expression cannot be narrowed from type 'ssize_t' (aka 'long') to 'int' in initializer list [-Wc++11-narrowing]. V1_stride0, V1_stride1, V1_stride2, V1_stride3.                                     ^~~~~~~~~~. /Users/ayan/.theano/compiledir_Darwin-19.4.0-x86_64-i386-64bit-i386-3.7.4-64/tmp68jpm5x3/mod.cpp:415:37: note: insert an explicit cast to silence this issue. V1_stride0, V1_stride1, V1_stride2, V1_stride3.                                     ^~~~~~~~~~.                                     static_cast<int>( ). 8 errors generated.. \", '[Elemwise{Cast{float32}}(TensorConstant{(1, 1, 1, ..8654224418})]')\n",
      "\n"
     ]
    },
    {
     "name": "stdout",
     "output_type": "stream",
     "text": [
      "\n",
      "You can find the C code in this temporary file: /var/folders/s1/00r3hqxd29xgn06sktysppgw0000gn/T/theano_compilation_error_5dzmbhgr\n"
     ]
    },
    {
     "name": "stderr",
     "output_type": "stream",
     "text": [
      "ERROR (theano.gof.opt): Optimization failure due to: constant_folding\n",
      "ERROR (theano.gof.opt): node: Elemwise{Cast{float32}}(TensorConstant{(1, 1, 1, ..8654224418})\n",
      "ERROR (theano.gof.opt): TRACEBACK:\n",
      "ERROR (theano.gof.opt): Traceback (most recent call last):\n",
      "  File \"/opt/anaconda3/lib/python3.7/site-packages/theano/gof/opt.py\", line 2034, in process_node\n",
      "    replacements = lopt.transform(node)\n",
      "  File \"/opt/anaconda3/lib/python3.7/site-packages/theano/tensor/opt.py\", line 6516, in constant_folding\n",
      "    no_recycling=[], impl=impl)\n",
      "  File \"/opt/anaconda3/lib/python3.7/site-packages/theano/gof/op.py\", line 955, in make_thunk\n",
      "    no_recycling)\n",
      "  File \"/opt/anaconda3/lib/python3.7/site-packages/theano/gof/op.py\", line 858, in make_c_thunk\n",
      "    output_storage=node_output_storage)\n",
      "  File \"/opt/anaconda3/lib/python3.7/site-packages/theano/gof/cc.py\", line 1217, in make_thunk\n",
      "    keep_lock=keep_lock)\n",
      "  File \"/opt/anaconda3/lib/python3.7/site-packages/theano/gof/cc.py\", line 1157, in __compile__\n",
      "    keep_lock=keep_lock)\n",
      "  File \"/opt/anaconda3/lib/python3.7/site-packages/theano/gof/cc.py\", line 1624, in cthunk_factory\n",
      "    key=key, lnk=self, keep_lock=keep_lock)\n",
      "  File \"/opt/anaconda3/lib/python3.7/site-packages/theano/gof/cmodule.py\", line 1189, in module_from_key\n",
      "    module = lnk.compile_cmodule(location)\n",
      "  File \"/opt/anaconda3/lib/python3.7/site-packages/theano/gof/cc.py\", line 1527, in compile_cmodule\n",
      "    preargs=preargs)\n",
      "  File \"/opt/anaconda3/lib/python3.7/site-packages/theano/gof/cmodule.py\", line 2396, in compile_str\n",
      "    (status, compile_stderr.replace('\\n', '. ')))\n",
      "Exception: (\"Compilation failed (return status=1): /Users/ayan/.theano/compiledir_Darwin-19.4.0-x86_64-i386-64bit-i386-3.7.4-64/tmpygm5mpsm/mod.cpp:396:27: error: non-constant-expression cannot be narrowed from type 'npy_intp' (aka 'long') to 'int' in initializer list [-Wc++11-narrowing].     int init_totals[4] = {V1_n0, V1_n1, V1_n2, V1_n3};.                           ^~~~~. /Users/ayan/.theano/compiledir_Darwin-19.4.0-x86_64-i386-64bit-i386-3.7.4-64/tmpygm5mpsm/mod.cpp:396:27: note: insert an explicit cast to silence this issue.     int init_totals[4] = {V1_n0, V1_n1, V1_n2, V1_n3};.                           ^~~~~.                           static_cast<int>( ). /Users/ayan/.theano/compiledir_Darwin-19.4.0-x86_64-i386-64bit-i386-3.7.4-64/tmpygm5mpsm/mod.cpp:396:34: error: non-constant-expression cannot be narrowed from type 'npy_intp' (aka 'long') to 'int' in initializer list [-Wc++11-narrowing].     int init_totals[4] = {V1_n0, V1_n1, V1_n2, V1_n3};.                                  ^~~~~. /Users/ayan/.theano/compiledir_Darwin-19.4.0-x86_64-i386-64bit-i386-3.7.4-64/tmpygm5mpsm/mod.cpp:396:34: note: insert an explicit cast to silence this issue.     int init_totals[4] = {V1_n0, V1_n1, V1_n2, V1_n3};.                                  ^~~~~.                                  static_cast<int>( ). /Users/ayan/.theano/compiledir_Darwin-19.4.0-x86_64-i386-64bit-i386-3.7.4-64/tmpygm5mpsm/mod.cpp:396:41: error: non-constant-expression cannot be narrowed from type 'npy_intp' (aka 'long') to 'int' in initializer list [-Wc++11-narrowing].     int init_totals[4] = {V1_n0, V1_n1, V1_n2, V1_n3};.                                         ^~~~~. /Users/ayan/.theano/compiledir_Darwin-19.4.0-x86_64-i386-64bit-i386-3.7.4-64/tmpygm5mpsm/mod.cpp:396:41: note: insert an explicit cast to silence this issue.     int init_totals[4] = {V1_n0, V1_n1, V1_n2, V1_n3};.                                         ^~~~~.                                         static_cast<int>( ). /Users/ayan/.theano/compiledir_Darwin-19.4.0-x86_64-i386-64bit-i386-3.7.4-64/tmpygm5mpsm/mod.cpp:396:48: error: non-constant-expression cannot be narrowed from type 'npy_intp' (aka 'long') to 'int' in initializer list [-Wc++11-narrowing].     int init_totals[4] = {V1_n0, V1_n1, V1_n2, V1_n3};.                                                ^~~~~. /Users/ayan/.theano/compiledir_Darwin-19.4.0-x86_64-i386-64bit-i386-3.7.4-64/tmpygm5mpsm/mod.cpp:396:48: note: insert an explicit cast to silence this issue.     int init_totals[4] = {V1_n0, V1_n1, V1_n2, V1_n3};.                                                ^~~~~.                                                static_cast<int>( ). /Users/ayan/.theano/compiledir_Darwin-19.4.0-x86_64-i386-64bit-i386-3.7.4-64/tmpygm5mpsm/mod.cpp:415:1: error: non-constant-expression cannot be narrowed from type 'ssize_t' (aka 'long') to 'int' in initializer list [-Wc++11-narrowing]. V1_stride0, V1_stride1, V1_stride2, V1_stride3. ^~~~~~~~~~. /Users/ayan/.theano/compiledir_Darwin-19.4.0-x86_64-i386-64bit-i386-3.7.4-64/tmpygm5mpsm/mod.cpp:415:1: note: insert an explicit cast to silence this issue. V1_stride0, V1_stride1, V1_stride2, V1_stride3. ^~~~~~~~~~. static_cast<int>( ). /Users/ayan/.theano/compiledir_Darwin-19.4.0-x86_64-i386-64bit-i386-3.7.4-64/tmpygm5mpsm/mod.cpp:415:13: error: non-constant-expression cannot be narrowed from type 'ssize_t' (aka 'long') to 'int' in initializer list [-Wc++11-narrowing]. V1_stride0, V1_stride1, V1_stride2, V1_stride3.             ^~~~~~~~~~. /Users/ayan/.theano/compiledir_Darwin-19.4.0-x86_64-i386-64bit-i386-3.7.4-64/tmpygm5mpsm/mod.cpp:415:13: note: insert an explicit cast to silence this issue. V1_stride0, V1_stride1, V1_stride2, V1_stride3.             ^~~~~~~~~~.             static_cast<int>( ). /Users/ayan/.theano/compiledir_Darwin-19.4.0-x86_64-i386-64bit-i386-3.7.4-64/tmpygm5mpsm/mod.cpp:415:25: error: non-constant-expression cannot be narrowed from type 'ssize_t' (aka 'long') to 'int' in initializer list [-Wc++11-narrowing]. V1_stride0, V1_stride1, V1_stride2, V1_stride3.                         ^~~~~~~~~~. /Users/ayan/.theano/compiledir_Darwin-19.4.0-x86_64-i386-64bit-i386-3.7.4-64/tmpygm5mpsm/mod.cpp:415:25: note: insert an explicit cast to silence this issue. V1_stride0, V1_stride1, V1_stride2, V1_stride3.                         ^~~~~~~~~~.                         static_cast<int>( ). /Users/ayan/.theano/compiledir_Darwin-19.4.0-x86_64-i386-64bit-i386-3.7.4-64/tmpygm5mpsm/mod.cpp:415:37: error: non-constant-expression cannot be narrowed from type 'ssize_t' (aka 'long') to 'int' in initializer list [-Wc++11-narrowing]. V1_stride0, V1_stride1, V1_stride2, V1_stride3.                                     ^~~~~~~~~~. /Users/ayan/.theano/compiledir_Darwin-19.4.0-x86_64-i386-64bit-i386-3.7.4-64/tmpygm5mpsm/mod.cpp:415:37: note: insert an explicit cast to silence this issue. V1_stride0, V1_stride1, V1_stride2, V1_stride3.                                     ^~~~~~~~~~.                                     static_cast<int>( ). 8 errors generated.. \", '[Elemwise{Cast{float32}}(TensorConstant{(1, 1, 1, ..8654224418})]')\n",
      "\n"
     ]
    },
    {
     "name": "stdout",
     "output_type": "stream",
     "text": [
      "\n",
      "You can find the C code in this temporary file: /var/folders/s1/00r3hqxd29xgn06sktysppgw0000gn/T/theano_compilation_error_ach__94e\n"
     ]
    },
    {
     "name": "stderr",
     "output_type": "stream",
     "text": [
      "ERROR (theano.gof.opt): Optimization failure due to: constant_folding\n",
      "ERROR (theano.gof.opt): node: Elemwise{Cast{float32}}(TensorConstant{(1, 1, 1, ..8654224418})\n",
      "ERROR (theano.gof.opt): TRACEBACK:\n",
      "ERROR (theano.gof.opt): Traceback (most recent call last):\n",
      "  File \"/opt/anaconda3/lib/python3.7/site-packages/theano/gof/opt.py\", line 2034, in process_node\n",
      "    replacements = lopt.transform(node)\n",
      "  File \"/opt/anaconda3/lib/python3.7/site-packages/theano/tensor/opt.py\", line 6516, in constant_folding\n",
      "    no_recycling=[], impl=impl)\n",
      "  File \"/opt/anaconda3/lib/python3.7/site-packages/theano/gof/op.py\", line 955, in make_thunk\n",
      "    no_recycling)\n",
      "  File \"/opt/anaconda3/lib/python3.7/site-packages/theano/gof/op.py\", line 858, in make_c_thunk\n",
      "    output_storage=node_output_storage)\n",
      "  File \"/opt/anaconda3/lib/python3.7/site-packages/theano/gof/cc.py\", line 1217, in make_thunk\n",
      "    keep_lock=keep_lock)\n",
      "  File \"/opt/anaconda3/lib/python3.7/site-packages/theano/gof/cc.py\", line 1157, in __compile__\n",
      "    keep_lock=keep_lock)\n",
      "  File \"/opt/anaconda3/lib/python3.7/site-packages/theano/gof/cc.py\", line 1624, in cthunk_factory\n",
      "    key=key, lnk=self, keep_lock=keep_lock)\n",
      "  File \"/opt/anaconda3/lib/python3.7/site-packages/theano/gof/cmodule.py\", line 1189, in module_from_key\n",
      "    module = lnk.compile_cmodule(location)\n",
      "  File \"/opt/anaconda3/lib/python3.7/site-packages/theano/gof/cc.py\", line 1527, in compile_cmodule\n",
      "    preargs=preargs)\n",
      "  File \"/opt/anaconda3/lib/python3.7/site-packages/theano/gof/cmodule.py\", line 2396, in compile_str\n",
      "    (status, compile_stderr.replace('\\n', '. ')))\n",
      "Exception: (\"Compilation failed (return status=1): /Users/ayan/.theano/compiledir_Darwin-19.4.0-x86_64-i386-64bit-i386-3.7.4-64/tmpqcs3_iou/mod.cpp:396:27: error: non-constant-expression cannot be narrowed from type 'npy_intp' (aka 'long') to 'int' in initializer list [-Wc++11-narrowing].     int init_totals[4] = {V1_n0, V1_n1, V1_n2, V1_n3};.                           ^~~~~. /Users/ayan/.theano/compiledir_Darwin-19.4.0-x86_64-i386-64bit-i386-3.7.4-64/tmpqcs3_iou/mod.cpp:396:27: note: insert an explicit cast to silence this issue.     int init_totals[4] = {V1_n0, V1_n1, V1_n2, V1_n3};.                           ^~~~~.                           static_cast<int>( ). /Users/ayan/.theano/compiledir_Darwin-19.4.0-x86_64-i386-64bit-i386-3.7.4-64/tmpqcs3_iou/mod.cpp:396:34: error: non-constant-expression cannot be narrowed from type 'npy_intp' (aka 'long') to 'int' in initializer list [-Wc++11-narrowing].     int init_totals[4] = {V1_n0, V1_n1, V1_n2, V1_n3};.                                  ^~~~~. /Users/ayan/.theano/compiledir_Darwin-19.4.0-x86_64-i386-64bit-i386-3.7.4-64/tmpqcs3_iou/mod.cpp:396:34: note: insert an explicit cast to silence this issue.     int init_totals[4] = {V1_n0, V1_n1, V1_n2, V1_n3};.                                  ^~~~~.                                  static_cast<int>( ). /Users/ayan/.theano/compiledir_Darwin-19.4.0-x86_64-i386-64bit-i386-3.7.4-64/tmpqcs3_iou/mod.cpp:396:41: error: non-constant-expression cannot be narrowed from type 'npy_intp' (aka 'long') to 'int' in initializer list [-Wc++11-narrowing].     int init_totals[4] = {V1_n0, V1_n1, V1_n2, V1_n3};.                                         ^~~~~. /Users/ayan/.theano/compiledir_Darwin-19.4.0-x86_64-i386-64bit-i386-3.7.4-64/tmpqcs3_iou/mod.cpp:396:41: note: insert an explicit cast to silence this issue.     int init_totals[4] = {V1_n0, V1_n1, V1_n2, V1_n3};.                                         ^~~~~.                                         static_cast<int>( ). /Users/ayan/.theano/compiledir_Darwin-19.4.0-x86_64-i386-64bit-i386-3.7.4-64/tmpqcs3_iou/mod.cpp:396:48: error: non-constant-expression cannot be narrowed from type 'npy_intp' (aka 'long') to 'int' in initializer list [-Wc++11-narrowing].     int init_totals[4] = {V1_n0, V1_n1, V1_n2, V1_n3};.                                                ^~~~~. /Users/ayan/.theano/compiledir_Darwin-19.4.0-x86_64-i386-64bit-i386-3.7.4-64/tmpqcs3_iou/mod.cpp:396:48: note: insert an explicit cast to silence this issue.     int init_totals[4] = {V1_n0, V1_n1, V1_n2, V1_n3};.                                                ^~~~~.                                                static_cast<int>( ). /Users/ayan/.theano/compiledir_Darwin-19.4.0-x86_64-i386-64bit-i386-3.7.4-64/tmpqcs3_iou/mod.cpp:415:1: error: non-constant-expression cannot be narrowed from type 'ssize_t' (aka 'long') to 'int' in initializer list [-Wc++11-narrowing]. V1_stride0, V1_stride1, V1_stride2, V1_stride3. ^~~~~~~~~~. /Users/ayan/.theano/compiledir_Darwin-19.4.0-x86_64-i386-64bit-i386-3.7.4-64/tmpqcs3_iou/mod.cpp:415:1: note: insert an explicit cast to silence this issue. V1_stride0, V1_stride1, V1_stride2, V1_stride3. ^~~~~~~~~~. static_cast<int>( ). /Users/ayan/.theano/compiledir_Darwin-19.4.0-x86_64-i386-64bit-i386-3.7.4-64/tmpqcs3_iou/mod.cpp:415:13: error: non-constant-expression cannot be narrowed from type 'ssize_t' (aka 'long') to 'int' in initializer list [-Wc++11-narrowing]. V1_stride0, V1_stride1, V1_stride2, V1_stride3.             ^~~~~~~~~~. /Users/ayan/.theano/compiledir_Darwin-19.4.0-x86_64-i386-64bit-i386-3.7.4-64/tmpqcs3_iou/mod.cpp:415:13: note: insert an explicit cast to silence this issue. V1_stride0, V1_stride1, V1_stride2, V1_stride3.             ^~~~~~~~~~.             static_cast<int>( ). /Users/ayan/.theano/compiledir_Darwin-19.4.0-x86_64-i386-64bit-i386-3.7.4-64/tmpqcs3_iou/mod.cpp:415:25: error: non-constant-expression cannot be narrowed from type 'ssize_t' (aka 'long') to 'int' in initializer list [-Wc++11-narrowing]. V1_stride0, V1_stride1, V1_stride2, V1_stride3.                         ^~~~~~~~~~. /Users/ayan/.theano/compiledir_Darwin-19.4.0-x86_64-i386-64bit-i386-3.7.4-64/tmpqcs3_iou/mod.cpp:415:25: note: insert an explicit cast to silence this issue. V1_stride0, V1_stride1, V1_stride2, V1_stride3.                         ^~~~~~~~~~.                         static_cast<int>( ). /Users/ayan/.theano/compiledir_Darwin-19.4.0-x86_64-i386-64bit-i386-3.7.4-64/tmpqcs3_iou/mod.cpp:415:37: error: non-constant-expression cannot be narrowed from type 'ssize_t' (aka 'long') to 'int' in initializer list [-Wc++11-narrowing]. V1_stride0, V1_stride1, V1_stride2, V1_stride3.                                     ^~~~~~~~~~. /Users/ayan/.theano/compiledir_Darwin-19.4.0-x86_64-i386-64bit-i386-3.7.4-64/tmpqcs3_iou/mod.cpp:415:37: note: insert an explicit cast to silence this issue. V1_stride0, V1_stride1, V1_stride2, V1_stride3.                                     ^~~~~~~~~~.                                     static_cast<int>( ). 8 errors generated.. \", '[Elemwise{Cast{float32}}(TensorConstant{(1, 1, 1, ..8654224418})]')\n",
      "\n"
     ]
    },
    {
     "name": "stdout",
     "output_type": "stream",
     "text": [
      "\n",
      "You can find the C code in this temporary file: /var/folders/s1/00r3hqxd29xgn06sktysppgw0000gn/T/theano_compilation_error_haf6qkck\n"
     ]
    },
    {
     "name": "stderr",
     "output_type": "stream",
     "text": [
      "ERROR (theano.gof.opt): Optimization failure due to: constant_folding\n",
      "ERROR (theano.gof.opt): node: Elemwise{Cast{float32}}(TensorConstant{(1, 1, 1, ..8654224418})\n",
      "ERROR (theano.gof.opt): TRACEBACK:\n",
      "ERROR (theano.gof.opt): Traceback (most recent call last):\n",
      "  File \"/opt/anaconda3/lib/python3.7/site-packages/theano/gof/opt.py\", line 2034, in process_node\n",
      "    replacements = lopt.transform(node)\n",
      "  File \"/opt/anaconda3/lib/python3.7/site-packages/theano/tensor/opt.py\", line 6516, in constant_folding\n",
      "    no_recycling=[], impl=impl)\n",
      "  File \"/opt/anaconda3/lib/python3.7/site-packages/theano/gof/op.py\", line 955, in make_thunk\n",
      "    no_recycling)\n",
      "  File \"/opt/anaconda3/lib/python3.7/site-packages/theano/gof/op.py\", line 858, in make_c_thunk\n",
      "    output_storage=node_output_storage)\n",
      "  File \"/opt/anaconda3/lib/python3.7/site-packages/theano/gof/cc.py\", line 1217, in make_thunk\n",
      "    keep_lock=keep_lock)\n",
      "  File \"/opt/anaconda3/lib/python3.7/site-packages/theano/gof/cc.py\", line 1157, in __compile__\n",
      "    keep_lock=keep_lock)\n",
      "  File \"/opt/anaconda3/lib/python3.7/site-packages/theano/gof/cc.py\", line 1624, in cthunk_factory\n",
      "    key=key, lnk=self, keep_lock=keep_lock)\n",
      "  File \"/opt/anaconda3/lib/python3.7/site-packages/theano/gof/cmodule.py\", line 1189, in module_from_key\n",
      "    module = lnk.compile_cmodule(location)\n",
      "  File \"/opt/anaconda3/lib/python3.7/site-packages/theano/gof/cc.py\", line 1527, in compile_cmodule\n",
      "    preargs=preargs)\n",
      "  File \"/opt/anaconda3/lib/python3.7/site-packages/theano/gof/cmodule.py\", line 2396, in compile_str\n",
      "    (status, compile_stderr.replace('\\n', '. ')))\n",
      "Exception: (\"Compilation failed (return status=1): /Users/ayan/.theano/compiledir_Darwin-19.4.0-x86_64-i386-64bit-i386-3.7.4-64/tmpvcbo4yta/mod.cpp:396:27: error: non-constant-expression cannot be narrowed from type 'npy_intp' (aka 'long') to 'int' in initializer list [-Wc++11-narrowing].     int init_totals[4] = {V1_n0, V1_n1, V1_n2, V1_n3};.                           ^~~~~. /Users/ayan/.theano/compiledir_Darwin-19.4.0-x86_64-i386-64bit-i386-3.7.4-64/tmpvcbo4yta/mod.cpp:396:27: note: insert an explicit cast to silence this issue.     int init_totals[4] = {V1_n0, V1_n1, V1_n2, V1_n3};.                           ^~~~~.                           static_cast<int>( ). /Users/ayan/.theano/compiledir_Darwin-19.4.0-x86_64-i386-64bit-i386-3.7.4-64/tmpvcbo4yta/mod.cpp:396:34: error: non-constant-expression cannot be narrowed from type 'npy_intp' (aka 'long') to 'int' in initializer list [-Wc++11-narrowing].     int init_totals[4] = {V1_n0, V1_n1, V1_n2, V1_n3};.                                  ^~~~~. /Users/ayan/.theano/compiledir_Darwin-19.4.0-x86_64-i386-64bit-i386-3.7.4-64/tmpvcbo4yta/mod.cpp:396:34: note: insert an explicit cast to silence this issue.     int init_totals[4] = {V1_n0, V1_n1, V1_n2, V1_n3};.                                  ^~~~~.                                  static_cast<int>( ). /Users/ayan/.theano/compiledir_Darwin-19.4.0-x86_64-i386-64bit-i386-3.7.4-64/tmpvcbo4yta/mod.cpp:396:41: error: non-constant-expression cannot be narrowed from type 'npy_intp' (aka 'long') to 'int' in initializer list [-Wc++11-narrowing].     int init_totals[4] = {V1_n0, V1_n1, V1_n2, V1_n3};.                                         ^~~~~. /Users/ayan/.theano/compiledir_Darwin-19.4.0-x86_64-i386-64bit-i386-3.7.4-64/tmpvcbo4yta/mod.cpp:396:41: note: insert an explicit cast to silence this issue.     int init_totals[4] = {V1_n0, V1_n1, V1_n2, V1_n3};.                                         ^~~~~.                                         static_cast<int>( ). /Users/ayan/.theano/compiledir_Darwin-19.4.0-x86_64-i386-64bit-i386-3.7.4-64/tmpvcbo4yta/mod.cpp:396:48: error: non-constant-expression cannot be narrowed from type 'npy_intp' (aka 'long') to 'int' in initializer list [-Wc++11-narrowing].     int init_totals[4] = {V1_n0, V1_n1, V1_n2, V1_n3};.                                                ^~~~~. /Users/ayan/.theano/compiledir_Darwin-19.4.0-x86_64-i386-64bit-i386-3.7.4-64/tmpvcbo4yta/mod.cpp:396:48: note: insert an explicit cast to silence this issue.     int init_totals[4] = {V1_n0, V1_n1, V1_n2, V1_n3};.                                                ^~~~~.                                                static_cast<int>( ). /Users/ayan/.theano/compiledir_Darwin-19.4.0-x86_64-i386-64bit-i386-3.7.4-64/tmpvcbo4yta/mod.cpp:415:1: error: non-constant-expression cannot be narrowed from type 'ssize_t' (aka 'long') to 'int' in initializer list [-Wc++11-narrowing]. V1_stride0, V1_stride1, V1_stride2, V1_stride3. ^~~~~~~~~~. /Users/ayan/.theano/compiledir_Darwin-19.4.0-x86_64-i386-64bit-i386-3.7.4-64/tmpvcbo4yta/mod.cpp:415:1: note: insert an explicit cast to silence this issue. V1_stride0, V1_stride1, V1_stride2, V1_stride3. ^~~~~~~~~~. static_cast<int>( ). /Users/ayan/.theano/compiledir_Darwin-19.4.0-x86_64-i386-64bit-i386-3.7.4-64/tmpvcbo4yta/mod.cpp:415:13: error: non-constant-expression cannot be narrowed from type 'ssize_t' (aka 'long') to 'int' in initializer list [-Wc++11-narrowing]. V1_stride0, V1_stride1, V1_stride2, V1_stride3.             ^~~~~~~~~~. /Users/ayan/.theano/compiledir_Darwin-19.4.0-x86_64-i386-64bit-i386-3.7.4-64/tmpvcbo4yta/mod.cpp:415:13: note: insert an explicit cast to silence this issue. V1_stride0, V1_stride1, V1_stride2, V1_stride3.             ^~~~~~~~~~.             static_cast<int>( ). /Users/ayan/.theano/compiledir_Darwin-19.4.0-x86_64-i386-64bit-i386-3.7.4-64/tmpvcbo4yta/mod.cpp:415:25: error: non-constant-expression cannot be narrowed from type 'ssize_t' (aka 'long') to 'int' in initializer list [-Wc++11-narrowing]. V1_stride0, V1_stride1, V1_stride2, V1_stride3.                         ^~~~~~~~~~. /Users/ayan/.theano/compiledir_Darwin-19.4.0-x86_64-i386-64bit-i386-3.7.4-64/tmpvcbo4yta/mod.cpp:415:25: note: insert an explicit cast to silence this issue. V1_stride0, V1_stride1, V1_stride2, V1_stride3.                         ^~~~~~~~~~.                         static_cast<int>( ). /Users/ayan/.theano/compiledir_Darwin-19.4.0-x86_64-i386-64bit-i386-3.7.4-64/tmpvcbo4yta/mod.cpp:415:37: error: non-constant-expression cannot be narrowed from type 'ssize_t' (aka 'long') to 'int' in initializer list [-Wc++11-narrowing]. V1_stride0, V1_stride1, V1_stride2, V1_stride3.                                     ^~~~~~~~~~. /Users/ayan/.theano/compiledir_Darwin-19.4.0-x86_64-i386-64bit-i386-3.7.4-64/tmpvcbo4yta/mod.cpp:415:37: note: insert an explicit cast to silence this issue. V1_stride0, V1_stride1, V1_stride2, V1_stride3.                                     ^~~~~~~~~~.                                     static_cast<int>( ). 8 errors generated.. \", '[Elemwise{Cast{float32}}(TensorConstant{(1, 1, 1, ..8654224418})]')\n",
      "\n"
     ]
    },
    {
     "name": "stdout",
     "output_type": "stream",
     "text": [
      "\n",
      "You can find the C code in this temporary file: /var/folders/s1/00r3hqxd29xgn06sktysppgw0000gn/T/theano_compilation_error_mrigqrg0\n"
     ]
    },
    {
     "name": "stderr",
     "output_type": "stream",
     "text": [
      "ERROR (theano.gof.opt): Optimization failure due to: constant_folding\n",
      "ERROR (theano.gof.opt): node: Elemwise{Cast{float32}}(TensorConstant{(1, 1, 1, ..8654224418})\n",
      "ERROR (theano.gof.opt): TRACEBACK:\n",
      "ERROR (theano.gof.opt): Traceback (most recent call last):\n",
      "  File \"/opt/anaconda3/lib/python3.7/site-packages/theano/gof/opt.py\", line 2034, in process_node\n",
      "    replacements = lopt.transform(node)\n",
      "  File \"/opt/anaconda3/lib/python3.7/site-packages/theano/tensor/opt.py\", line 6516, in constant_folding\n",
      "    no_recycling=[], impl=impl)\n",
      "  File \"/opt/anaconda3/lib/python3.7/site-packages/theano/gof/op.py\", line 955, in make_thunk\n",
      "    no_recycling)\n",
      "  File \"/opt/anaconda3/lib/python3.7/site-packages/theano/gof/op.py\", line 858, in make_c_thunk\n",
      "    output_storage=node_output_storage)\n",
      "  File \"/opt/anaconda3/lib/python3.7/site-packages/theano/gof/cc.py\", line 1217, in make_thunk\n",
      "    keep_lock=keep_lock)\n",
      "  File \"/opt/anaconda3/lib/python3.7/site-packages/theano/gof/cc.py\", line 1157, in __compile__\n",
      "    keep_lock=keep_lock)\n",
      "  File \"/opt/anaconda3/lib/python3.7/site-packages/theano/gof/cc.py\", line 1624, in cthunk_factory\n",
      "    key=key, lnk=self, keep_lock=keep_lock)\n",
      "  File \"/opt/anaconda3/lib/python3.7/site-packages/theano/gof/cmodule.py\", line 1189, in module_from_key\n",
      "    module = lnk.compile_cmodule(location)\n",
      "  File \"/opt/anaconda3/lib/python3.7/site-packages/theano/gof/cc.py\", line 1527, in compile_cmodule\n",
      "    preargs=preargs)\n",
      "  File \"/opt/anaconda3/lib/python3.7/site-packages/theano/gof/cmodule.py\", line 2396, in compile_str\n",
      "    (status, compile_stderr.replace('\\n', '. ')))\n",
      "Exception: (\"Compilation failed (return status=1): /Users/ayan/.theano/compiledir_Darwin-19.4.0-x86_64-i386-64bit-i386-3.7.4-64/tmp1_snqo9j/mod.cpp:396:27: error: non-constant-expression cannot be narrowed from type 'npy_intp' (aka 'long') to 'int' in initializer list [-Wc++11-narrowing].     int init_totals[4] = {V1_n0, V1_n1, V1_n2, V1_n3};.                           ^~~~~. /Users/ayan/.theano/compiledir_Darwin-19.4.0-x86_64-i386-64bit-i386-3.7.4-64/tmp1_snqo9j/mod.cpp:396:27: note: insert an explicit cast to silence this issue.     int init_totals[4] = {V1_n0, V1_n1, V1_n2, V1_n3};.                           ^~~~~.                           static_cast<int>( ). /Users/ayan/.theano/compiledir_Darwin-19.4.0-x86_64-i386-64bit-i386-3.7.4-64/tmp1_snqo9j/mod.cpp:396:34: error: non-constant-expression cannot be narrowed from type 'npy_intp' (aka 'long') to 'int' in initializer list [-Wc++11-narrowing].     int init_totals[4] = {V1_n0, V1_n1, V1_n2, V1_n3};.                                  ^~~~~. /Users/ayan/.theano/compiledir_Darwin-19.4.0-x86_64-i386-64bit-i386-3.7.4-64/tmp1_snqo9j/mod.cpp:396:34: note: insert an explicit cast to silence this issue.     int init_totals[4] = {V1_n0, V1_n1, V1_n2, V1_n3};.                                  ^~~~~.                                  static_cast<int>( ). /Users/ayan/.theano/compiledir_Darwin-19.4.0-x86_64-i386-64bit-i386-3.7.4-64/tmp1_snqo9j/mod.cpp:396:41: error: non-constant-expression cannot be narrowed from type 'npy_intp' (aka 'long') to 'int' in initializer list [-Wc++11-narrowing].     int init_totals[4] = {V1_n0, V1_n1, V1_n2, V1_n3};.                                         ^~~~~. /Users/ayan/.theano/compiledir_Darwin-19.4.0-x86_64-i386-64bit-i386-3.7.4-64/tmp1_snqo9j/mod.cpp:396:41: note: insert an explicit cast to silence this issue.     int init_totals[4] = {V1_n0, V1_n1, V1_n2, V1_n3};.                                         ^~~~~.                                         static_cast<int>( ). /Users/ayan/.theano/compiledir_Darwin-19.4.0-x86_64-i386-64bit-i386-3.7.4-64/tmp1_snqo9j/mod.cpp:396:48: error: non-constant-expression cannot be narrowed from type 'npy_intp' (aka 'long') to 'int' in initializer list [-Wc++11-narrowing].     int init_totals[4] = {V1_n0, V1_n1, V1_n2, V1_n3};.                                                ^~~~~. /Users/ayan/.theano/compiledir_Darwin-19.4.0-x86_64-i386-64bit-i386-3.7.4-64/tmp1_snqo9j/mod.cpp:396:48: note: insert an explicit cast to silence this issue.     int init_totals[4] = {V1_n0, V1_n1, V1_n2, V1_n3};.                                                ^~~~~.                                                static_cast<int>( ). /Users/ayan/.theano/compiledir_Darwin-19.4.0-x86_64-i386-64bit-i386-3.7.4-64/tmp1_snqo9j/mod.cpp:415:1: error: non-constant-expression cannot be narrowed from type 'ssize_t' (aka 'long') to 'int' in initializer list [-Wc++11-narrowing]. V1_stride0, V1_stride1, V1_stride2, V1_stride3. ^~~~~~~~~~. /Users/ayan/.theano/compiledir_Darwin-19.4.0-x86_64-i386-64bit-i386-3.7.4-64/tmp1_snqo9j/mod.cpp:415:1: note: insert an explicit cast to silence this issue. V1_stride0, V1_stride1, V1_stride2, V1_stride3. ^~~~~~~~~~. static_cast<int>( ). /Users/ayan/.theano/compiledir_Darwin-19.4.0-x86_64-i386-64bit-i386-3.7.4-64/tmp1_snqo9j/mod.cpp:415:13: error: non-constant-expression cannot be narrowed from type 'ssize_t' (aka 'long') to 'int' in initializer list [-Wc++11-narrowing]. V1_stride0, V1_stride1, V1_stride2, V1_stride3.             ^~~~~~~~~~. /Users/ayan/.theano/compiledir_Darwin-19.4.0-x86_64-i386-64bit-i386-3.7.4-64/tmp1_snqo9j/mod.cpp:415:13: note: insert an explicit cast to silence this issue. V1_stride0, V1_stride1, V1_stride2, V1_stride3.             ^~~~~~~~~~.             static_cast<int>( ). /Users/ayan/.theano/compiledir_Darwin-19.4.0-x86_64-i386-64bit-i386-3.7.4-64/tmp1_snqo9j/mod.cpp:415:25: error: non-constant-expression cannot be narrowed from type 'ssize_t' (aka 'long') to 'int' in initializer list [-Wc++11-narrowing]. V1_stride0, V1_stride1, V1_stride2, V1_stride3.                         ^~~~~~~~~~. /Users/ayan/.theano/compiledir_Darwin-19.4.0-x86_64-i386-64bit-i386-3.7.4-64/tmp1_snqo9j/mod.cpp:415:25: note: insert an explicit cast to silence this issue. V1_stride0, V1_stride1, V1_stride2, V1_stride3.                         ^~~~~~~~~~.                         static_cast<int>( ). /Users/ayan/.theano/compiledir_Darwin-19.4.0-x86_64-i386-64bit-i386-3.7.4-64/tmp1_snqo9j/mod.cpp:415:37: error: non-constant-expression cannot be narrowed from type 'ssize_t' (aka 'long') to 'int' in initializer list [-Wc++11-narrowing]. V1_stride0, V1_stride1, V1_stride2, V1_stride3.                                     ^~~~~~~~~~. /Users/ayan/.theano/compiledir_Darwin-19.4.0-x86_64-i386-64bit-i386-3.7.4-64/tmp1_snqo9j/mod.cpp:415:37: note: insert an explicit cast to silence this issue. V1_stride0, V1_stride1, V1_stride2, V1_stride3.                                     ^~~~~~~~~~.                                     static_cast<int>( ). 8 errors generated.. \", '[Elemwise{Cast{float32}}(TensorConstant{(1, 1, 1, ..8654224418})]')\n",
      "\n"
     ]
    },
    {
     "name": "stdout",
     "output_type": "stream",
     "text": [
      "\n",
      "You can find the C code in this temporary file: /var/folders/s1/00r3hqxd29xgn06sktysppgw0000gn/T/theano_compilation_error_unru7uvi\n"
     ]
    },
    {
     "name": "stderr",
     "output_type": "stream",
     "text": [
      "ERROR (theano.gof.opt): Optimization failure due to: constant_folding\n",
      "ERROR (theano.gof.opt): node: Elemwise{Cast{float32}}(TensorConstant{(1, 1, 1, ..8654224418})\n",
      "ERROR (theano.gof.opt): TRACEBACK:\n",
      "ERROR (theano.gof.opt): Traceback (most recent call last):\n",
      "  File \"/opt/anaconda3/lib/python3.7/site-packages/theano/gof/opt.py\", line 2034, in process_node\n",
      "    replacements = lopt.transform(node)\n",
      "  File \"/opt/anaconda3/lib/python3.7/site-packages/theano/tensor/opt.py\", line 6516, in constant_folding\n",
      "    no_recycling=[], impl=impl)\n",
      "  File \"/opt/anaconda3/lib/python3.7/site-packages/theano/gof/op.py\", line 955, in make_thunk\n",
      "    no_recycling)\n",
      "  File \"/opt/anaconda3/lib/python3.7/site-packages/theano/gof/op.py\", line 858, in make_c_thunk\n",
      "    output_storage=node_output_storage)\n",
      "  File \"/opt/anaconda3/lib/python3.7/site-packages/theano/gof/cc.py\", line 1217, in make_thunk\n",
      "    keep_lock=keep_lock)\n",
      "  File \"/opt/anaconda3/lib/python3.7/site-packages/theano/gof/cc.py\", line 1157, in __compile__\n",
      "    keep_lock=keep_lock)\n",
      "  File \"/opt/anaconda3/lib/python3.7/site-packages/theano/gof/cc.py\", line 1624, in cthunk_factory\n",
      "    key=key, lnk=self, keep_lock=keep_lock)\n",
      "  File \"/opt/anaconda3/lib/python3.7/site-packages/theano/gof/cmodule.py\", line 1189, in module_from_key\n",
      "    module = lnk.compile_cmodule(location)\n",
      "  File \"/opt/anaconda3/lib/python3.7/site-packages/theano/gof/cc.py\", line 1527, in compile_cmodule\n",
      "    preargs=preargs)\n",
      "  File \"/opt/anaconda3/lib/python3.7/site-packages/theano/gof/cmodule.py\", line 2396, in compile_str\n",
      "    (status, compile_stderr.replace('\\n', '. ')))\n",
      "Exception: (\"Compilation failed (return status=1): /Users/ayan/.theano/compiledir_Darwin-19.4.0-x86_64-i386-64bit-i386-3.7.4-64/tmpw8e7qv2q/mod.cpp:396:27: error: non-constant-expression cannot be narrowed from type 'npy_intp' (aka 'long') to 'int' in initializer list [-Wc++11-narrowing].     int init_totals[4] = {V1_n0, V1_n1, V1_n2, V1_n3};.                           ^~~~~. /Users/ayan/.theano/compiledir_Darwin-19.4.0-x86_64-i386-64bit-i386-3.7.4-64/tmpw8e7qv2q/mod.cpp:396:27: note: insert an explicit cast to silence this issue.     int init_totals[4] = {V1_n0, V1_n1, V1_n2, V1_n3};.                           ^~~~~.                           static_cast<int>( ). /Users/ayan/.theano/compiledir_Darwin-19.4.0-x86_64-i386-64bit-i386-3.7.4-64/tmpw8e7qv2q/mod.cpp:396:34: error: non-constant-expression cannot be narrowed from type 'npy_intp' (aka 'long') to 'int' in initializer list [-Wc++11-narrowing].     int init_totals[4] = {V1_n0, V1_n1, V1_n2, V1_n3};.                                  ^~~~~. /Users/ayan/.theano/compiledir_Darwin-19.4.0-x86_64-i386-64bit-i386-3.7.4-64/tmpw8e7qv2q/mod.cpp:396:34: note: insert an explicit cast to silence this issue.     int init_totals[4] = {V1_n0, V1_n1, V1_n2, V1_n3};.                                  ^~~~~.                                  static_cast<int>( ). /Users/ayan/.theano/compiledir_Darwin-19.4.0-x86_64-i386-64bit-i386-3.7.4-64/tmpw8e7qv2q/mod.cpp:396:41: error: non-constant-expression cannot be narrowed from type 'npy_intp' (aka 'long') to 'int' in initializer list [-Wc++11-narrowing].     int init_totals[4] = {V1_n0, V1_n1, V1_n2, V1_n3};.                                         ^~~~~. /Users/ayan/.theano/compiledir_Darwin-19.4.0-x86_64-i386-64bit-i386-3.7.4-64/tmpw8e7qv2q/mod.cpp:396:41: note: insert an explicit cast to silence this issue.     int init_totals[4] = {V1_n0, V1_n1, V1_n2, V1_n3};.                                         ^~~~~.                                         static_cast<int>( ). /Users/ayan/.theano/compiledir_Darwin-19.4.0-x86_64-i386-64bit-i386-3.7.4-64/tmpw8e7qv2q/mod.cpp:396:48: error: non-constant-expression cannot be narrowed from type 'npy_intp' (aka 'long') to 'int' in initializer list [-Wc++11-narrowing].     int init_totals[4] = {V1_n0, V1_n1, V1_n2, V1_n3};.                                                ^~~~~. /Users/ayan/.theano/compiledir_Darwin-19.4.0-x86_64-i386-64bit-i386-3.7.4-64/tmpw8e7qv2q/mod.cpp:396:48: note: insert an explicit cast to silence this issue.     int init_totals[4] = {V1_n0, V1_n1, V1_n2, V1_n3};.                                                ^~~~~.                                                static_cast<int>( ). /Users/ayan/.theano/compiledir_Darwin-19.4.0-x86_64-i386-64bit-i386-3.7.4-64/tmpw8e7qv2q/mod.cpp:415:1: error: non-constant-expression cannot be narrowed from type 'ssize_t' (aka 'long') to 'int' in initializer list [-Wc++11-narrowing]. V1_stride0, V1_stride1, V1_stride2, V1_stride3. ^~~~~~~~~~. /Users/ayan/.theano/compiledir_Darwin-19.4.0-x86_64-i386-64bit-i386-3.7.4-64/tmpw8e7qv2q/mod.cpp:415:1: note: insert an explicit cast to silence this issue. V1_stride0, V1_stride1, V1_stride2, V1_stride3. ^~~~~~~~~~. static_cast<int>( ). /Users/ayan/.theano/compiledir_Darwin-19.4.0-x86_64-i386-64bit-i386-3.7.4-64/tmpw8e7qv2q/mod.cpp:415:13: error: non-constant-expression cannot be narrowed from type 'ssize_t' (aka 'long') to 'int' in initializer list [-Wc++11-narrowing]. V1_stride0, V1_stride1, V1_stride2, V1_stride3.             ^~~~~~~~~~. /Users/ayan/.theano/compiledir_Darwin-19.4.0-x86_64-i386-64bit-i386-3.7.4-64/tmpw8e7qv2q/mod.cpp:415:13: note: insert an explicit cast to silence this issue. V1_stride0, V1_stride1, V1_stride2, V1_stride3.             ^~~~~~~~~~.             static_cast<int>( ). /Users/ayan/.theano/compiledir_Darwin-19.4.0-x86_64-i386-64bit-i386-3.7.4-64/tmpw8e7qv2q/mod.cpp:415:25: error: non-constant-expression cannot be narrowed from type 'ssize_t' (aka 'long') to 'int' in initializer list [-Wc++11-narrowing]. V1_stride0, V1_stride1, V1_stride2, V1_stride3.                         ^~~~~~~~~~. /Users/ayan/.theano/compiledir_Darwin-19.4.0-x86_64-i386-64bit-i386-3.7.4-64/tmpw8e7qv2q/mod.cpp:415:25: note: insert an explicit cast to silence this issue. V1_stride0, V1_stride1, V1_stride2, V1_stride3.                         ^~~~~~~~~~.                         static_cast<int>( ). /Users/ayan/.theano/compiledir_Darwin-19.4.0-x86_64-i386-64bit-i386-3.7.4-64/tmpw8e7qv2q/mod.cpp:415:37: error: non-constant-expression cannot be narrowed from type 'ssize_t' (aka 'long') to 'int' in initializer list [-Wc++11-narrowing]. V1_stride0, V1_stride1, V1_stride2, V1_stride3.                                     ^~~~~~~~~~. /Users/ayan/.theano/compiledir_Darwin-19.4.0-x86_64-i386-64bit-i386-3.7.4-64/tmpw8e7qv2q/mod.cpp:415:37: note: insert an explicit cast to silence this issue. V1_stride0, V1_stride1, V1_stride2, V1_stride3.                                     ^~~~~~~~~~.                                     static_cast<int>( ). 8 errors generated.. \", '[Elemwise{Cast{float32}}(TensorConstant{(1, 1, 1, ..8654224418})]')\n",
      "\n"
     ]
    },
    {
     "name": "stdout",
     "output_type": "stream",
     "text": [
      "\n",
      "You can find the C code in this temporary file: /var/folders/s1/00r3hqxd29xgn06sktysppgw0000gn/T/theano_compilation_error_1bdnd7v9\n",
      "\n",
      "You can find the C code in this temporary file: /var/folders/s1/00r3hqxd29xgn06sktysppgw0000gn/T/theano_compilation_error_o72st_4m\n"
     ]
    },
    {
     "ename": "Exception",
     "evalue": "('The following error happened while compiling the node', Elemwise{Cast{float32}}(TensorConstant{(1, 1, 1, ..8654224418}), '\\n', \"Compilation failed (return status=1): /Users/ayan/.theano/compiledir_Darwin-19.4.0-x86_64-i386-64bit-i386-3.7.4-64/tmp9pyd_udz/mod.cpp:396:27: error: non-constant-expression cannot be narrowed from type 'npy_intp' (aka 'long') to 'int' in initializer list [-Wc++11-narrowing].     int init_totals[4] = {V1_n0, V1_n1, V1_n2, V1_n3};.                           ^~~~~. /Users/ayan/.theano/compiledir_Darwin-19.4.0-x86_64-i386-64bit-i386-3.7.4-64/tmp9pyd_udz/mod.cpp:396:27: note: insert an explicit cast to silence this issue.     int init_totals[4] = {V1_n0, V1_n1, V1_n2, V1_n3};.                           ^~~~~.                           static_cast<int>( ). /Users/ayan/.theano/compiledir_Darwin-19.4.0-x86_64-i386-64bit-i386-3.7.4-64/tmp9pyd_udz/mod.cpp:396:34: error: non-constant-expression cannot be narrowed from type 'npy_intp' (aka 'long') to 'int' in initializer list [-Wc++11-narrowing].     int init_totals[4] = {V1_n0, V1_n1, V1_n2, V1_n3};.                                  ^~~~~. /Users/ayan/.theano/compiledir_Darwin-19.4.0-x86_64-i386-64bit-i386-3.7.4-64/tmp9pyd_udz/mod.cpp:396:34: note: insert an explicit cast to silence this issue.     int init_totals[4] = {V1_n0, V1_n1, V1_n2, V1_n3};.                                  ^~~~~.                                  static_cast<int>( ). /Users/ayan/.theano/compiledir_Darwin-19.4.0-x86_64-i386-64bit-i386-3.7.4-64/tmp9pyd_udz/mod.cpp:396:41: error: non-constant-expression cannot be narrowed from type 'npy_intp' (aka 'long') to 'int' in initializer list [-Wc++11-narrowing].     int init_totals[4] = {V1_n0, V1_n1, V1_n2, V1_n3};.                                         ^~~~~. /Users/ayan/.theano/compiledir_Darwin-19.4.0-x86_64-i386-64bit-i386-3.7.4-64/tmp9pyd_udz/mod.cpp:396:41: note: insert an explicit cast to silence this issue.     int init_totals[4] = {V1_n0, V1_n1, V1_n2, V1_n3};.                                         ^~~~~.                                         static_cast<int>( ). /Users/ayan/.theano/compiledir_Darwin-19.4.0-x86_64-i386-64bit-i386-3.7.4-64/tmp9pyd_udz/mod.cpp:396:48: error: non-constant-expression cannot be narrowed from type 'npy_intp' (aka 'long') to 'int' in initializer list [-Wc++11-narrowing].     int init_totals[4] = {V1_n0, V1_n1, V1_n2, V1_n3};.                                                ^~~~~. /Users/ayan/.theano/compiledir_Darwin-19.4.0-x86_64-i386-64bit-i386-3.7.4-64/tmp9pyd_udz/mod.cpp:396:48: note: insert an explicit cast to silence this issue.     int init_totals[4] = {V1_n0, V1_n1, V1_n2, V1_n3};.                                                ^~~~~.                                                static_cast<int>( ). /Users/ayan/.theano/compiledir_Darwin-19.4.0-x86_64-i386-64bit-i386-3.7.4-64/tmp9pyd_udz/mod.cpp:415:1: error: non-constant-expression cannot be narrowed from type 'ssize_t' (aka 'long') to 'int' in initializer list [-Wc++11-narrowing]. V1_stride0, V1_stride1, V1_stride2, V1_stride3. ^~~~~~~~~~. /Users/ayan/.theano/compiledir_Darwin-19.4.0-x86_64-i386-64bit-i386-3.7.4-64/tmp9pyd_udz/mod.cpp:415:1: note: insert an explicit cast to silence this issue. V1_stride0, V1_stride1, V1_stride2, V1_stride3. ^~~~~~~~~~. static_cast<int>( ). /Users/ayan/.theano/compiledir_Darwin-19.4.0-x86_64-i386-64bit-i386-3.7.4-64/tmp9pyd_udz/mod.cpp:415:13: error: non-constant-expression cannot be narrowed from type 'ssize_t' (aka 'long') to 'int' in initializer list [-Wc++11-narrowing]. V1_stride0, V1_stride1, V1_stride2, V1_stride3.             ^~~~~~~~~~. /Users/ayan/.theano/compiledir_Darwin-19.4.0-x86_64-i386-64bit-i386-3.7.4-64/tmp9pyd_udz/mod.cpp:415:13: note: insert an explicit cast to silence this issue. V1_stride0, V1_stride1, V1_stride2, V1_stride3.             ^~~~~~~~~~.             static_cast<int>( ). /Users/ayan/.theano/compiledir_Darwin-19.4.0-x86_64-i386-64bit-i386-3.7.4-64/tmp9pyd_udz/mod.cpp:415:25: error: non-constant-expression cannot be narrowed from type 'ssize_t' (aka 'long') to 'int' in initializer list [-Wc++11-narrowing]. V1_stride0, V1_stride1, V1_stride2, V1_stride3.                         ^~~~~~~~~~. /Users/ayan/.theano/compiledir_Darwin-19.4.0-x86_64-i386-64bit-i386-3.7.4-64/tmp9pyd_udz/mod.cpp:415:25: note: insert an explicit cast to silence this issue. V1_stride0, V1_stride1, V1_stride2, V1_stride3.                         ^~~~~~~~~~.                         static_cast<int>( ). /Users/ayan/.theano/compiledir_Darwin-19.4.0-x86_64-i386-64bit-i386-3.7.4-64/tmp9pyd_udz/mod.cpp:415:37: error: non-constant-expression cannot be narrowed from type 'ssize_t' (aka 'long') to 'int' in initializer list [-Wc++11-narrowing]. V1_stride0, V1_stride1, V1_stride2, V1_stride3.                                     ^~~~~~~~~~. /Users/ayan/.theano/compiledir_Darwin-19.4.0-x86_64-i386-64bit-i386-3.7.4-64/tmp9pyd_udz/mod.cpp:415:37: note: insert an explicit cast to silence this issue. V1_stride0, V1_stride1, V1_stride2, V1_stride3.                                     ^~~~~~~~~~.                                     static_cast<int>( ). 8 errors generated.. \", '[Elemwise{Cast{float32}}(TensorConstant{(1, 1, 1, ..8654224418})]')",
     "output_type": "error",
     "traceback": [
      "\u001b[0;31m---------------------------------------------------------------------------\u001b[0m",
      "\u001b[0;31mException\u001b[0m                                 Traceback (most recent call last)",
      "\u001b[0;32m<ipython-input-31-7f0eaa7843a1>\u001b[0m in \u001b[0;36m<module>\u001b[0;34m\u001b[0m\n\u001b[1;32m      1\u001b[0m \u001b[0mmodel\u001b[0m\u001b[0;34m=\u001b[0m\u001b[0mSequential\u001b[0m\u001b[0;34m(\u001b[0m\u001b[0;34m)\u001b[0m\u001b[0;34m\u001b[0m\u001b[0;34m\u001b[0m\u001b[0m\n\u001b[1;32m      2\u001b[0m \u001b[0;34m\u001b[0m\u001b[0m\n\u001b[0;32m----> 3\u001b[0;31m \u001b[0mmodel\u001b[0m\u001b[0;34m.\u001b[0m\u001b[0madd\u001b[0m\u001b[0;34m(\u001b[0m\u001b[0mConv2D\u001b[0m\u001b[0;34m(\u001b[0m\u001b[0mfilters\u001b[0m\u001b[0;34m=\u001b[0m\u001b[0;36m32\u001b[0m\u001b[0;34m,\u001b[0m\u001b[0minput_shape\u001b[0m\u001b[0;34m=\u001b[0m\u001b[0;34m(\u001b[0m\u001b[0;36m28\u001b[0m\u001b[0;34m,\u001b[0m\u001b[0;36m28\u001b[0m\u001b[0;34m,\u001b[0m\u001b[0;36m1\u001b[0m\u001b[0;34m)\u001b[0m\u001b[0;34m,\u001b[0m\u001b[0mkernel_size\u001b[0m\u001b[0;34m=\u001b[0m\u001b[0;34m(\u001b[0m\u001b[0;36m5\u001b[0m\u001b[0;34m,\u001b[0m\u001b[0;36m5\u001b[0m\u001b[0;34m)\u001b[0m\u001b[0;34m,\u001b[0m\u001b[0mactivation\u001b[0m\u001b[0;34m=\u001b[0m\u001b[0;34m'relu'\u001b[0m\u001b[0;34m)\u001b[0m\u001b[0;34m)\u001b[0m\u001b[0;34m\u001b[0m\u001b[0;34m\u001b[0m\u001b[0m\n\u001b[0m\u001b[1;32m      4\u001b[0m \u001b[0mmodel\u001b[0m\u001b[0;34m.\u001b[0m\u001b[0madd\u001b[0m\u001b[0;34m(\u001b[0m\u001b[0mConv2D\u001b[0m\u001b[0;34m(\u001b[0m\u001b[0mfilters\u001b[0m\u001b[0;34m=\u001b[0m\u001b[0;36m32\u001b[0m\u001b[0;34m,\u001b[0m\u001b[0mkernel_size\u001b[0m\u001b[0;34m=\u001b[0m\u001b[0;34m(\u001b[0m\u001b[0;36m5\u001b[0m\u001b[0;34m,\u001b[0m\u001b[0;36m5\u001b[0m\u001b[0;34m)\u001b[0m\u001b[0;34m,\u001b[0m\u001b[0mactivation\u001b[0m\u001b[0;34m=\u001b[0m\u001b[0;34m'relu'\u001b[0m\u001b[0;34m)\u001b[0m\u001b[0;34m)\u001b[0m\u001b[0;34m\u001b[0m\u001b[0;34m\u001b[0m\u001b[0m\n\u001b[1;32m      5\u001b[0m \u001b[0;34m\u001b[0m\u001b[0m\n",
      "\u001b[0;32m/opt/anaconda3/lib/python3.7/site-packages/keras/engine/sequential.py\u001b[0m in \u001b[0;36madd\u001b[0;34m(self, layer)\u001b[0m\n\u001b[1;32m    164\u001b[0m                     \u001b[0;31m# and create the node connecting the current layer\u001b[0m\u001b[0;34m\u001b[0m\u001b[0;34m\u001b[0m\u001b[0;34m\u001b[0m\u001b[0m\n\u001b[1;32m    165\u001b[0m                     \u001b[0;31m# to the input layer we just created.\u001b[0m\u001b[0;34m\u001b[0m\u001b[0;34m\u001b[0m\u001b[0;34m\u001b[0m\u001b[0m\n\u001b[0;32m--> 166\u001b[0;31m                     \u001b[0mlayer\u001b[0m\u001b[0;34m(\u001b[0m\u001b[0mx\u001b[0m\u001b[0;34m)\u001b[0m\u001b[0;34m\u001b[0m\u001b[0;34m\u001b[0m\u001b[0m\n\u001b[0m\u001b[1;32m    167\u001b[0m                     \u001b[0mset_inputs\u001b[0m \u001b[0;34m=\u001b[0m \u001b[0;32mTrue\u001b[0m\u001b[0;34m\u001b[0m\u001b[0;34m\u001b[0m\u001b[0m\n\u001b[1;32m    168\u001b[0m             \u001b[0;32melse\u001b[0m\u001b[0;34m:\u001b[0m\u001b[0;34m\u001b[0m\u001b[0;34m\u001b[0m\u001b[0m\n",
      "\u001b[0;32m/opt/anaconda3/lib/python3.7/site-packages/keras/engine/base_layer.py\u001b[0m in \u001b[0;36m__call__\u001b[0;34m(self, inputs, **kwargs)\u001b[0m\n\u001b[1;32m    461\u001b[0m                                          \u001b[0;34m'You can build it manually via: '\u001b[0m\u001b[0;34m\u001b[0m\u001b[0;34m\u001b[0m\u001b[0m\n\u001b[1;32m    462\u001b[0m                                          '`layer.build(batch_input_shape)`')\n\u001b[0;32m--> 463\u001b[0;31m                 \u001b[0mself\u001b[0m\u001b[0;34m.\u001b[0m\u001b[0mbuild\u001b[0m\u001b[0;34m(\u001b[0m\u001b[0munpack_singleton\u001b[0m\u001b[0;34m(\u001b[0m\u001b[0minput_shapes\u001b[0m\u001b[0;34m)\u001b[0m\u001b[0;34m)\u001b[0m\u001b[0;34m\u001b[0m\u001b[0;34m\u001b[0m\u001b[0m\n\u001b[0m\u001b[1;32m    464\u001b[0m                 \u001b[0mself\u001b[0m\u001b[0;34m.\u001b[0m\u001b[0mbuilt\u001b[0m \u001b[0;34m=\u001b[0m \u001b[0;32mTrue\u001b[0m\u001b[0;34m\u001b[0m\u001b[0;34m\u001b[0m\u001b[0m\n\u001b[1;32m    465\u001b[0m \u001b[0;34m\u001b[0m\u001b[0m\n",
      "\u001b[0;32m/opt/anaconda3/lib/python3.7/site-packages/keras/layers/convolutional.py\u001b[0m in \u001b[0;36mbuild\u001b[0;34m(self, input_shape)\u001b[0m\n\u001b[1;32m    139\u001b[0m                                       \u001b[0mname\u001b[0m\u001b[0;34m=\u001b[0m\u001b[0;34m'kernel'\u001b[0m\u001b[0;34m,\u001b[0m\u001b[0;34m\u001b[0m\u001b[0;34m\u001b[0m\u001b[0m\n\u001b[1;32m    140\u001b[0m                                       \u001b[0mregularizer\u001b[0m\u001b[0;34m=\u001b[0m\u001b[0mself\u001b[0m\u001b[0;34m.\u001b[0m\u001b[0mkernel_regularizer\u001b[0m\u001b[0;34m,\u001b[0m\u001b[0;34m\u001b[0m\u001b[0;34m\u001b[0m\u001b[0m\n\u001b[0;32m--> 141\u001b[0;31m                                       constraint=self.kernel_constraint)\n\u001b[0m\u001b[1;32m    142\u001b[0m         \u001b[0;32mif\u001b[0m \u001b[0mself\u001b[0m\u001b[0;34m.\u001b[0m\u001b[0muse_bias\u001b[0m\u001b[0;34m:\u001b[0m\u001b[0;34m\u001b[0m\u001b[0;34m\u001b[0m\u001b[0m\n\u001b[1;32m    143\u001b[0m             self.bias = self.add_weight(shape=(self.filters,),\n",
      "\u001b[0;32m/opt/anaconda3/lib/python3.7/site-packages/keras/engine/base_layer.py\u001b[0m in \u001b[0;36madd_weight\u001b[0;34m(self, name, shape, dtype, initializer, regularizer, trainable, constraint)\u001b[0m\n\u001b[1;32m    280\u001b[0m                             \u001b[0mdtype\u001b[0m\u001b[0;34m=\u001b[0m\u001b[0mdtype\u001b[0m\u001b[0;34m,\u001b[0m\u001b[0;34m\u001b[0m\u001b[0;34m\u001b[0m\u001b[0m\n\u001b[1;32m    281\u001b[0m                             \u001b[0mname\u001b[0m\u001b[0;34m=\u001b[0m\u001b[0mname\u001b[0m\u001b[0;34m,\u001b[0m\u001b[0;34m\u001b[0m\u001b[0;34m\u001b[0m\u001b[0m\n\u001b[0;32m--> 282\u001b[0;31m                             constraint=constraint)\n\u001b[0m\u001b[1;32m    283\u001b[0m         \u001b[0;32mif\u001b[0m \u001b[0mregularizer\u001b[0m \u001b[0;32mis\u001b[0m \u001b[0;32mnot\u001b[0m \u001b[0;32mNone\u001b[0m\u001b[0;34m:\u001b[0m\u001b[0;34m\u001b[0m\u001b[0;34m\u001b[0m\u001b[0m\n\u001b[1;32m    284\u001b[0m             \u001b[0;32mwith\u001b[0m \u001b[0mK\u001b[0m\u001b[0;34m.\u001b[0m\u001b[0mname_scope\u001b[0m\u001b[0;34m(\u001b[0m\u001b[0;34m'weight_regularizer'\u001b[0m\u001b[0;34m)\u001b[0m\u001b[0;34m:\u001b[0m\u001b[0;34m\u001b[0m\u001b[0;34m\u001b[0m\u001b[0m\n",
      "\u001b[0;32m/opt/anaconda3/lib/python3.7/site-packages/keras/backend/theano_backend.py\u001b[0m in \u001b[0;36mvariable\u001b[0;34m(value, dtype, name, constraint)\u001b[0m\n\u001b[1;32m    144\u001b[0m                               theano.tensor.TensorConstant)):\n\u001b[1;32m    145\u001b[0m             \u001b[0;31m# Support for RandomStreams().normal(), .uniform().\u001b[0m\u001b[0;34m\u001b[0m\u001b[0;34m\u001b[0m\u001b[0;34m\u001b[0m\u001b[0m\n\u001b[0;32m--> 146\u001b[0;31m             \u001b[0mvalue\u001b[0m \u001b[0;34m=\u001b[0m \u001b[0mvalue\u001b[0m\u001b[0;34m.\u001b[0m\u001b[0meval\u001b[0m\u001b[0;34m(\u001b[0m\u001b[0;34m)\u001b[0m\u001b[0;34m\u001b[0m\u001b[0;34m\u001b[0m\u001b[0m\n\u001b[0m\u001b[1;32m    147\u001b[0m         \u001b[0mvalue\u001b[0m \u001b[0;34m=\u001b[0m \u001b[0mnp\u001b[0m\u001b[0;34m.\u001b[0m\u001b[0masarray\u001b[0m\u001b[0;34m(\u001b[0m\u001b[0mvalue\u001b[0m\u001b[0;34m,\u001b[0m \u001b[0mdtype\u001b[0m\u001b[0;34m=\u001b[0m\u001b[0mdtype\u001b[0m\u001b[0;34m)\u001b[0m\u001b[0;34m\u001b[0m\u001b[0;34m\u001b[0m\u001b[0m\n\u001b[1;32m    148\u001b[0m         variable = theano.shared(value=value,\n",
      "\u001b[0;32m/opt/anaconda3/lib/python3.7/site-packages/theano/gof/graph.py\u001b[0m in \u001b[0;36meval\u001b[0;34m(self, inputs_to_values)\u001b[0m\n\u001b[1;32m    520\u001b[0m         \u001b[0minputs\u001b[0m \u001b[0;34m=\u001b[0m \u001b[0mtuple\u001b[0m\u001b[0;34m(\u001b[0m\u001b[0msorted\u001b[0m\u001b[0;34m(\u001b[0m\u001b[0minputs_to_values\u001b[0m\u001b[0;34m.\u001b[0m\u001b[0mkeys\u001b[0m\u001b[0;34m(\u001b[0m\u001b[0;34m)\u001b[0m\u001b[0;34m,\u001b[0m \u001b[0mkey\u001b[0m\u001b[0;34m=\u001b[0m\u001b[0mid\u001b[0m\u001b[0;34m)\u001b[0m\u001b[0;34m)\u001b[0m\u001b[0;34m\u001b[0m\u001b[0;34m\u001b[0m\u001b[0m\n\u001b[1;32m    521\u001b[0m         \u001b[0;32mif\u001b[0m \u001b[0minputs\u001b[0m \u001b[0;32mnot\u001b[0m \u001b[0;32min\u001b[0m \u001b[0mself\u001b[0m\u001b[0;34m.\u001b[0m\u001b[0m_fn_cache\u001b[0m\u001b[0;34m:\u001b[0m\u001b[0;34m\u001b[0m\u001b[0;34m\u001b[0m\u001b[0m\n\u001b[0;32m--> 522\u001b[0;31m             \u001b[0mself\u001b[0m\u001b[0;34m.\u001b[0m\u001b[0m_fn_cache\u001b[0m\u001b[0;34m[\u001b[0m\u001b[0minputs\u001b[0m\u001b[0;34m]\u001b[0m \u001b[0;34m=\u001b[0m \u001b[0mtheano\u001b[0m\u001b[0;34m.\u001b[0m\u001b[0mfunction\u001b[0m\u001b[0;34m(\u001b[0m\u001b[0minputs\u001b[0m\u001b[0;34m,\u001b[0m \u001b[0mself\u001b[0m\u001b[0;34m)\u001b[0m\u001b[0;34m\u001b[0m\u001b[0;34m\u001b[0m\u001b[0m\n\u001b[0m\u001b[1;32m    523\u001b[0m         \u001b[0margs\u001b[0m \u001b[0;34m=\u001b[0m \u001b[0;34m[\u001b[0m\u001b[0minputs_to_values\u001b[0m\u001b[0;34m[\u001b[0m\u001b[0mparam\u001b[0m\u001b[0;34m]\u001b[0m \u001b[0;32mfor\u001b[0m \u001b[0mparam\u001b[0m \u001b[0;32min\u001b[0m \u001b[0minputs\u001b[0m\u001b[0;34m]\u001b[0m\u001b[0;34m\u001b[0m\u001b[0;34m\u001b[0m\u001b[0m\n\u001b[1;32m    524\u001b[0m \u001b[0;34m\u001b[0m\u001b[0m\n",
      "\u001b[0;32m/opt/anaconda3/lib/python3.7/site-packages/theano/compile/function.py\u001b[0m in \u001b[0;36mfunction\u001b[0;34m(inputs, outputs, mode, updates, givens, no_default_updates, accept_inplace, name, rebuild_strict, allow_input_downcast, profile, on_unused_input)\u001b[0m\n\u001b[1;32m    315\u001b[0m                    \u001b[0mon_unused_input\u001b[0m\u001b[0;34m=\u001b[0m\u001b[0mon_unused_input\u001b[0m\u001b[0;34m,\u001b[0m\u001b[0;34m\u001b[0m\u001b[0;34m\u001b[0m\u001b[0m\n\u001b[1;32m    316\u001b[0m                    \u001b[0mprofile\u001b[0m\u001b[0;34m=\u001b[0m\u001b[0mprofile\u001b[0m\u001b[0;34m,\u001b[0m\u001b[0;34m\u001b[0m\u001b[0;34m\u001b[0m\u001b[0m\n\u001b[0;32m--> 317\u001b[0;31m                    output_keys=output_keys)\n\u001b[0m\u001b[1;32m    318\u001b[0m     \u001b[0;32mreturn\u001b[0m \u001b[0mfn\u001b[0m\u001b[0;34m\u001b[0m\u001b[0;34m\u001b[0m\u001b[0m\n",
      "\u001b[0;32m/opt/anaconda3/lib/python3.7/site-packages/theano/compile/pfunc.py\u001b[0m in \u001b[0;36mpfunc\u001b[0;34m(params, outputs, mode, updates, givens, no_default_updates, accept_inplace, name, rebuild_strict, allow_input_downcast, profile, on_unused_input, output_keys)\u001b[0m\n\u001b[1;32m    484\u001b[0m                          \u001b[0maccept_inplace\u001b[0m\u001b[0;34m=\u001b[0m\u001b[0maccept_inplace\u001b[0m\u001b[0;34m,\u001b[0m \u001b[0mname\u001b[0m\u001b[0;34m=\u001b[0m\u001b[0mname\u001b[0m\u001b[0;34m,\u001b[0m\u001b[0;34m\u001b[0m\u001b[0;34m\u001b[0m\u001b[0m\n\u001b[1;32m    485\u001b[0m                          \u001b[0mprofile\u001b[0m\u001b[0;34m=\u001b[0m\u001b[0mprofile\u001b[0m\u001b[0;34m,\u001b[0m \u001b[0mon_unused_input\u001b[0m\u001b[0;34m=\u001b[0m\u001b[0mon_unused_input\u001b[0m\u001b[0;34m,\u001b[0m\u001b[0;34m\u001b[0m\u001b[0;34m\u001b[0m\u001b[0m\n\u001b[0;32m--> 486\u001b[0;31m                          output_keys=output_keys)\n\u001b[0m\u001b[1;32m    487\u001b[0m \u001b[0;34m\u001b[0m\u001b[0m\n\u001b[1;32m    488\u001b[0m \u001b[0;34m\u001b[0m\u001b[0m\n",
      "\u001b[0;32m/opt/anaconda3/lib/python3.7/site-packages/theano/compile/function_module.py\u001b[0m in \u001b[0;36morig_function\u001b[0;34m(inputs, outputs, mode, accept_inplace, name, profile, on_unused_input, output_keys)\u001b[0m\n\u001b[1;32m   1839\u001b[0m                   name=name)\n\u001b[1;32m   1840\u001b[0m         \u001b[0;32mwith\u001b[0m \u001b[0mtheano\u001b[0m\u001b[0;34m.\u001b[0m\u001b[0mchange_flags\u001b[0m\u001b[0;34m(\u001b[0m\u001b[0mcompute_test_value\u001b[0m\u001b[0;34m=\u001b[0m\u001b[0;34m\"off\"\u001b[0m\u001b[0;34m)\u001b[0m\u001b[0;34m:\u001b[0m\u001b[0;34m\u001b[0m\u001b[0;34m\u001b[0m\u001b[0m\n\u001b[0;32m-> 1841\u001b[0;31m             \u001b[0mfn\u001b[0m \u001b[0;34m=\u001b[0m \u001b[0mm\u001b[0m\u001b[0;34m.\u001b[0m\u001b[0mcreate\u001b[0m\u001b[0;34m(\u001b[0m\u001b[0mdefaults\u001b[0m\u001b[0;34m)\u001b[0m\u001b[0;34m\u001b[0m\u001b[0;34m\u001b[0m\u001b[0m\n\u001b[0m\u001b[1;32m   1842\u001b[0m     \u001b[0;32mfinally\u001b[0m\u001b[0;34m:\u001b[0m\u001b[0;34m\u001b[0m\u001b[0;34m\u001b[0m\u001b[0m\n\u001b[1;32m   1843\u001b[0m         \u001b[0mt2\u001b[0m \u001b[0;34m=\u001b[0m \u001b[0mtime\u001b[0m\u001b[0;34m.\u001b[0m\u001b[0mtime\u001b[0m\u001b[0;34m(\u001b[0m\u001b[0;34m)\u001b[0m\u001b[0;34m\u001b[0m\u001b[0;34m\u001b[0m\u001b[0m\n",
      "\u001b[0;32m/opt/anaconda3/lib/python3.7/site-packages/theano/compile/function_module.py\u001b[0m in \u001b[0;36mcreate\u001b[0;34m(self, input_storage, trustme, storage_map)\u001b[0m\n\u001b[1;32m   1713\u001b[0m             \u001b[0mtheano\u001b[0m\u001b[0;34m.\u001b[0m\u001b[0mconfig\u001b[0m\u001b[0;34m.\u001b[0m\u001b[0mtraceback\u001b[0m\u001b[0;34m.\u001b[0m\u001b[0mlimit\u001b[0m \u001b[0;34m=\u001b[0m \u001b[0mtheano\u001b[0m\u001b[0;34m.\u001b[0m\u001b[0mconfig\u001b[0m\u001b[0;34m.\u001b[0m\u001b[0mtraceback\u001b[0m\u001b[0;34m.\u001b[0m\u001b[0mcompile_limit\u001b[0m\u001b[0;34m\u001b[0m\u001b[0;34m\u001b[0m\u001b[0m\n\u001b[1;32m   1714\u001b[0m             _fn, _i, _o = self.linker.make_thunk(\n\u001b[0;32m-> 1715\u001b[0;31m                 input_storage=input_storage_lists, storage_map=storage_map)\n\u001b[0m\u001b[1;32m   1716\u001b[0m         \u001b[0;32mfinally\u001b[0m\u001b[0;34m:\u001b[0m\u001b[0;34m\u001b[0m\u001b[0;34m\u001b[0m\u001b[0m\n\u001b[1;32m   1717\u001b[0m             \u001b[0mtheano\u001b[0m\u001b[0;34m.\u001b[0m\u001b[0mconfig\u001b[0m\u001b[0;34m.\u001b[0m\u001b[0mtraceback\u001b[0m\u001b[0;34m.\u001b[0m\u001b[0mlimit\u001b[0m \u001b[0;34m=\u001b[0m \u001b[0mlimit_orig\u001b[0m\u001b[0;34m\u001b[0m\u001b[0;34m\u001b[0m\u001b[0m\n",
      "\u001b[0;32m/opt/anaconda3/lib/python3.7/site-packages/theano/gof/link.py\u001b[0m in \u001b[0;36mmake_thunk\u001b[0;34m(self, input_storage, output_storage, storage_map)\u001b[0m\n\u001b[1;32m    697\u001b[0m         return self.make_all(input_storage=input_storage,\n\u001b[1;32m    698\u001b[0m                              \u001b[0moutput_storage\u001b[0m\u001b[0;34m=\u001b[0m\u001b[0moutput_storage\u001b[0m\u001b[0;34m,\u001b[0m\u001b[0;34m\u001b[0m\u001b[0;34m\u001b[0m\u001b[0m\n\u001b[0;32m--> 699\u001b[0;31m                              storage_map=storage_map)[:3]\n\u001b[0m\u001b[1;32m    700\u001b[0m \u001b[0;34m\u001b[0m\u001b[0m\n\u001b[1;32m    701\u001b[0m     \u001b[0;32mdef\u001b[0m \u001b[0mmake_all\u001b[0m\u001b[0;34m(\u001b[0m\u001b[0mself\u001b[0m\u001b[0;34m,\u001b[0m \u001b[0minput_storage\u001b[0m\u001b[0;34m,\u001b[0m \u001b[0moutput_storage\u001b[0m\u001b[0;34m)\u001b[0m\u001b[0;34m:\u001b[0m\u001b[0;34m\u001b[0m\u001b[0;34m\u001b[0m\u001b[0m\n",
      "\u001b[0;32m/opt/anaconda3/lib/python3.7/site-packages/theano/gof/vm.py\u001b[0m in \u001b[0;36mmake_all\u001b[0;34m(self, profiler, input_storage, output_storage, storage_map)\u001b[0m\n\u001b[1;32m   1089\u001b[0m                                                  \u001b[0mcompute_map\u001b[0m\u001b[0;34m,\u001b[0m\u001b[0;34m\u001b[0m\u001b[0;34m\u001b[0m\u001b[0m\n\u001b[1;32m   1090\u001b[0m                                                  \u001b[0;34m[\u001b[0m\u001b[0;34m]\u001b[0m\u001b[0;34m,\u001b[0m\u001b[0;34m\u001b[0m\u001b[0;34m\u001b[0m\u001b[0m\n\u001b[0;32m-> 1091\u001b[0;31m                                                  impl=impl))\n\u001b[0m\u001b[1;32m   1092\u001b[0m                 \u001b[0mlinker_make_thunk_time\u001b[0m\u001b[0;34m[\u001b[0m\u001b[0mnode\u001b[0m\u001b[0;34m]\u001b[0m \u001b[0;34m=\u001b[0m \u001b[0mtime\u001b[0m\u001b[0;34m.\u001b[0m\u001b[0mtime\u001b[0m\u001b[0;34m(\u001b[0m\u001b[0;34m)\u001b[0m \u001b[0;34m-\u001b[0m \u001b[0mthunk_start\u001b[0m\u001b[0;34m\u001b[0m\u001b[0;34m\u001b[0m\u001b[0m\n\u001b[1;32m   1093\u001b[0m                 \u001b[0;32mif\u001b[0m \u001b[0;32mnot\u001b[0m \u001b[0mhasattr\u001b[0m\u001b[0;34m(\u001b[0m\u001b[0mthunks\u001b[0m\u001b[0;34m[\u001b[0m\u001b[0;34m-\u001b[0m\u001b[0;36m1\u001b[0m\u001b[0;34m]\u001b[0m\u001b[0;34m,\u001b[0m \u001b[0;34m'lazy'\u001b[0m\u001b[0;34m)\u001b[0m\u001b[0;34m:\u001b[0m\u001b[0;34m\u001b[0m\u001b[0;34m\u001b[0m\u001b[0m\n",
      "\u001b[0;32m/opt/anaconda3/lib/python3.7/site-packages/theano/gof/op.py\u001b[0m in \u001b[0;36mmake_thunk\u001b[0;34m(self, node, storage_map, compute_map, no_recycling, impl)\u001b[0m\n\u001b[1;32m    953\u001b[0m             \u001b[0;32mtry\u001b[0m\u001b[0;34m:\u001b[0m\u001b[0;34m\u001b[0m\u001b[0;34m\u001b[0m\u001b[0m\n\u001b[1;32m    954\u001b[0m                 return self.make_c_thunk(node, storage_map, compute_map,\n\u001b[0;32m--> 955\u001b[0;31m                                          no_recycling)\n\u001b[0m\u001b[1;32m    956\u001b[0m             \u001b[0;32mexcept\u001b[0m \u001b[0;34m(\u001b[0m\u001b[0mNotImplementedError\u001b[0m\u001b[0;34m,\u001b[0m \u001b[0mutils\u001b[0m\u001b[0;34m.\u001b[0m\u001b[0mMethodNotDefined\u001b[0m\u001b[0;34m)\u001b[0m\u001b[0;34m:\u001b[0m\u001b[0;34m\u001b[0m\u001b[0;34m\u001b[0m\u001b[0m\n\u001b[1;32m    957\u001b[0m                 \u001b[0;31m# We requested the c code, so don't catch the error.\u001b[0m\u001b[0;34m\u001b[0m\u001b[0;34m\u001b[0m\u001b[0;34m\u001b[0m\u001b[0m\n",
      "\u001b[0;32m/opt/anaconda3/lib/python3.7/site-packages/theano/gof/op.py\u001b[0m in \u001b[0;36mmake_c_thunk\u001b[0;34m(self, node, storage_map, compute_map, no_recycling)\u001b[0m\n\u001b[1;32m    856\u001b[0m         \u001b[0m_logger\u001b[0m\u001b[0;34m.\u001b[0m\u001b[0mdebug\u001b[0m\u001b[0;34m(\u001b[0m\u001b[0;34m'Trying CLinker.make_thunk'\u001b[0m\u001b[0;34m)\u001b[0m\u001b[0;34m\u001b[0m\u001b[0;34m\u001b[0m\u001b[0m\n\u001b[1;32m    857\u001b[0m         outputs = cl.make_thunk(input_storage=node_input_storage,\n\u001b[0;32m--> 858\u001b[0;31m                                 output_storage=node_output_storage)\n\u001b[0m\u001b[1;32m    859\u001b[0m         \u001b[0mthunk\u001b[0m\u001b[0;34m,\u001b[0m \u001b[0mnode_input_filters\u001b[0m\u001b[0;34m,\u001b[0m \u001b[0mnode_output_filters\u001b[0m \u001b[0;34m=\u001b[0m \u001b[0moutputs\u001b[0m\u001b[0;34m\u001b[0m\u001b[0;34m\u001b[0m\u001b[0m\n\u001b[1;32m    860\u001b[0m \u001b[0;34m\u001b[0m\u001b[0m\n",
      "\u001b[0;32m/opt/anaconda3/lib/python3.7/site-packages/theano/gof/cc.py\u001b[0m in \u001b[0;36mmake_thunk\u001b[0;34m(self, input_storage, output_storage, storage_map, keep_lock)\u001b[0m\n\u001b[1;32m   1215\u001b[0m         cthunk, module, in_storage, out_storage, error_storage = self.__compile__(\n\u001b[1;32m   1216\u001b[0m             \u001b[0minput_storage\u001b[0m\u001b[0;34m,\u001b[0m \u001b[0moutput_storage\u001b[0m\u001b[0;34m,\u001b[0m \u001b[0mstorage_map\u001b[0m\u001b[0;34m,\u001b[0m\u001b[0;34m\u001b[0m\u001b[0;34m\u001b[0m\u001b[0m\n\u001b[0;32m-> 1217\u001b[0;31m             keep_lock=keep_lock)\n\u001b[0m\u001b[1;32m   1218\u001b[0m \u001b[0;34m\u001b[0m\u001b[0m\n\u001b[1;32m   1219\u001b[0m         \u001b[0mres\u001b[0m \u001b[0;34m=\u001b[0m \u001b[0m_CThunk\u001b[0m\u001b[0;34m(\u001b[0m\u001b[0mcthunk\u001b[0m\u001b[0;34m,\u001b[0m \u001b[0minit_tasks\u001b[0m\u001b[0;34m,\u001b[0m \u001b[0mtasks\u001b[0m\u001b[0;34m,\u001b[0m \u001b[0merror_storage\u001b[0m\u001b[0;34m,\u001b[0m \u001b[0mmodule\u001b[0m\u001b[0;34m)\u001b[0m\u001b[0;34m\u001b[0m\u001b[0;34m\u001b[0m\u001b[0m\n",
      "\u001b[0;32m/opt/anaconda3/lib/python3.7/site-packages/theano/gof/cc.py\u001b[0m in \u001b[0;36m__compile__\u001b[0;34m(self, input_storage, output_storage, storage_map, keep_lock)\u001b[0m\n\u001b[1;32m   1155\u001b[0m                                             \u001b[0moutput_storage\u001b[0m\u001b[0;34m,\u001b[0m\u001b[0;34m\u001b[0m\u001b[0;34m\u001b[0m\u001b[0m\n\u001b[1;32m   1156\u001b[0m                                             \u001b[0mstorage_map\u001b[0m\u001b[0;34m,\u001b[0m\u001b[0;34m\u001b[0m\u001b[0;34m\u001b[0m\u001b[0m\n\u001b[0;32m-> 1157\u001b[0;31m                                             keep_lock=keep_lock)\n\u001b[0m\u001b[1;32m   1158\u001b[0m         return (thunk,\n\u001b[1;32m   1159\u001b[0m                 \u001b[0mmodule\u001b[0m\u001b[0;34m,\u001b[0m\u001b[0;34m\u001b[0m\u001b[0;34m\u001b[0m\u001b[0m\n",
      "\u001b[0;32m/opt/anaconda3/lib/python3.7/site-packages/theano/gof/cc.py\u001b[0m in \u001b[0;36mcthunk_factory\u001b[0;34m(self, error_storage, in_storage, out_storage, storage_map, keep_lock)\u001b[0m\n\u001b[1;32m   1622\u001b[0m                 \u001b[0mnode\u001b[0m\u001b[0;34m.\u001b[0m\u001b[0mop\u001b[0m\u001b[0;34m.\u001b[0m\u001b[0mprepare_node\u001b[0m\u001b[0;34m(\u001b[0m\u001b[0mnode\u001b[0m\u001b[0;34m,\u001b[0m \u001b[0mstorage_map\u001b[0m\u001b[0;34m,\u001b[0m \u001b[0;32mNone\u001b[0m\u001b[0;34m,\u001b[0m \u001b[0;34m'c'\u001b[0m\u001b[0;34m)\u001b[0m\u001b[0;34m\u001b[0m\u001b[0;34m\u001b[0m\u001b[0m\n\u001b[1;32m   1623\u001b[0m             module = get_module_cache().module_from_key(\n\u001b[0;32m-> 1624\u001b[0;31m                 key=key, lnk=self, keep_lock=keep_lock)\n\u001b[0m\u001b[1;32m   1625\u001b[0m \u001b[0;34m\u001b[0m\u001b[0m\n\u001b[1;32m   1626\u001b[0m         \u001b[0mvars\u001b[0m \u001b[0;34m=\u001b[0m \u001b[0mself\u001b[0m\u001b[0;34m.\u001b[0m\u001b[0minputs\u001b[0m \u001b[0;34m+\u001b[0m \u001b[0mself\u001b[0m\u001b[0;34m.\u001b[0m\u001b[0moutputs\u001b[0m \u001b[0;34m+\u001b[0m \u001b[0mself\u001b[0m\u001b[0;34m.\u001b[0m\u001b[0morphans\u001b[0m\u001b[0;34m\u001b[0m\u001b[0;34m\u001b[0m\u001b[0m\n",
      "\u001b[0;32m/opt/anaconda3/lib/python3.7/site-packages/theano/gof/cmodule.py\u001b[0m in \u001b[0;36mmodule_from_key\u001b[0;34m(self, key, lnk, keep_lock)\u001b[0m\n\u001b[1;32m   1187\u001b[0m             \u001b[0;32mtry\u001b[0m\u001b[0;34m:\u001b[0m\u001b[0;34m\u001b[0m\u001b[0;34m\u001b[0m\u001b[0m\n\u001b[1;32m   1188\u001b[0m                 \u001b[0mlocation\u001b[0m \u001b[0;34m=\u001b[0m \u001b[0mdlimport_workdir\u001b[0m\u001b[0;34m(\u001b[0m\u001b[0mself\u001b[0m\u001b[0;34m.\u001b[0m\u001b[0mdirname\u001b[0m\u001b[0;34m)\u001b[0m\u001b[0;34m\u001b[0m\u001b[0;34m\u001b[0m\u001b[0m\n\u001b[0;32m-> 1189\u001b[0;31m                 \u001b[0mmodule\u001b[0m \u001b[0;34m=\u001b[0m \u001b[0mlnk\u001b[0m\u001b[0;34m.\u001b[0m\u001b[0mcompile_cmodule\u001b[0m\u001b[0;34m(\u001b[0m\u001b[0mlocation\u001b[0m\u001b[0;34m)\u001b[0m\u001b[0;34m\u001b[0m\u001b[0;34m\u001b[0m\u001b[0m\n\u001b[0m\u001b[1;32m   1190\u001b[0m                 \u001b[0mname\u001b[0m \u001b[0;34m=\u001b[0m \u001b[0mmodule\u001b[0m\u001b[0;34m.\u001b[0m\u001b[0m__file__\u001b[0m\u001b[0;34m\u001b[0m\u001b[0;34m\u001b[0m\u001b[0m\n\u001b[1;32m   1191\u001b[0m                 \u001b[0;32massert\u001b[0m \u001b[0mname\u001b[0m\u001b[0;34m.\u001b[0m\u001b[0mstartswith\u001b[0m\u001b[0;34m(\u001b[0m\u001b[0mlocation\u001b[0m\u001b[0;34m)\u001b[0m\u001b[0;34m\u001b[0m\u001b[0;34m\u001b[0m\u001b[0m\n",
      "\u001b[0;32m/opt/anaconda3/lib/python3.7/site-packages/theano/gof/cc.py\u001b[0m in \u001b[0;36mcompile_cmodule\u001b[0;34m(self, location)\u001b[0m\n\u001b[1;32m   1525\u001b[0m                 \u001b[0mlib_dirs\u001b[0m\u001b[0;34m=\u001b[0m\u001b[0mself\u001b[0m\u001b[0;34m.\u001b[0m\u001b[0mlib_dirs\u001b[0m\u001b[0;34m(\u001b[0m\u001b[0;34m)\u001b[0m\u001b[0;34m,\u001b[0m\u001b[0;34m\u001b[0m\u001b[0;34m\u001b[0m\u001b[0m\n\u001b[1;32m   1526\u001b[0m                 \u001b[0mlibs\u001b[0m\u001b[0;34m=\u001b[0m\u001b[0mlibs\u001b[0m\u001b[0;34m,\u001b[0m\u001b[0;34m\u001b[0m\u001b[0;34m\u001b[0m\u001b[0m\n\u001b[0;32m-> 1527\u001b[0;31m                 preargs=preargs)\n\u001b[0m\u001b[1;32m   1528\u001b[0m         \u001b[0;32mexcept\u001b[0m \u001b[0mException\u001b[0m \u001b[0;32mas\u001b[0m \u001b[0me\u001b[0m\u001b[0;34m:\u001b[0m\u001b[0;34m\u001b[0m\u001b[0;34m\u001b[0m\u001b[0m\n\u001b[1;32m   1529\u001b[0m             \u001b[0me\u001b[0m\u001b[0;34m.\u001b[0m\u001b[0margs\u001b[0m \u001b[0;34m+=\u001b[0m \u001b[0;34m(\u001b[0m\u001b[0mstr\u001b[0m\u001b[0;34m(\u001b[0m\u001b[0mself\u001b[0m\u001b[0;34m.\u001b[0m\u001b[0mfgraph\u001b[0m\u001b[0;34m)\u001b[0m\u001b[0;34m,\u001b[0m\u001b[0;34m)\u001b[0m\u001b[0;34m\u001b[0m\u001b[0;34m\u001b[0m\u001b[0m\n",
      "\u001b[0;32m/opt/anaconda3/lib/python3.7/site-packages/theano/gof/cmodule.py\u001b[0m in \u001b[0;36mcompile_str\u001b[0;34m(module_name, src_code, location, include_dirs, lib_dirs, libs, preargs, py_module, hide_symbols)\u001b[0m\n\u001b[1;32m   2394\u001b[0m             \u001b[0;31m# difficult to read.\u001b[0m\u001b[0;34m\u001b[0m\u001b[0;34m\u001b[0m\u001b[0;34m\u001b[0m\u001b[0m\n\u001b[1;32m   2395\u001b[0m             raise Exception('Compilation failed (return status=%s): %s' %\n\u001b[0;32m-> 2396\u001b[0;31m                             (status, compile_stderr.replace('\\n', '. ')))\n\u001b[0m\u001b[1;32m   2397\u001b[0m         \u001b[0;32melif\u001b[0m \u001b[0mconfig\u001b[0m\u001b[0;34m.\u001b[0m\u001b[0mcmodule\u001b[0m\u001b[0;34m.\u001b[0m\u001b[0mcompilation_warning\u001b[0m \u001b[0;32mand\u001b[0m \u001b[0mcompile_stderr\u001b[0m\u001b[0;34m:\u001b[0m\u001b[0;34m\u001b[0m\u001b[0;34m\u001b[0m\u001b[0m\n\u001b[1;32m   2398\u001b[0m             \u001b[0;31m# Print errors just below the command line.\u001b[0m\u001b[0;34m\u001b[0m\u001b[0;34m\u001b[0m\u001b[0;34m\u001b[0m\u001b[0m\n",
      "\u001b[0;31mException\u001b[0m: ('The following error happened while compiling the node', Elemwise{Cast{float32}}(TensorConstant{(1, 1, 1, ..8654224418}), '\\n', \"Compilation failed (return status=1): /Users/ayan/.theano/compiledir_Darwin-19.4.0-x86_64-i386-64bit-i386-3.7.4-64/tmp9pyd_udz/mod.cpp:396:27: error: non-constant-expression cannot be narrowed from type 'npy_intp' (aka 'long') to 'int' in initializer list [-Wc++11-narrowing].     int init_totals[4] = {V1_n0, V1_n1, V1_n2, V1_n3};.                           ^~~~~. /Users/ayan/.theano/compiledir_Darwin-19.4.0-x86_64-i386-64bit-i386-3.7.4-64/tmp9pyd_udz/mod.cpp:396:27: note: insert an explicit cast to silence this issue.     int init_totals[4] = {V1_n0, V1_n1, V1_n2, V1_n3};.                           ^~~~~.                           static_cast<int>( ). /Users/ayan/.theano/compiledir_Darwin-19.4.0-x86_64-i386-64bit-i386-3.7.4-64/tmp9pyd_udz/mod.cpp:396:34: error: non-constant-expression cannot be narrowed from type 'npy_intp' (aka 'long') to 'int' in initializer list [-Wc++11-narrowing].     int init_totals[4] = {V1_n0, V1_n1, V1_n2, V1_n3};.                                  ^~~~~. /Users/ayan/.theano/compiledir_Darwin-19.4.0-x86_64-i386-64bit-i386-3.7.4-64/tmp9pyd_udz/mod.cpp:396:34: note: insert an explicit cast to silence this issue.     int init_totals[4] = {V1_n0, V1_n1, V1_n2, V1_n3};.                                  ^~~~~.                                  static_cast<int>( ). /Users/ayan/.theano/compiledir_Darwin-19.4.0-x86_64-i386-64bit-i386-3.7.4-64/tmp9pyd_udz/mod.cpp:396:41: error: non-constant-expression cannot be narrowed from type 'npy_intp' (aka 'long') to 'int' in initializer list [-Wc++11-narrowing].     int init_totals[4] = {V1_n0, V1_n1, V1_n2, V1_n3};.                                         ^~~~~. /Users/ayan/.theano/compiledir_Darwin-19.4.0-x86_64-i386-64bit-i386-3.7.4-64/tmp9pyd_udz/mod.cpp:396:41: note: insert an explicit cast to silence this issue.     int init_totals[4] = {V1_n0, V1_n1, V1_n2, V1_n3};.                                         ^~~~~.                                         static_cast<int>( ). /Users/ayan/.theano/compiledir_Darwin-19.4.0-x86_64-i386-64bit-i386-3.7.4-64/tmp9pyd_udz/mod.cpp:396:48: error: non-constant-expression cannot be narrowed from type 'npy_intp' (aka 'long') to 'int' in initializer list [-Wc++11-narrowing].     int init_totals[4] = {V1_n0, V1_n1, V1_n2, V1_n3};.                                                ^~~~~. /Users/ayan/.theano/compiledir_Darwin-19.4.0-x86_64-i386-64bit-i386-3.7.4-64/tmp9pyd_udz/mod.cpp:396:48: note: insert an explicit cast to silence this issue.     int init_totals[4] = {V1_n0, V1_n1, V1_n2, V1_n3};.                                                ^~~~~.                                                static_cast<int>( ). /Users/ayan/.theano/compiledir_Darwin-19.4.0-x86_64-i386-64bit-i386-3.7.4-64/tmp9pyd_udz/mod.cpp:415:1: error: non-constant-expression cannot be narrowed from type 'ssize_t' (aka 'long') to 'int' in initializer list [-Wc++11-narrowing]. V1_stride0, V1_stride1, V1_stride2, V1_stride3. ^~~~~~~~~~. /Users/ayan/.theano/compiledir_Darwin-19.4.0-x86_64-i386-64bit-i386-3.7.4-64/tmp9pyd_udz/mod.cpp:415:1: note: insert an explicit cast to silence this issue. V1_stride0, V1_stride1, V1_stride2, V1_stride3. ^~~~~~~~~~. static_cast<int>( ). /Users/ayan/.theano/compiledir_Darwin-19.4.0-x86_64-i386-64bit-i386-3.7.4-64/tmp9pyd_udz/mod.cpp:415:13: error: non-constant-expression cannot be narrowed from type 'ssize_t' (aka 'long') to 'int' in initializer list [-Wc++11-narrowing]. V1_stride0, V1_stride1, V1_stride2, V1_stride3.             ^~~~~~~~~~. /Users/ayan/.theano/compiledir_Darwin-19.4.0-x86_64-i386-64bit-i386-3.7.4-64/tmp9pyd_udz/mod.cpp:415:13: note: insert an explicit cast to silence this issue. V1_stride0, V1_stride1, V1_stride2, V1_stride3.             ^~~~~~~~~~.             static_cast<int>( ). /Users/ayan/.theano/compiledir_Darwin-19.4.0-x86_64-i386-64bit-i386-3.7.4-64/tmp9pyd_udz/mod.cpp:415:25: error: non-constant-expression cannot be narrowed from type 'ssize_t' (aka 'long') to 'int' in initializer list [-Wc++11-narrowing]. V1_stride0, V1_stride1, V1_stride2, V1_stride3.                         ^~~~~~~~~~. /Users/ayan/.theano/compiledir_Darwin-19.4.0-x86_64-i386-64bit-i386-3.7.4-64/tmp9pyd_udz/mod.cpp:415:25: note: insert an explicit cast to silence this issue. V1_stride0, V1_stride1, V1_stride2, V1_stride3.                         ^~~~~~~~~~.                         static_cast<int>( ). /Users/ayan/.theano/compiledir_Darwin-19.4.0-x86_64-i386-64bit-i386-3.7.4-64/tmp9pyd_udz/mod.cpp:415:37: error: non-constant-expression cannot be narrowed from type 'ssize_t' (aka 'long') to 'int' in initializer list [-Wc++11-narrowing]. V1_stride0, V1_stride1, V1_stride2, V1_stride3.                                     ^~~~~~~~~~. /Users/ayan/.theano/compiledir_Darwin-19.4.0-x86_64-i386-64bit-i386-3.7.4-64/tmp9pyd_udz/mod.cpp:415:37: note: insert an explicit cast to silence this issue. V1_stride0, V1_stride1, V1_stride2, V1_stride3.                                     ^~~~~~~~~~.                                     static_cast<int>( ). 8 errors generated.. \", '[Elemwise{Cast{float32}}(TensorConstant{(1, 1, 1, ..8654224418})]')"
     ]
    }
   ],
   "source": [
    "model=Sequential()\n",
    "\n",
    "model.add(Conv2D(filters=32,input_shape=(28,28,1),kernel_size=(5,5),activation='relu'))\n",
    "model.add(Conv2D(filters=32,kernel_size=(5,5),activation='relu'))\n",
    "\n",
    "model.add(MaxPooling2D(pool_size=(2,2)))\n",
    "\n",
    "model.add(Conv2D(filters=64,kernel_size=(3,3),activation='relu'))\n",
    "model.add(Conv2D(filters=64,kernel_size=(3,3),activation='relu'))\n",
    "\n",
    "model.add(MaxPooling2D(pool_size=(2,2)))\n",
    "\n",
    "model.add(Flatten())\n",
    "\n",
    "model.add(Dense(256,activation='relu'))\n",
    "model.add(Dropout(0.25))\n",
    "\n",
    "model.add(Dense(10,activation='softmax'))\n",
    "\n",
    "model.compile(loss='categorical_crossentropy',optimizer='adam',metrics=['accuracy'])"
   ]
  },
  {
   "cell_type": "code",
   "execution_count": null,
   "metadata": {},
   "outputs": [],
   "source": [
    "# from keras.preprocessing.image import ImageDataGenerator"
   ]
  },
  {
   "cell_type": "code",
   "execution_count": null,
   "metadata": {},
   "outputs": [],
   "source": [
    "# datagen = ImageDataGenerator(\n",
    "#         featurewise_center=False,  # set input mean to 0 over the dataset\n",
    "#         samplewise_center=False,  # set each sample mean to 0\n",
    "#         featurewise_std_normalization=False,  # divide inputs by std of the dataset\n",
    "#         samplewise_std_normalization=False,  # divide each input by its std\n",
    "#         zca_whitening=False,  # apply ZCA whitening\n",
    "#         rotation_range=10,  # randomly rotate images in the range (degrees, 0 to 180)\n",
    "#         zoom_range = 0.1, # Randomly zoom image \n",
    "#         width_shift_range=0.1,  # randomly shift images horizontally (fraction of total width)\n",
    "#         height_shift_range=0.1,  # randomly shift images vertically (fraction of total height)\n",
    "#         horizontal_flip=False,  # randomly flip images\n",
    "#         vertical_flip=False)"
   ]
  },
  {
   "cell_type": "code",
   "execution_count": null,
   "metadata": {},
   "outputs": [],
   "source": [
    "# datagen.fit(X_train)"
   ]
  },
  {
   "cell_type": "code",
   "execution_count": null,
   "metadata": {},
   "outputs": [],
   "source": [
    "# results = model.fit_generator((datagen.flow(X_train,y_cat_train, batch_size=16),epochs=1,\n",
    "#                               steps_per_epoch=150,\n",
    "#                               validation_data=(X_test,y_cat_test),\n",
    "#                              validation_steps=12)"
   ]
  },
  {
   "cell_type": "code",
   "execution_count": null,
   "metadata": {},
   "outputs": [],
   "source": [
    "from keras.preprocessing.image import ImageDataGenerator"
   ]
  },
  {
   "cell_type": "code",
   "execution_count": null,
   "metadata": {},
   "outputs": [],
   "source": [
    "datagen = ImageDataGenerator(\n",
    "        featurewise_center=False,  # set input mean to 0 over the dataset\n",
    "        samplewise_center=False,  # set each sample mean to 0\n",
    "        featurewise_std_normalization=False,  # divide inputs by std of the dataset\n",
    "        samplewise_std_normalization=False,  # divide each input by its std\n",
    "        zca_whitening=False,  # apply ZCA whitening\n",
    "        rotation_range=10,  # randomly rotate images in the range (degrees, 0 to 180)\n",
    "        zoom_range = 0.1, # Randomly zoom image \n",
    "        width_shift_range=0.1,  # randomly shift images horizontally (fraction of total width)\n",
    "        height_shift_range=0.1,  # randomly shift images vertically (fraction of total height)\n",
    "        horizontal_flip=False,  # randomly flip images\n",
    "        vertical_flip=False)  # randomly flip images\n",
    "\n",
    "\n",
    "datagen.fit(X_train)"
   ]
  },
  {
   "cell_type": "code",
   "execution_count": null,
   "metadata": {},
   "outputs": [],
   "source": [
    "# image_gen=ImageDataGenerator(rotation_range=30,\n",
    "#                             width_shift_range=0.1,\n",
    "#                             height_shift_range=0.1,\n",
    "#                             rescale=1/255,\n",
    "#                             shear_range=0.2,\n",
    "#                             zoom_range=0.2,\n",
    "#                             horizontal_flip=False,\n",
    "#                             vertical_flip=False,\n",
    "#                             fill_mode='nearest')"
   ]
  },
  {
   "cell_type": "code",
   "execution_count": null,
   "metadata": {},
   "outputs": [],
   "source": [
    "# # image_gen.fit(X_train)\n",
    "# gen = ImageDataGenerator(rotation_range=8, width_shift_range=0.08, shear_range=0.3,\n",
    "#                          height_shift_range=0.08, zoom_range=0.08)\n",
    "\n",
    "# test_gen = ImageDataGenerator()"
   ]
  },
  {
   "cell_type": "code",
   "execution_count": null,
   "metadata": {},
   "outputs": [],
   "source": [
    "# train_generator = gen.flow(X_train, y_cat_train, batch_size=64)\n",
    "# test_generator = test_gen.flow(X_test, y_cat_test, batch_size=64)"
   ]
  },
  {
   "cell_type": "code",
   "execution_count": null,
   "metadata": {},
   "outputs": [],
   "source": []
  },
  {
   "cell_type": "code",
   "execution_count": null,
   "metadata": {},
   "outputs": [],
   "source": [
    "# model.fit_generator(train_generator, steps_per_epoch=6, epochs=5, \n",
    "#                     validation_data=test_generator, validation_steps=1)"
   ]
  },
  {
   "cell_type": "code",
   "execution_count": null,
   "metadata": {},
   "outputs": [],
   "source": [
    "# train_image_gen = image_gen.flow_from_dataframe((X_train,y_),\n",
    "#                                                target_size=image_shape[:2],\n",
    "#                                                batch_size=batch_size,\n",
    "#                                               )"
   ]
  },
  {
   "cell_type": "code",
   "execution_count": null,
   "metadata": {},
   "outputs": [],
   "source": [
    "from tensorflow.keras.callbacks import EarlyStopping"
   ]
  },
  {
   "cell_type": "code",
   "execution_count": null,
   "metadata": {},
   "outputs": [],
   "source": [
    "early_stop=EarlyStopping(monitor='val_accuracy',mode='min',verbose=1,patience=3)"
   ]
  },
  {
   "cell_type": "code",
   "execution_count": null,
   "metadata": {},
   "outputs": [],
   "source": [
    "# import tensorflow as tf"
   ]
  },
  {
   "cell_type": "code",
   "execution_count": null,
   "metadata": {},
   "outputs": [],
   "source": [
    "# ln_fc = lambda x: 1e-3 * 0.985 ** x\n",
    "# lrng_rt = tf.keras.callbacks.LearningRateScheduler(ln_fc)"
   ]
  },
  {
   "cell_type": "code",
   "execution_count": null,
   "metadata": {},
   "outputs": [],
   "source": [
    "batch_size = 80\n",
    "history = model.fit_generator(image_gen.flow(X_train,y_cat_train, batch_size=batch_size),\n",
    "                              epochs = 5, validation_data = (X_test,y_cat_test),\n",
    "                              verbose = 1, steps_per_epoch = X_train.shape[0]//batch_size,callbacks=[early_stop])"
   ]
  },
  {
   "cell_type": "code",
   "execution_count": null,
   "metadata": {},
   "outputs": [],
   "source": [
    "# from keras.optimizers import RMSprop\n",
    "# from keras.callbacks import ReduceLROnPlateau\n",
    "# optimizer = RMSprop(lr=0.001, rho=0.9, epsilon=1e-08, decay=0.0)"
   ]
  },
  {
   "cell_type": "code",
   "execution_count": null,
   "metadata": {},
   "outputs": [],
   "source": [
    "# model.compile(optimizer = optimizer , loss = \"categorical_crossentropy\", metrics=[\"accuracy\"])"
   ]
  },
  {
   "cell_type": "code",
   "execution_count": null,
   "metadata": {},
   "outputs": [],
   "source": [
    "learning_rate_reduction = ReduceLROnPlateau(monitor='val_accuracy', \n",
    "                                            patience=3, \n",
    "                                            verbose=1, \n",
    "                                            factor=0.5, \n",
    "                                            min_lr=0.00001)"
   ]
  },
  {
   "cell_type": "code",
   "execution_count": null,
   "metadata": {},
   "outputs": [],
   "source": [
    "# epochs = 1 # Turn epochs to 30 to get 0.9967 accuracy\n",
    "# batch_size = 86"
   ]
  },
  {
   "cell_type": "code",
   "execution_count": null,
   "metadata": {},
   "outputs": [],
   "source": [
    "# datagen = ImageDataGenerator(\n",
    "#         featurewise_center=False,  # set input mean to 0 over the dataset\n",
    "#         samplewise_center=False,  # set each sample mean to 0\n",
    "#         featurewise_std_normalization=False,  # divide inputs by std of the dataset\n",
    "#         samplewise_std_normalization=False,  # divide each input by its std\n",
    "#         zca_whitening=False,  # apply ZCA whitening\n",
    "#         rotation_range=10,  # randomly rotate images in the range (degrees, 0 to 180)\n",
    "#         zoom_range = 0.1, # Randomly zoom image \n",
    "#         width_shift_range=0.1,  # randomly shift images horizontally (fraction of total width)\n",
    "#         height_shift_range=0.1,  # randomly shift images vertically (fraction of total height)\n",
    "#         horizontal_flip=False,  # randomly flip images\n",
    "#         vertical_flip=False)  # randomly flip images\n",
    "\n",
    "\n",
    "# datagen.fit(X_train)"
   ]
  },
  {
   "cell_type": "code",
   "execution_count": null,
   "metadata": {},
   "outputs": [],
   "source": [
    "# history = model.fit_generator(datagen.flow(X_train,y_cat_train, batch_size=batch_size),\n",
    "#                               epochs = 100, validation_data = (X_test,y_cat_test),\n",
    "#                               verbose = 1, steps_per_epoch=X_train.shape[0] // batch_size\n",
    "#                               ,callbacks=[learning_rate_reduction])"
   ]
  },
  {
   "cell_type": "code",
   "execution_count": null,
   "metadata": {},
   "outputs": [],
   "source": [
    "# model.fit(X_train,y_cat_train,epochs=20)"
   ]
  },
  {
   "cell_type": "code",
   "execution_count": null,
   "metadata": {},
   "outputs": [],
   "source": [
    "# model.save('DigitGen1.h5')"
   ]
  },
  {
   "cell_type": "code",
   "execution_count": null,
   "metadata": {},
   "outputs": [],
   "source": [
    "from sklearn.metrics import classification_report"
   ]
  },
  {
   "cell_type": "code",
   "execution_count": null,
   "metadata": {},
   "outputs": [],
   "source": [
    "predictions=model.predict_classes(X_test)"
   ]
  },
  {
   "cell_type": "code",
   "execution_count": null,
   "metadata": {},
   "outputs": [],
   "source": [
    " print(classification_report(y_test,predictions))"
   ]
  },
  {
   "cell_type": "code",
   "execution_count": null,
   "metadata": {},
   "outputs": [],
   "source": [
    "predictions"
   ]
  },
  {
   "cell_type": "code",
   "execution_count": null,
   "metadata": {},
   "outputs": [],
   "source": [
    "# print(confusion_matrix(y_test,predictions))"
   ]
  },
  {
   "cell_type": "code",
   "execution_count": null,
   "metadata": {},
   "outputs": [],
   "source": [
    "# results=np.argmax(predictions)"
   ]
  },
  {
   "cell_type": "code",
   "execution_count": null,
   "metadata": {},
   "outputs": [],
   "source": [
    "pd.Series(predictions,name=\"Label\")"
   ]
  },
  {
   "cell_type": "code",
   "execution_count": null,
   "metadata": {},
   "outputs": [],
   "source": [
    "results = model.predict(test)\n",
    "results = np.argmax(results,axis = 1)\n",
    "results = pd.Series(results,name=\"Label\")"
   ]
  },
  {
   "cell_type": "code",
   "execution_count": null,
   "metadata": {},
   "outputs": [],
   "source": [
    "results"
   ]
  },
  {
   "cell_type": "code",
   "execution_count": null,
   "metadata": {},
   "outputs": [],
   "source": [
    "# results = np.argmax(predictions,axis = 1)\n",
    "\n",
    "# results = pd.Series(results,name=\"Label\")"
   ]
  },
  {
   "cell_type": "code",
   "execution_count": null,
   "metadata": {},
   "outputs": [],
   "source": [
    "sub=pd.read_csv('sample_submission.csv')\n",
    "sub.head()"
   ]
  },
  {
   "cell_type": "code",
   "execution_count": null,
   "metadata": {},
   "outputs": [],
   "source": [
    "# results = model.predict(test_data)\n",
    "# results = np.argmax(results,axis = 1)\n",
    "# results = pd.Series(results,name=\"Label\")\n",
    "\n",
    "submission = pd.concat([pd.Series(range(1,28001),name = \"ImageId\"),results],axis = 1)\n",
    "submission.to_csv(\"nn_mnist.csv\",index=False)"
   ]
  },
  {
   "cell_type": "code",
   "execution_count": null,
   "metadata": {},
   "outputs": [],
   "source": [
    "submission"
   ]
  },
  {
   "cell_type": "code",
   "execution_count": null,
   "metadata": {},
   "outputs": [],
   "source": []
  }
 ],
 "metadata": {
  "kernelspec": {
   "display_name": "Python 3",
   "language": "python",
   "name": "python3"
  },
  "language_info": {
   "codemirror_mode": {
    "name": "ipython",
    "version": 3
   },
   "file_extension": ".py",
   "mimetype": "text/x-python",
   "name": "python",
   "nbconvert_exporter": "python",
   "pygments_lexer": "ipython3",
   "version": "3.7.4"
  }
 },
 "nbformat": 4,
 "nbformat_minor": 4
}
