{
 "cells": [
  {
   "cell_type": "code",
   "execution_count": 1,
   "id": "hydraulic-patch",
   "metadata": {
    "_cell_guid": "b1076dfc-b9ad-4769-8c92-a6c4dae69d19",
    "_uuid": "8f2839f25d086af736a60e9eeb907d3b93b6e0e5",
    "execution": {
     "iopub.execute_input": "2021-03-26T15:03:37.952833Z",
     "iopub.status.busy": "2021-03-26T15:03:37.952104Z",
     "iopub.status.idle": "2021-03-26T15:03:37.958228Z",
     "shell.execute_reply": "2021-03-26T15:03:37.958842Z"
    },
    "papermill": {
     "duration": 0.023811,
     "end_time": "2021-03-26T15:03:37.959218",
     "exception": false,
     "start_time": "2021-03-26T15:03:37.935407",
     "status": "completed"
    },
    "tags": []
   },
   "outputs": [
    {
     "name": "stdout",
     "output_type": "stream",
     "text": [
      "/kaggle/input/tabular-playground-series-mar-2021/sample_submission.csv\n",
      "/kaggle/input/tabular-playground-series-mar-2021/train.csv\n",
      "/kaggle/input/tabular-playground-series-mar-2021/test.csv\n"
     ]
    }
   ],
   "source": [
    "# This Python 3 environment comes with many helpful analytics libraries installed\n",
    "# It is defined by the kaggle/python Docker image: https://github.com/kaggle/docker-python\n",
    "# For example, here's several helpful packages to load\n",
    "\n",
    "import numpy as np # linear algebra\n",
    "import pandas as pd # data processing, CSV file I/O (e.g. pd.read_csv)\n",
    "\n",
    "# Input data files are available in the read-only \"../input/\" directory\n",
    "# For example, running this (by clicking run or pressing Shift+Enter) will list all files under the input directory\n",
    "\n",
    "import os\n",
    "for dirname, _, filenames in os.walk('/kaggle/input'):\n",
    "    for filename in filenames:\n",
    "        print(os.path.join(dirname, filename))\n",
    "\n",
    "# You can write up to 20GB to the current directory (/kaggle/working/) that gets preserved as output when you create a version using \"Save & Run All\" \n",
    "# You can also write temporary files to /kaggle/temp/, but they won't be saved outside of the current session"
   ]
  },
  {
   "cell_type": "code",
   "execution_count": 2,
   "id": "approved-tokyo",
   "metadata": {
    "execution": {
     "iopub.execute_input": "2021-03-26T15:03:37.984698Z",
     "iopub.status.busy": "2021-03-26T15:03:37.984055Z",
     "iopub.status.idle": "2021-03-26T15:03:40.270527Z",
     "shell.execute_reply": "2021-03-26T15:03:40.269800Z"
    },
    "papermill": {
     "duration": 2.301021,
     "end_time": "2021-03-26T15:03:40.270675",
     "exception": false,
     "start_time": "2021-03-26T15:03:37.969654",
     "status": "completed"
    },
    "tags": []
   },
   "outputs": [],
   "source": [
    "import pandas as pd\n",
    "import numpy as np\n",
    "import optuna \n",
    "import matplotlib.pyplot as plt\n",
    "import seaborn as sns\n",
    "\n",
    "from sklearn.preprocessing import OrdinalEncoder,StandardScaler\n",
    "from sklearn.model_selection import train_test_split\n",
    "\n",
    "import catboost as cb\n",
    "from catboost import CatBoostClassifier\n",
    "\n",
    "from sklearn.metrics import roc_auc_score"
   ]
  },
  {
   "cell_type": "code",
   "execution_count": 3,
   "id": "expected-croatia",
   "metadata": {
    "execution": {
     "iopub.execute_input": "2021-03-26T15:03:40.295222Z",
     "iopub.status.busy": "2021-03-26T15:03:40.294466Z",
     "iopub.status.idle": "2021-03-26T15:03:43.771795Z",
     "shell.execute_reply": "2021-03-26T15:03:43.772233Z"
    },
    "papermill": {
     "duration": 3.492104,
     "end_time": "2021-03-26T15:03:43.772445",
     "exception": false,
     "start_time": "2021-03-26T15:03:40.280341",
     "status": "completed"
    },
    "tags": []
   },
   "outputs": [],
   "source": [
    "train=pd.read_csv('/kaggle/input/tabular-playground-series-mar-2021/train.csv')\n",
    "test=pd.read_csv('/kaggle/input/tabular-playground-series-mar-2021/test.csv')\n",
    "sub=pd.read_csv(\"/kaggle/input/tabular-playground-series-mar-2021/sample_submission.csv\")"
   ]
  },
  {
   "cell_type": "code",
   "execution_count": 4,
   "id": "heard-workplace",
   "metadata": {
    "execution": {
     "iopub.execute_input": "2021-03-26T15:03:43.795833Z",
     "iopub.status.busy": "2021-03-26T15:03:43.794862Z",
     "iopub.status.idle": "2021-03-26T15:03:43.908799Z",
     "shell.execute_reply": "2021-03-26T15:03:43.908248Z"
    },
    "papermill": {
     "duration": 0.126813,
     "end_time": "2021-03-26T15:03:43.908938",
     "exception": false,
     "start_time": "2021-03-26T15:03:43.782125",
     "status": "completed"
    },
    "tags": []
   },
   "outputs": [],
   "source": [
    "train.drop(columns=['id','cat10','cat5','cat7','cat8'],inplace=True)\n",
    "test.drop(columns=['id','cat10','cat5','cat7','cat8'],inplace=True)"
   ]
  },
  {
   "cell_type": "code",
   "execution_count": 5,
   "id": "oriental-crossing",
   "metadata": {
    "execution": {
     "iopub.execute_input": "2021-03-26T15:03:43.936365Z",
     "iopub.status.busy": "2021-03-26T15:03:43.935401Z",
     "iopub.status.idle": "2021-03-26T15:03:43.939048Z",
     "shell.execute_reply": "2021-03-26T15:03:43.939518Z"
    },
    "papermill": {
     "duration": 0.020657,
     "end_time": "2021-03-26T15:03:43.939682",
     "exception": false,
     "start_time": "2021-03-26T15:03:43.919025",
     "status": "completed"
    },
    "tags": []
   },
   "outputs": [
    {
     "data": {
      "text/plain": [
       "Index(['cat0', 'cat1', 'cat2', 'cat3', 'cat4', 'cat6', 'cat9', 'cat11',\n",
       "       'cat12', 'cat13', 'cat14', 'cat15', 'cat16', 'cat17', 'cat18', 'cont0',\n",
       "       'cont1', 'cont2', 'cont3', 'cont4', 'cont5', 'cont6', 'cont7', 'cont8',\n",
       "       'cont9', 'cont10', 'target'],\n",
       "      dtype='object')"
      ]
     },
     "execution_count": 5,
     "metadata": {},
     "output_type": "execute_result"
    }
   ],
   "source": [
    "train.columns"
   ]
  },
  {
   "cell_type": "code",
   "execution_count": 6,
   "id": "pregnant-devon",
   "metadata": {
    "execution": {
     "iopub.execute_input": "2021-03-26T15:03:43.964682Z",
     "iopub.status.busy": "2021-03-26T15:03:43.964018Z",
     "iopub.status.idle": "2021-03-26T15:03:43.967156Z",
     "shell.execute_reply": "2021-03-26T15:03:43.966658Z"
    },
    "papermill": {
     "duration": 0.017871,
     "end_time": "2021-03-26T15:03:43.967310",
     "exception": false,
     "start_time": "2021-03-26T15:03:43.949439",
     "status": "completed"
    },
    "tags": []
   },
   "outputs": [],
   "source": [
    "cat = [col for col in train.columns if 'cat' in col]\n",
    "cont = [col for col in test.columns if 'cont' in col]"
   ]
  },
  {
   "cell_type": "code",
   "execution_count": 7,
   "id": "modular-share",
   "metadata": {
    "execution": {
     "iopub.execute_input": "2021-03-26T15:03:44.177231Z",
     "iopub.status.busy": "2021-03-26T15:03:44.176587Z",
     "iopub.status.idle": "2021-03-26T15:03:44.211986Z",
     "shell.execute_reply": "2021-03-26T15:03:44.212518Z"
    },
    "papermill": {
     "duration": 0.235393,
     "end_time": "2021-03-26T15:03:44.212709",
     "exception": false,
     "start_time": "2021-03-26T15:03:43.977316",
     "status": "completed"
    },
    "tags": []
   },
   "outputs": [
    {
     "name": "stdout",
     "output_type": "stream",
     "text": [
      "<class 'pandas.core.frame.DataFrame'>\n",
      "RangeIndex: 300000 entries, 0 to 299999\n",
      "Data columns (total 27 columns):\n",
      " #   Column  Non-Null Count   Dtype  \n",
      "---  ------  --------------   -----  \n",
      " 0   cat0    300000 non-null  object \n",
      " 1   cat1    300000 non-null  object \n",
      " 2   cat2    300000 non-null  object \n",
      " 3   cat3    300000 non-null  object \n",
      " 4   cat4    300000 non-null  object \n",
      " 5   cat6    300000 non-null  object \n",
      " 6   cat9    300000 non-null  object \n",
      " 7   cat11   300000 non-null  object \n",
      " 8   cat12   300000 non-null  object \n",
      " 9   cat13   300000 non-null  object \n",
      " 10  cat14   300000 non-null  object \n",
      " 11  cat15   300000 non-null  object \n",
      " 12  cat16   300000 non-null  object \n",
      " 13  cat17   300000 non-null  object \n",
      " 14  cat18   300000 non-null  object \n",
      " 15  cont0   300000 non-null  float64\n",
      " 16  cont1   300000 non-null  float64\n",
      " 17  cont2   300000 non-null  float64\n",
      " 18  cont3   300000 non-null  float64\n",
      " 19  cont4   300000 non-null  float64\n",
      " 20  cont5   300000 non-null  float64\n",
      " 21  cont6   300000 non-null  float64\n",
      " 22  cont7   300000 non-null  float64\n",
      " 23  cont8   300000 non-null  float64\n",
      " 24  cont9   300000 non-null  float64\n",
      " 25  cont10  300000 non-null  float64\n",
      " 26  target  300000 non-null  int64  \n",
      "dtypes: float64(11), int64(1), object(15)\n",
      "memory usage: 61.8+ MB\n"
     ]
    }
   ],
   "source": [
    "train.info()"
   ]
  },
  {
   "cell_type": "code",
   "execution_count": 8,
   "id": "stainless-monitor",
   "metadata": {
    "execution": {
     "iopub.execute_input": "2021-03-26T15:03:44.260822Z",
     "iopub.status.busy": "2021-03-26T15:03:44.260139Z",
     "iopub.status.idle": "2021-03-26T15:03:48.807079Z",
     "shell.execute_reply": "2021-03-26T15:03:48.805859Z"
    },
    "papermill": {
     "duration": 4.584029,
     "end_time": "2021-03-26T15:03:48.807233",
     "exception": false,
     "start_time": "2021-03-26T15:03:44.223204",
     "status": "completed"
    },
    "tags": []
   },
   "outputs": [],
   "source": [
    "oe=OrdinalEncoder()\n",
    "train[cat]=oe.fit_transform(train[cat])\n",
    "test[cat]=oe.transform(test[cat])"
   ]
  },
  {
   "cell_type": "code",
   "execution_count": 9,
   "id": "incorrect-trade",
   "metadata": {
    "execution": {
     "iopub.execute_input": "2021-03-26T15:03:48.833893Z",
     "iopub.status.busy": "2021-03-26T15:03:48.833229Z",
     "iopub.status.idle": "2021-03-26T15:03:49.252684Z",
     "shell.execute_reply": "2021-03-26T15:03:49.252034Z"
    },
    "papermill": {
     "duration": 0.435108,
     "end_time": "2021-03-26T15:03:49.252826",
     "exception": false,
     "start_time": "2021-03-26T15:03:48.817718",
     "status": "completed"
    },
    "tags": []
   },
   "outputs": [],
   "source": [
    "train[cat]=train[cat].astype('uint8')\n",
    "test[cat]=test[cat].astype('uint8')"
   ]
  },
  {
   "cell_type": "code",
   "execution_count": 10,
   "id": "mysterious-devil",
   "metadata": {
    "execution": {
     "iopub.execute_input": "2021-03-26T15:03:49.280339Z",
     "iopub.status.busy": "2021-03-26T15:03:49.279713Z",
     "iopub.status.idle": "2021-03-26T15:03:49.292222Z",
     "shell.execute_reply": "2021-03-26T15:03:49.292755Z"
    },
    "papermill": {
     "duration": 0.028319,
     "end_time": "2021-03-26T15:03:49.292927",
     "exception": false,
     "start_time": "2021-03-26T15:03:49.264608",
     "status": "completed"
    },
    "tags": []
   },
   "outputs": [],
   "source": [
    "X=train.drop(columns=['target'])\n",
    "y=train['target']"
   ]
  },
  {
   "cell_type": "code",
   "execution_count": 11,
   "id": "configured-theology",
   "metadata": {
    "execution": {
     "iopub.execute_input": "2021-03-26T15:03:49.318070Z",
     "iopub.status.busy": "2021-03-26T15:03:49.317500Z",
     "iopub.status.idle": "2021-03-26T15:03:49.372222Z",
     "shell.execute_reply": "2021-03-26T15:03:49.372742Z"
    },
    "papermill": {
     "duration": 0.069238,
     "end_time": "2021-03-26T15:03:49.372954",
     "exception": false,
     "start_time": "2021-03-26T15:03:49.303716",
     "status": "completed"
    },
    "tags": []
   },
   "outputs": [],
   "source": [
    " X_train, X_test, y_train, y_test = train_test_split(X, y, test_size=0.33, random_state=42)"
   ]
  },
  {
   "cell_type": "code",
   "execution_count": 12,
   "id": "middle-raleigh",
   "metadata": {
    "execution": {
     "iopub.execute_input": "2021-03-26T15:03:49.397187Z",
     "iopub.status.busy": "2021-03-26T15:03:49.396641Z",
     "iopub.status.idle": "2021-03-26T15:03:50.252660Z",
     "shell.execute_reply": "2021-03-26T15:03:50.252151Z"
    },
    "papermill": {
     "duration": 0.869052,
     "end_time": "2021-03-26T15:03:50.252812",
     "exception": false,
     "start_time": "2021-03-26T15:03:49.383760",
     "status": "completed"
    },
    "tags": []
   },
   "outputs": [
    {
     "name": "stderr",
     "output_type": "stream",
     "text": [
      "/opt/conda/lib/python3.7/site-packages/ipykernel_launcher.py:2: SettingWithCopyWarning: \n",
      "A value is trying to be set on a copy of a slice from a DataFrame.\n",
      "Try using .loc[row_indexer,col_indexer] = value instead\n",
      "\n",
      "See the caveats in the documentation: https://pandas.pydata.org/pandas-docs/stable/user_guide/indexing.html#returning-a-view-versus-a-copy\n",
      "  \n",
      "/opt/conda/lib/python3.7/site-packages/pandas/core/indexing.py:1738: SettingWithCopyWarning: \n",
      "A value is trying to be set on a copy of a slice from a DataFrame.\n",
      "Try using .loc[row_indexer,col_indexer] = value instead\n",
      "\n",
      "See the caveats in the documentation: https://pandas.pydata.org/pandas-docs/stable/user_guide/indexing.html#returning-a-view-versus-a-copy\n",
      "  self._setitem_single_column(loc, value[:, i].tolist(), pi)\n",
      "/opt/conda/lib/python3.7/site-packages/ipykernel_launcher.py:3: SettingWithCopyWarning: \n",
      "A value is trying to be set on a copy of a slice from a DataFrame.\n",
      "Try using .loc[row_indexer,col_indexer] = value instead\n",
      "\n",
      "See the caveats in the documentation: https://pandas.pydata.org/pandas-docs/stable/user_guide/indexing.html#returning-a-view-versus-a-copy\n",
      "  This is separate from the ipykernel package so we can avoid doing imports until\n",
      "/opt/conda/lib/python3.7/site-packages/pandas/core/indexing.py:1738: SettingWithCopyWarning: \n",
      "A value is trying to be set on a copy of a slice from a DataFrame.\n",
      "Try using .loc[row_indexer,col_indexer] = value instead\n",
      "\n",
      "See the caveats in the documentation: https://pandas.pydata.org/pandas-docs/stable/user_guide/indexing.html#returning-a-view-versus-a-copy\n",
      "  self._setitem_single_column(loc, value[:, i].tolist(), pi)\n"
     ]
    }
   ],
   "source": [
    "sc=StandardScaler()\n",
    "X_train[cont]=sc.fit_transform(X_train[cont])\n",
    "X_test[cont]=sc.transform(X_test[cont])\n",
    "test[cont]=sc.transform(test[cont])"
   ]
  },
  {
   "cell_type": "code",
   "execution_count": 13,
   "id": "sporting-routine",
   "metadata": {
    "execution": {
     "iopub.execute_input": "2021-03-26T15:03:50.286258Z",
     "iopub.status.busy": "2021-03-26T15:03:50.285358Z",
     "iopub.status.idle": "2021-03-26T15:16:00.686431Z",
     "shell.execute_reply": "2021-03-26T15:16:00.685761Z"
    },
    "papermill": {
     "duration": 730.422601,
     "end_time": "2021-03-26T15:16:00.686854",
     "exception": false,
     "start_time": "2021-03-26T15:03:50.264253",
     "status": "completed"
    },
    "tags": []
   },
   "outputs": [
    {
     "name": "stderr",
     "output_type": "stream",
     "text": [
      "\u001b[32m[I 2021-03-26 15:03:50,283]\u001b[0m A new study created in memory with name: catboost\u001b[0m\n",
      "\u001b[32m[I 2021-03-26 15:08:06,850]\u001b[0m Trial 0 finished with value: 0.8916209791780143 and parameters: {'objective': 'Logloss', 'colsample_bylevel': 0.05748837852477402, 'depth': 6, 'boosting_type': 'Plain', 'bootstrap_type': 'Bernoulli', 'n_estimators': 8623, 'min_child_samples': 50, 'subsample': 0.6686516035482349}. Best is trial 0 with value: 0.8916209791780143.\u001b[0m\n",
      "\u001b[32m[I 2021-03-26 15:11:52,597]\u001b[0m Trial 1 finished with value: 0.8822507228044503 and parameters: {'objective': 'CrossEntropy', 'colsample_bylevel': 0.048415255626609026, 'depth': 2, 'boosting_type': 'Ordered', 'bootstrap_type': 'MVS', 'n_estimators': 3260, 'min_child_samples': 25}. Best is trial 0 with value: 0.8916209791780143.\u001b[0m\n",
      "\u001b[32m[I 2021-03-26 15:13:18,103]\u001b[0m Trial 2 finished with value: 0.8764572472435734 and parameters: {'objective': 'CrossEntropy', 'colsample_bylevel': 0.0535013412297386, 'depth': 3, 'boosting_type': 'Ordered', 'bootstrap_type': 'Bayesian', 'n_estimators': 1177, 'min_child_samples': 48, 'bagging_temperature': 9.283045288488982}. Best is trial 0 with value: 0.8916209791780143.\u001b[0m\n",
      "\u001b[32m[I 2021-03-26 15:16:00,665]\u001b[0m Trial 3 finished with value: 0.889958883567743 and parameters: {'objective': 'Logloss', 'colsample_bylevel': 0.09023692343639272, 'depth': 4, 'boosting_type': 'Ordered', 'bootstrap_type': 'MVS', 'n_estimators': 1907, 'min_child_samples': 66}. Best is trial 0 with value: 0.8916209791780143.\u001b[0m\n"
     ]
    },
    {
     "name": "stdout",
     "output_type": "stream",
     "text": [
      "Number of finished trials: 4\n",
      "Best trial:\n",
      "  Value: 0.8916209791780143\n",
      "  Params: \n",
      "    objective: Logloss\n",
      "    colsample_bylevel: 0.05748837852477402\n",
      "    depth: 6\n",
      "    boosting_type: Plain\n",
      "    bootstrap_type: Bernoulli\n",
      "    n_estimators: 8623\n",
      "    min_child_samples: 50\n",
      "    subsample: 0.6686516035482349\n"
     ]
    }
   ],
   "source": [
    "def objective(trial):\n",
    "\n",
    "    param = {\n",
    "        \"objective\": trial.suggest_categorical(\"objective\", [\"Logloss\", \"CrossEntropy\"]),\n",
    "        \"colsample_bylevel\": trial.suggest_float(\"colsample_bylevel\", 0.01, 0.1),\n",
    "        \"depth\": trial.suggest_int(\"depth\", 1, 12),\n",
    "        \"boosting_type\": trial.suggest_categorical(\"boosting_type\", [\"Ordered\", \"Plain\"]),\n",
    "        \"bootstrap_type\": trial.suggest_categorical(\n",
    "            \"bootstrap_type\", [\"Bayesian\", \"Bernoulli\", \"MVS\"]\n",
    "        ),\n",
    "        \"used_ram_limit\": \"3gb\",\n",
    "        'n_estimators' : trial.suggest_int('n_estimators' , 1 , 9999),\n",
    "        'min_child_samples' : trial.suggest_int('min_child_samples' , 1 , 100),\n",
    "        'eval_metric': 'AUC',\n",
    "#         'verbose':1\n",
    "    }\n",
    "\n",
    "    if param[\"bootstrap_type\"] == \"Bayesian\":\n",
    "        param[\"bagging_temperature\"] = trial.suggest_float(\"bagging_temperature\", 0, 10)\n",
    "    elif param[\"bootstrap_type\"] == \"Bernoulli\":\n",
    "        param[\"subsample\"] = trial.suggest_float(\"subsample\", 0.1, 1)\n",
    "\n",
    "    gbm = cb.CatBoostClassifier(**param)\n",
    "\n",
    "    gbm.fit(X_train, y_train, eval_set=[(X_test, y_test)], verbose=False, early_stopping_rounds=100)\n",
    "\n",
    "    preds = gbm.predict_proba(X_test)[:,1]\n",
    "#     pred_labels = np.rint(preds)\n",
    "#     accuracy = accuracy_score(valid_y, pred_labels)\n",
    "    accuracy = roc_auc_score(y_test,preds)\n",
    "    return accuracy\n",
    "\n",
    "study = optuna.create_study(direction=\"maximize\", study_name='catboost')\n",
    "study.optimize(objective, n_trials=100, timeout=600)\n",
    "\n",
    "print(\"Number of finished trials: {}\".format(len(study.trials)))\n",
    "\n",
    "print(\"Best trial:\")\n",
    "trial = study.best_trial\n",
    "\n",
    "print(\"  Value: {}\".format(trial.value))\n",
    "\n",
    "print(\"  Params: \")\n",
    "for key, value in trial.params.items():\n",
    "    print(\"    {}: {}\".format(key, value))"
   ]
  },
  {
   "cell_type": "code",
   "execution_count": 14,
   "id": "modern-timing",
   "metadata": {
    "execution": {
     "iopub.execute_input": "2021-03-26T15:16:00.720108Z",
     "iopub.status.busy": "2021-03-26T15:16:00.719170Z",
     "iopub.status.idle": "2021-03-26T15:16:00.722446Z",
     "shell.execute_reply": "2021-03-26T15:16:00.721823Z"
    },
    "papermill": {
     "duration": 0.022713,
     "end_time": "2021-03-26T15:16:00.722586",
     "exception": false,
     "start_time": "2021-03-26T15:16:00.699873",
     "status": "completed"
    },
    "tags": []
   },
   "outputs": [],
   "source": [
    "# CatBoostClassifier()"
   ]
  },
  {
   "cell_type": "code",
   "execution_count": 15,
   "id": "eastern-quarterly",
   "metadata": {
    "execution": {
     "iopub.execute_input": "2021-03-26T15:16:00.754454Z",
     "iopub.status.busy": "2021-03-26T15:16:00.753597Z",
     "iopub.status.idle": "2021-03-26T15:16:00.756491Z",
     "shell.execute_reply": "2021-03-26T15:16:00.756032Z"
    },
    "papermill": {
     "duration": 0.020899,
     "end_time": "2021-03-26T15:16:00.756638",
     "exception": false,
     "start_time": "2021-03-26T15:16:00.735739",
     "status": "completed"
    },
    "tags": []
   },
   "outputs": [],
   "source": [
    "Params={\n",
    "    'objective': 'CrossEntropy',\n",
    "    'colsample_bylevel': 0.08473689807822948,\n",
    "    'depth': 4,\n",
    "    'boosting_type': 'Ordered',\n",
    "    'bootstrap_type': 'MVS',\n",
    "    'n_estimators': 8482,\n",
    "    'min_child_samples': 64,\n",
    "}"
   ]
  }
 ],
 "metadata": {
  "kernelspec": {
   "display_name": "Python 3",
   "language": "python",
   "name": "python3"
  },
  "language_info": {
   "codemirror_mode": {
    "name": "ipython",
    "version": 3
   },
   "file_extension": ".py",
   "mimetype": "text/x-python",
   "name": "python",
   "nbconvert_exporter": "python",
   "pygments_lexer": "ipython3",
   "version": "3.7.9"
  },
  "papermill": {
   "default_parameters": {},
   "duration": 749.638271,
   "end_time": "2021-03-26T15:16:01.583486",
   "environment_variables": {},
   "exception": null,
   "input_path": "__notebook__.ipynb",
   "output_path": "__notebook__.ipynb",
   "parameters": {},
   "start_time": "2021-03-26T15:03:31.945215",
   "version": "2.3.2"
  }
 },
 "nbformat": 4,
 "nbformat_minor": 5
}
