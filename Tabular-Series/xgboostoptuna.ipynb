{
 "cells": [
  {
   "cell_type": "code",
   "execution_count": 1,
   "metadata": {
    "_cell_guid": "b1076dfc-b9ad-4769-8c92-a6c4dae69d19",
    "_uuid": "8f2839f25d086af736a60e9eeb907d3b93b6e0e5",
    "execution": {
     "iopub.execute_input": "2021-03-27T11:40:05.409098Z",
     "iopub.status.busy": "2021-03-27T11:40:05.406946Z",
     "iopub.status.idle": "2021-03-27T11:40:05.412445Z",
     "shell.execute_reply": "2021-03-27T11:40:05.411834Z"
    },
    "papermill": {
     "duration": 0.027747,
     "end_time": "2021-03-27T11:40:05.412665",
     "exception": false,
     "start_time": "2021-03-27T11:40:05.384918",
     "status": "completed"
    },
    "tags": []
   },
   "outputs": [
    {
     "name": "stdout",
     "output_type": "stream",
     "text": [
      "/kaggle/input/tabular-playground-series-mar-2021/sample_submission.csv\n",
      "/kaggle/input/tabular-playground-series-mar-2021/train.csv\n",
      "/kaggle/input/tabular-playground-series-mar-2021/test.csv\n"
     ]
    }
   ],
   "source": [
    "# This Python 3 environment comes with many helpful analytics libraries installed\n",
    "# It is defined by the kaggle/python Docker image: https://github.com/kaggle/docker-python\n",
    "# For example, here's several helpful packages to load\n",
    "\n",
    "import numpy as np # linear algebra\n",
    "import pandas as pd # data processing, CSV file I/O (e.g. pd.read_csv)\n",
    "\n",
    "# Input data files are available in the read-only \"../input/\" directory\n",
    "# For example, running this (by clicking run or pressing Shift+Enter) will list all files under the input directory\n",
    "\n",
    "import os\n",
    "for dirname, _, filenames in os.walk('/kaggle/input'):\n",
    "    for filename in filenames:\n",
    "        print(os.path.join(dirname, filename))\n",
    "\n",
    "# You can write up to 20GB to the current directory (/kaggle/working/) that gets preserved as output when you create a version using \"Save & Run All\" \n",
    "# You can also write temporary files to /kaggle/temp/, but they won't be saved outside of the current session"
   ]
  },
  {
   "cell_type": "code",
   "execution_count": 2,
   "metadata": {
    "execution": {
     "iopub.execute_input": "2021-03-27T11:40:05.446750Z",
     "iopub.status.busy": "2021-03-27T11:40:05.445837Z",
     "iopub.status.idle": "2021-03-27T11:40:11.465540Z",
     "shell.execute_reply": "2021-03-27T11:40:11.464201Z"
    },
    "papermill": {
     "duration": 6.039014,
     "end_time": "2021-03-27T11:40:11.465704",
     "exception": false,
     "start_time": "2021-03-27T11:40:05.426690",
     "status": "completed"
    },
    "tags": []
   },
   "outputs": [],
   "source": [
    "import warnings\n",
    "warnings.filterwarnings('ignore')\n",
    "\n",
    "import numpy as np \n",
    "import pandas as pd\n",
    "import matplotlib.pyplot as plt\n",
    "import seaborn as sns\n",
    "\n",
    "from sklearn.preprocessing import StandardScaler\n",
    "from sklearn.preprocessing import OrdinalEncoder\n",
    "\n",
    "pd.set_option('display.max_columns',None)\n",
    "\n",
    "import optuna\n",
    "from sklearn.model_selection import StratifiedKFold,train_test_split\n",
    "from sklearn.metrics import roc_auc_score\n",
    "\n",
    "import xgboost as xgb\n",
    "from xgboost import XGBClassifier"
   ]
  },
  {
   "cell_type": "code",
   "execution_count": 3,
   "metadata": {
    "execution": {
     "iopub.execute_input": "2021-03-27T11:40:11.500434Z",
     "iopub.status.busy": "2021-03-27T11:40:11.499856Z",
     "iopub.status.idle": "2021-03-27T11:40:14.935422Z",
     "shell.execute_reply": "2021-03-27T11:40:14.934860Z"
    },
    "papermill": {
     "duration": 3.456105,
     "end_time": "2021-03-27T11:40:14.935590",
     "exception": false,
     "start_time": "2021-03-27T11:40:11.479485",
     "status": "completed"
    },
    "tags": []
   },
   "outputs": [],
   "source": [
    "train=pd.read_csv('/kaggle/input/tabular-playground-series-mar-2021/train.csv')\n",
    "test=pd.read_csv('/kaggle/input/tabular-playground-series-mar-2021/test.csv')\n",
    "sub=pd.read_csv('/kaggle/input/tabular-playground-series-mar-2021/sample_submission.csv')"
   ]
  },
  {
   "cell_type": "code",
   "execution_count": 4,
   "metadata": {
    "execution": {
     "iopub.execute_input": "2021-03-27T11:40:15.015097Z",
     "iopub.status.busy": "2021-03-27T11:40:14.971016Z",
     "iopub.status.idle": "2021-03-27T11:40:15.067259Z",
     "shell.execute_reply": "2021-03-27T11:40:15.066760Z"
    },
    "papermill": {
     "duration": 0.117593,
     "end_time": "2021-03-27T11:40:15.067407",
     "exception": false,
     "start_time": "2021-03-27T11:40:14.949814",
     "status": "completed"
    },
    "tags": []
   },
   "outputs": [],
   "source": [
    "cols_to_drop=['id','cat10','cat5','cat7','cat8']\n",
    "train.drop(columns=cols_to_drop,inplace=True)\n",
    "test.drop(columns=cols_to_drop,inplace=True)"
   ]
  },
  {
   "cell_type": "code",
   "execution_count": 5,
   "metadata": {
    "execution": {
     "iopub.execute_input": "2021-03-27T11:40:15.102465Z",
     "iopub.status.busy": "2021-03-27T11:40:15.100660Z",
     "iopub.status.idle": "2021-03-27T11:40:15.103074Z",
     "shell.execute_reply": "2021-03-27T11:40:15.103503Z"
    },
    "papermill": {
     "duration": 0.022062,
     "end_time": "2021-03-27T11:40:15.103640",
     "exception": false,
     "start_time": "2021-03-27T11:40:15.081578",
     "status": "completed"
    },
    "tags": []
   },
   "outputs": [],
   "source": [
    "cat_columns=['cat0', 'cat1', 'cat2', 'cat3', 'cat4', 'cat6', 'cat9', 'cat11',\n",
    "       'cat12', 'cat13', 'cat14', 'cat15', 'cat16', 'cat17', 'cat18']\n",
    "cont_columns=['cont0',\n",
    "       'cont1', 'cont2', 'cont3', 'cont4', 'cont5', 'cont6', 'cont7', 'cont8',\n",
    "       'cont9', 'cont10']\n",
    "all_features=cat_columns+cont_columns"
   ]
  },
  {
   "cell_type": "code",
   "execution_count": 6,
   "metadata": {
    "execution": {
     "iopub.execute_input": "2021-03-27T11:40:15.191666Z",
     "iopub.status.busy": "2021-03-27T11:40:15.181235Z",
     "iopub.status.idle": "2021-03-27T11:40:21.659169Z",
     "shell.execute_reply": "2021-03-27T11:40:21.658669Z"
    },
    "papermill": {
     "duration": 6.542204,
     "end_time": "2021-03-27T11:40:21.659315",
     "exception": false,
     "start_time": "2021-03-27T11:40:15.117111",
     "status": "completed"
    },
    "tags": []
   },
   "outputs": [],
   "source": [
    "oe=OrdinalEncoder()\n",
    "train[cat_columns]=oe.fit_transform(train[cat_columns])\n",
    "test[cat_columns]=oe.transform(test[cat_columns])"
   ]
  },
  {
   "cell_type": "code",
   "execution_count": 7,
   "metadata": {
    "execution": {
     "iopub.execute_input": "2021-03-27T11:40:21.695931Z",
     "iopub.status.busy": "2021-03-27T11:40:21.694533Z",
     "iopub.status.idle": "2021-03-27T11:40:22.684207Z",
     "shell.execute_reply": "2021-03-27T11:40:22.683717Z"
    },
    "papermill": {
     "duration": 1.010413,
     "end_time": "2021-03-27T11:40:22.684343",
     "exception": false,
     "start_time": "2021-03-27T11:40:21.673930",
     "status": "completed"
    },
    "tags": []
   },
   "outputs": [],
   "source": [
    "sc=StandardScaler()\n",
    "train[cont_columns]=sc.fit_transform(train[cont_columns])\n",
    "test[cont_columns]=sc.transform(test[cont_columns])"
   ]
  },
  {
   "cell_type": "code",
   "execution_count": 8,
   "metadata": {
    "execution": {
     "iopub.execute_input": "2021-03-27T11:40:22.742209Z",
     "iopub.status.busy": "2021-03-27T11:40:22.740221Z",
     "iopub.status.idle": "2021-03-27T11:40:22.742861Z",
     "shell.execute_reply": "2021-03-27T11:40:22.743311Z"
    },
    "papermill": {
     "duration": 0.044937,
     "end_time": "2021-03-27T11:40:22.743497",
     "exception": false,
     "start_time": "2021-03-27T11:40:22.698560",
     "status": "completed"
    },
    "tags": []
   },
   "outputs": [],
   "source": [
    "data=train.drop(columns=['target'])\n",
    "target=train['target']"
   ]
  },
  {
   "cell_type": "markdown",
   "metadata": {
    "papermill": {
     "duration": 0.014498,
     "end_time": "2021-03-27T11:40:22.772542",
     "exception": false,
     "start_time": "2021-03-27T11:40:22.758044",
     "status": "completed"
    },
    "tags": []
   },
   "source": [
    "# Optuna"
   ]
  },
  {
   "cell_type": "code",
   "execution_count": 9,
   "metadata": {
    "execution": {
     "iopub.execute_input": "2021-03-27T11:40:22.806487Z",
     "iopub.status.busy": "2021-03-27T11:40:22.805647Z",
     "iopub.status.idle": "2021-03-27T11:40:22.808700Z",
     "shell.execute_reply": "2021-03-27T11:40:22.808227Z"
    },
    "papermill": {
     "duration": 0.022575,
     "end_time": "2021-03-27T11:40:22.808840",
     "exception": false,
     "start_time": "2021-03-27T11:40:22.786265",
     "status": "completed"
    },
    "tags": []
   },
   "outputs": [],
   "source": [
    "# def objective(trial, data=data, target=target):\n",
    "#     train_x,test_x,train_y,test_y = train_test_split(data, target,test_size=0.2, random_state=101)\n",
    "#     params = {\n",
    "#         'eval_metric' : 'auc',\n",
    "#         'booster' : 'gbtree',\n",
    "#         'tree_method' : 'gpu_hist' , \n",
    "#         'use_label_encoder' : False , \n",
    "#         'lambda' : trial.suggest_loguniform('lambda' , 1e-5 , 1.0),\n",
    "#         'alpha' : trial.suggest_loguniform('alpha' , 1e-5 , 1.0),\n",
    "#         'colsample_bytree' : trial.suggest_uniform('colsample_bytree' , 0 , 1.0),\n",
    "#         'subsample' : trial.suggest_uniform('subsample' , 0 , 1.0),\n",
    "#         'learning_rate' : trial.suggest_uniform('learning_rate' , 0 , 0.02),\n",
    "#         'n_estimators' : trial.suggest_int('n_estimators' , 1 , 9999),\n",
    "#         'max_depth' : trial.suggest_int('max_depth' , 1 , 20),\n",
    "#         'random_state' : trial.suggest_categorical('random_state' , [0,42,2021]),\n",
    "#         'min_child_weight' : trial.suggest_int('min_child_weight' , 1 , 300),\n",
    "#         'gamma' : trial.suggest_loguniform('gamma' , 1e-5 , 1.0)\n",
    "#     }\n",
    "        \n",
    "#     model=xgb.XGBClassifier(**params)\n",
    "#     model.fit(train_x,train_y,eval_set=[(test_x,test_y)],early_stopping_rounds=222,verbose=False)\n",
    "#     preds=model.predict_proba(test_x)[:,1]\n",
    "#     auc=roc_auc_score(test_y,preds)\n",
    "#     return auc"
   ]
  },
  {
   "cell_type": "code",
   "execution_count": 10,
   "metadata": {
    "execution": {
     "iopub.execute_input": "2021-03-27T11:40:22.840884Z",
     "iopub.status.busy": "2021-03-27T11:40:22.840163Z",
     "iopub.status.idle": "2021-03-27T11:40:22.842719Z",
     "shell.execute_reply": "2021-03-27T11:40:22.843160Z"
    },
    "papermill": {
     "duration": 0.02042,
     "end_time": "2021-03-27T11:40:22.843300",
     "exception": false,
     "start_time": "2021-03-27T11:40:22.822880",
     "status": "completed"
    },
    "tags": []
   },
   "outputs": [],
   "source": [
    "# study=optuna.create_study(direction='maximize',study_name='xgbclassifier')\n",
    "# study.optimize(objective,n_trials=60)\n",
    "# print('number of the finished trials:' , len(study.trials))\n",
    "# print('the parametors of best trial:' , study.best_trial.params)\n",
    "# print('best value:' , study.best_value)"
   ]
  },
  {
   "cell_type": "code",
   "execution_count": 11,
   "metadata": {
    "execution": {
     "iopub.execute_input": "2021-03-27T11:40:22.876335Z",
     "iopub.status.busy": "2021-03-27T11:40:22.875466Z",
     "iopub.status.idle": "2021-03-27T11:40:22.878436Z",
     "shell.execute_reply": "2021-03-27T11:40:22.877958Z"
    },
    "papermill": {
     "duration": 0.021513,
     "end_time": "2021-03-27T11:40:22.878559",
     "exception": false,
     "start_time": "2021-03-27T11:40:22.857046",
     "status": "completed"
    },
    "tags": []
   },
   "outputs": [],
   "source": [
    "# optuna.visualization.plot_optimization_history(study)"
   ]
  },
  {
   "cell_type": "code",
   "execution_count": 12,
   "metadata": {
    "execution": {
     "iopub.execute_input": "2021-03-27T11:40:22.912742Z",
     "iopub.status.busy": "2021-03-27T11:40:22.911974Z",
     "iopub.status.idle": "2021-03-27T11:40:22.914994Z",
     "shell.execute_reply": "2021-03-27T11:40:22.914580Z"
    },
    "papermill": {
     "duration": 0.021558,
     "end_time": "2021-03-27T11:40:22.915124",
     "exception": false,
     "start_time": "2021-03-27T11:40:22.893566",
     "status": "completed"
    },
    "tags": []
   },
   "outputs": [],
   "source": [
    "# optuna.visualization.plot_param_importance(study)"
   ]
  },
  {
   "cell_type": "code",
   "execution_count": 13,
   "metadata": {
    "execution": {
     "iopub.execute_input": "2021-03-27T11:40:22.948607Z",
     "iopub.status.busy": "2021-03-27T11:40:22.947852Z",
     "iopub.status.idle": "2021-03-27T11:40:22.951134Z",
     "shell.execute_reply": "2021-03-27T11:40:22.950549Z"
    },
    "papermill": {
     "duration": 0.021671,
     "end_time": "2021-03-27T11:40:22.951253",
     "exception": false,
     "start_time": "2021-03-27T11:40:22.929582",
     "status": "completed"
    },
    "tags": []
   },
   "outputs": [],
   "source": [
    "# print('Best trial: score {},\\nparams {}'.format(study.best_trial.value,study.best_trial.params))"
   ]
  },
  {
   "cell_type": "code",
   "execution_count": 14,
   "metadata": {
    "execution": {
     "iopub.execute_input": "2021-03-27T11:40:22.984268Z",
     "iopub.status.busy": "2021-03-27T11:40:22.983529Z",
     "iopub.status.idle": "2021-03-27T11:40:22.986817Z",
     "shell.execute_reply": "2021-03-27T11:40:22.986109Z"
    },
    "papermill": {
     "duration": 0.02149,
     "end_time": "2021-03-27T11:40:22.986970",
     "exception": false,
     "start_time": "2021-03-27T11:40:22.965480",
     "status": "completed"
    },
    "tags": []
   },
   "outputs": [],
   "source": [
    "# params={'lambda': 0.014576256860713442, 'alpha': 0.26389513426946043, 'colsample_bytree': 0.5165904538770105, 'subsample': 0.737564575608887, 'learning_rate': 0.010786623160708754, 'n_estimators': 8790, 'max_depth': 17, 'random_state': 0, 'min_child_weight': 30, 'gamma': 7.272747952404219e-05}"
   ]
  },
  {
   "cell_type": "code",
   "execution_count": 15,
   "metadata": {
    "execution": {
     "iopub.execute_input": "2021-03-27T11:40:23.022563Z",
     "iopub.status.busy": "2021-03-27T11:40:23.021512Z",
     "iopub.status.idle": "2021-03-27T11:40:23.024733Z",
     "shell.execute_reply": "2021-03-27T11:40:23.024207Z"
    },
    "papermill": {
     "duration": 0.022873,
     "end_time": "2021-03-27T11:40:23.024857",
     "exception": false,
     "start_time": "2021-03-27T11:40:23.001984",
     "status": "completed"
    },
    "tags": []
   },
   "outputs": [],
   "source": [
    "# params"
   ]
  },
  {
   "cell_type": "code",
   "execution_count": 16,
   "metadata": {
    "execution": {
     "iopub.execute_input": "2021-03-27T11:40:23.059557Z",
     "iopub.status.busy": "2021-03-27T11:40:23.058687Z",
     "iopub.status.idle": "2021-03-27T11:40:23.062154Z",
     "shell.execute_reply": "2021-03-27T11:40:23.061690Z"
    },
    "papermill": {
     "duration": 0.022224,
     "end_time": "2021-03-27T11:40:23.062279",
     "exception": false,
     "start_time": "2021-03-27T11:40:23.040055",
     "status": "completed"
    },
    "tags": []
   },
   "outputs": [],
   "source": [
    "# params['eval_metric'] = 'auc'\n",
    "# params['booster'] = 'gbtree'\n",
    "# params['tree_method'] = 'gpu_hist'\n",
    "# params['use_label_encoder'] = False"
   ]
  },
  {
   "cell_type": "code",
   "execution_count": 17,
   "metadata": {
    "execution": {
     "iopub.execute_input": "2021-03-27T11:40:23.097428Z",
     "iopub.status.busy": "2021-03-27T11:40:23.096637Z",
     "iopub.status.idle": "2021-03-27T11:40:23.099206Z",
     "shell.execute_reply": "2021-03-27T11:40:23.099747Z"
    },
    "papermill": {
     "duration": 0.022102,
     "end_time": "2021-03-27T11:40:23.099904",
     "exception": false,
     "start_time": "2021-03-27T11:40:23.077802",
     "status": "completed"
    },
    "tags": []
   },
   "outputs": [],
   "source": [
    "# params={'lambda': 0.014576256860713442,\n",
    "#  'alpha': 0.26389513426946043,\n",
    "#  'colsample_bytree': 0.5165904538770105,\n",
    "#  'subsample': 0.737564575608887,\n",
    "#  'learning_rate': 0.010786623160708754,\n",
    "#  'n_estimators': 8790,\n",
    "#  'max_depth': 17,\n",
    "#  'random_state': 0,\n",
    "#  'min_child_weight': 30,\n",
    "#  'gamma': 7.272747952404219e-05,\n",
    "#  'eval_metric': 'auc',\n",
    "#  'booster': 'gbtree',\n",
    "#  'tree_method': 'gpu_hist',\n",
    "#  'use_label_encoder': False}"
   ]
  },
  {
   "cell_type": "code",
   "execution_count": 18,
   "metadata": {
    "execution": {
     "iopub.execute_input": "2021-03-27T11:40:23.135699Z",
     "iopub.status.busy": "2021-03-27T11:40:23.134698Z",
     "iopub.status.idle": "2021-03-27T11:40:23.137807Z",
     "shell.execute_reply": "2021-03-27T11:40:23.137328Z"
    },
    "papermill": {
     "duration": 0.02237,
     "end_time": "2021-03-27T11:40:23.137933",
     "exception": false,
     "start_time": "2021-03-27T11:40:23.115563",
     "status": "completed"
    },
    "tags": []
   },
   "outputs": [],
   "source": [
    "# xgb_model = XGBClassifier(\n",
    "#         random_state=0,\n",
    "#         n_estimators=8790,\n",
    "#         verbosity=1,\n",
    "#         eval_metric=\"auc\",\n",
    "#         tree_method=\"gpu_hist\",\n",
    "#         gpu_id=0,\n",
    "#         booster= 'gbtree',\n",
    "#         alpha=0.26389513426946043,\n",
    "#         colsample_bytree=0.5165904538770105,\n",
    "#         gamma=7.272747952404219e-05,\n",
    "#         reg_lambda=0.014576256860713442,\n",
    "#         learning_rate=0.010786623160708754,\n",
    "#         max_bin=338,\n",
    "#         max_depth=17,\n",
    "#         min_child_weight=30,\n",
    "#         subsample=0.737564575608887,\n",
    "#     )"
   ]
  },
  {
   "cell_type": "code",
   "execution_count": 19,
   "metadata": {
    "execution": {
     "iopub.execute_input": "2021-03-27T11:40:23.181921Z",
     "iopub.status.busy": "2021-03-27T11:40:23.180876Z",
     "iopub.status.idle": "2021-03-27T12:15:51.952832Z",
     "shell.execute_reply": "2021-03-27T12:15:51.953294Z"
    },
    "papermill": {
     "duration": 2128.799829,
     "end_time": "2021-03-27T12:15:51.953480",
     "exception": false,
     "start_time": "2021-03-27T11:40:23.153651",
     "status": "completed"
    },
    "tags": []
   },
   "outputs": [
    {
     "name": "stdout",
     "output_type": "stream",
     "text": [
      "ROC 1: 0.8977274073470123\n",
      "ROC 2: 0.8884906464057253\n",
      "ROC 3: 0.8921360358624577\n",
      "ROC 4: 0.8930562082119967\n",
      "ROC 5: 0.8948031615691217\n",
      "ROC 6: 0.8904214607574558\n",
      "ROC 7: 0.8951511507427106\n",
      "ROC 8: 0.8931693095438739\n",
      "ROC 9: 0.894616858224867\n",
      "ROC 10: 0.8978565323186428\n",
      "ROC 11: 0.8936215893300455\n",
      "ROC 12: 0.8927119738656718\n",
      "ROC 13: 0.8935649359484674\n",
      "ROC 14: 0.8968216380126933\n",
      "ROC 15: 0.8896981714630343\n",
      "ROC 16: 0.8930864294356909\n",
      "ROC 17: 0.8988027716149029\n",
      "ROC 18: 0.8938924847098071\n",
      "ROC 19: 0.8937420062980209\n",
      "ROC 20: 0.8949170424008549\n"
     ]
    }
   ],
   "source": [
    "preds=np.zeros(test.shape[0])\n",
    "oof_predictions=np.zeros(len(data))\n",
    "kf=StratifiedKFold(n_splits=20,random_state=42,shuffle=True)\n",
    "roc=[]\n",
    "n=0\n",
    "for trn_idx,val_idx in kf.split(data,target):\n",
    "    train_x = data.iloc[trn_idx]\n",
    "    train_y = target.iloc[trn_idx]\n",
    "    val_x = data.iloc[val_idx]\n",
    "    val_y = target.iloc[val_idx]\n",
    "    \n",
    "    xgb_model=XGBClassifier(\n",
    "        random_state=0,\n",
    "        n_estimators=8790,\n",
    "        verbosity=1,\n",
    "        eval_metric=\"auc\",\n",
    "        tree_method=\"gpu_hist\",\n",
    "        gpu_id=0,\n",
    "        booster= 'gbtree',\n",
    "        alpha=0.26389513426946043,\n",
    "        colsample_bytree=0.5165904538770105,\n",
    "        gamma=7.272747952404219e-05,\n",
    "        reg_lambda=0.014576256860713442,\n",
    "        learning_rate=0.010786623160708754,\n",
    "        max_bin=338,\n",
    "        max_depth=17,\n",
    "        min_child_weight=30,\n",
    "        subsample=0.737564575608887,\n",
    "    )\n",
    "    xgb_model.fit(train_x,train_y,eval_set=[(val_x,val_y)],early_stopping_rounds=100,verbose=False)\n",
    "    preds+=xgb_model.predict_proba(test[all_features])[:,1]/kf.n_splits\n",
    "    oof_predictions += xgb_model.predict_proba(data[all_features])[:,1]/kf.n_splits\n",
    "    roc.append(roc_auc_score( val_y , xgb_model.predict_proba(val_x)[:,1]))\n",
    "    print(f\"ROC {n+1}: {roc[n]}\")\n",
    "    n=n+1"
   ]
  },
  {
   "cell_type": "code",
   "execution_count": 20,
   "metadata": {
    "execution": {
     "iopub.execute_input": "2021-03-27T12:15:51.999387Z",
     "iopub.status.busy": "2021-03-27T12:15:51.998677Z",
     "iopub.status.idle": "2021-03-27T12:15:53.138490Z",
     "shell.execute_reply": "2021-03-27T12:15:53.139657Z"
    },
    "papermill": {
     "duration": 1.165697,
     "end_time": "2021-03-27T12:15:53.139892",
     "exception": false,
     "start_time": "2021-03-27T12:15:51.974195",
     "status": "completed"
    },
    "tags": []
   },
   "outputs": [],
   "source": [
    "sub['target'] = preds\n",
    "sub.to_csv('xgb_1.csv' , index = False)"
   ]
  },
  {
   "cell_type": "code",
   "execution_count": null,
   "metadata": {
    "papermill": {
     "duration": 0.037521,
     "end_time": "2021-03-27T12:15:53.216009",
     "exception": false,
     "start_time": "2021-03-27T12:15:53.178488",
     "status": "completed"
    },
    "tags": []
   },
   "outputs": [],
   "source": []
  },
  {
   "cell_type": "code",
   "execution_count": null,
   "metadata": {
    "papermill": {
     "duration": 0.038859,
     "end_time": "2021-03-27T12:15:53.292922",
     "exception": false,
     "start_time": "2021-03-27T12:15:53.254063",
     "status": "completed"
    },
    "tags": []
   },
   "outputs": [],
   "source": []
  }
 ],
 "metadata": {
  "kernelspec": {
   "display_name": "Python 3",
   "language": "python",
   "name": "python3"
  },
  "language_info": {
   "codemirror_mode": {
    "name": "ipython",
    "version": 3
   },
   "file_extension": ".py",
   "mimetype": "text/x-python",
   "name": "python",
   "nbconvert_exporter": "python",
   "pygments_lexer": "ipython3",
   "version": "3.7.9"
  },
  "papermill": {
   "default_parameters": {},
   "duration": 2155.434214,
   "end_time": "2021-03-27T12:15:54.745905",
   "environment_variables": {},
   "exception": null,
   "input_path": "__notebook__.ipynb",
   "output_path": "__notebook__.ipynb",
   "parameters": {},
   "start_time": "2021-03-27T11:39:59.311691",
   "version": "2.2.2"
  }
 },
 "nbformat": 4,
 "nbformat_minor": 4
}
